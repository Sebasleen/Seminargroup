{
 "cells": [
  {
   "cell_type": "markdown",
   "source": [
    "## PLS\n",
    "eerste grote stappen in de pls"
   ],
   "metadata": {
    "collapsed": false
   },
   "id": "40a2d865176084ab"
  },
  {
   "cell_type": "code",
   "outputs": [],
   "source": [
    "import pandas as pd\n",
    "from sklearn.cross_decomposition import PLSRegression\n",
    "import calendar\n",
    "\n",
    "#loading dataframes \n",
    "\n",
    "File_url_d = 'https://raw.githubusercontent.com/Sebasleen/Seminargroup/Seminar/managed_portfolios_anom_d_50.csv'\n",
    "\n",
    "r_daily = pd.read_csv(File_url_d)\n",
    "\n",
    "# set date to datetime format and set the date to the index \n",
    "\n",
    "r_daily['date'] = pd.to_datetime(r_daily['date'])\n",
    "r_daily.set_index('date', inplace=True)\n",
    "\n",
    "# missing list = ['dur', 'divg', 'invaci', 'ipo'] -> deze worden gemaakt uit daily stock data doormiddel van een signals list?\n",
    "\n",
    "# following the procedure in the paper, if there are observations missing we set them to 0. \n",
    "\n",
    "r_daily.fillna(0, inplace=True)\n",
    "\n",
    "\n",
    "\n"
   ],
   "metadata": {
    "collapsed": false,
    "ExecuteTime": {
     "end_time": "2024-02-15T12:43:35.563884Z",
     "start_time": "2024-02-15T12:43:33.884031Z"
    }
   },
   "id": "224e6c97e573d7dc",
   "execution_count": 10
  },
  {
   "cell_type": "code",
   "outputs": [
    {
     "ename": "AttributeError",
     "evalue": "'DataFrame' object has no attribute 'append'",
     "output_type": "error",
     "traceback": [
      "\u001B[0;31m---------------------------------------------------------------------------\u001B[0m",
      "\u001B[0;31mAttributeError\u001B[0m                            Traceback (most recent call last)",
      "\u001B[0;32m/var/folders/zx/2ff938wn7d11yl1k3djhsp880000gn/T/ipykernel_9228/4149981333.py\u001B[0m in \u001B[0;36m?\u001B[0;34m()\u001B[0m\n\u001B[1;32m     56\u001B[0m         \u001B[0;31m# Append the monthly PLS returns to the dataframe\u001B[0m\u001B[0;34m\u001B[0m\u001B[0;34m\u001B[0m\u001B[0m\n\u001B[1;32m     57\u001B[0m         \u001B[0mpls_return_data\u001B[0m \u001B[0;34m=\u001B[0m \u001B[0;34m{\u001B[0m\u001B[0;34m'date'\u001B[0m\u001B[0;34m:\u001B[0m \u001B[0mend_date\u001B[0m\u001B[0;34m}\u001B[0m\u001B[0;34m\u001B[0m\u001B[0;34m\u001B[0m\u001B[0m\n\u001B[1;32m     58\u001B[0m         \u001B[0;32mfor\u001B[0m \u001B[0mf\u001B[0m \u001B[0;32min\u001B[0m \u001B[0mrange\u001B[0m\u001B[0;34m(\u001B[0m\u001B[0mlen\u001B[0m\u001B[0;34m(\u001B[0m\u001B[0mfactors\u001B[0m\u001B[0;34m)\u001B[0m\u001B[0;34m)\u001B[0m\u001B[0;34m:\u001B[0m\u001B[0;34m\u001B[0m\u001B[0;34m\u001B[0m\u001B[0m\n\u001B[1;32m     59\u001B[0m             \u001B[0mpls_return_data\u001B[0m\u001B[0;34m[\u001B[0m\u001B[0;34mf\"PLS{f+1}\"\u001B[0m\u001B[0;34m]\u001B[0m \u001B[0;34m=\u001B[0m \u001B[0mpredictions\u001B[0m\u001B[0;34m[\u001B[0m\u001B[0mf\u001B[0m\u001B[0;34m]\u001B[0m\u001B[0;34m\u001B[0m\u001B[0;34m\u001B[0m\u001B[0m\n\u001B[0;32m---> 60\u001B[0;31m         \u001B[0mpls_return_df\u001B[0m \u001B[0;34m=\u001B[0m \u001B[0mpls_return_df\u001B[0m\u001B[0;34m.\u001B[0m\u001B[0mappend\u001B[0m\u001B[0;34m(\u001B[0m\u001B[0mpls_return_data\u001B[0m\u001B[0;34m,\u001B[0m \u001B[0mignore_index\u001B[0m\u001B[0;34m=\u001B[0m\u001B[0;32mTrue\u001B[0m\u001B[0;34m)\u001B[0m\u001B[0;34m\u001B[0m\u001B[0;34m\u001B[0m\u001B[0m\n\u001B[0m\u001B[1;32m     61\u001B[0m \u001B[0;34m\u001B[0m\u001B[0m\n\u001B[1;32m     62\u001B[0m \u001B[0;31m# Print the resulting dataframe\u001B[0m\u001B[0;34m\u001B[0m\u001B[0;34m\u001B[0m\u001B[0m\n\u001B[1;32m     63\u001B[0m \u001B[0mprint\u001B[0m\u001B[0;34m(\u001B[0m\u001B[0;34m\"PLS Returns:\"\u001B[0m\u001B[0;34m)\u001B[0m\u001B[0;34m\u001B[0m\u001B[0;34m\u001B[0m\u001B[0m\n",
      "\u001B[0;32m~/anaconda3/lib/python3.11/site-packages/pandas/core/generic.py\u001B[0m in \u001B[0;36m?\u001B[0;34m(self, name)\u001B[0m\n\u001B[1;32m   5985\u001B[0m             \u001B[0;32mand\u001B[0m \u001B[0mname\u001B[0m \u001B[0;32mnot\u001B[0m \u001B[0;32min\u001B[0m \u001B[0mself\u001B[0m\u001B[0;34m.\u001B[0m\u001B[0m_accessors\u001B[0m\u001B[0;34m\u001B[0m\u001B[0;34m\u001B[0m\u001B[0m\n\u001B[1;32m   5986\u001B[0m             \u001B[0;32mand\u001B[0m \u001B[0mself\u001B[0m\u001B[0;34m.\u001B[0m\u001B[0m_info_axis\u001B[0m\u001B[0;34m.\u001B[0m\u001B[0m_can_hold_identifiers_and_holds_name\u001B[0m\u001B[0;34m(\u001B[0m\u001B[0mname\u001B[0m\u001B[0;34m)\u001B[0m\u001B[0;34m\u001B[0m\u001B[0;34m\u001B[0m\u001B[0m\n\u001B[1;32m   5987\u001B[0m         ):\n\u001B[1;32m   5988\u001B[0m             \u001B[0;32mreturn\u001B[0m \u001B[0mself\u001B[0m\u001B[0;34m[\u001B[0m\u001B[0mname\u001B[0m\u001B[0;34m]\u001B[0m\u001B[0;34m\u001B[0m\u001B[0;34m\u001B[0m\u001B[0m\n\u001B[0;32m-> 5989\u001B[0;31m         \u001B[0;32mreturn\u001B[0m \u001B[0mobject\u001B[0m\u001B[0;34m.\u001B[0m\u001B[0m__getattribute__\u001B[0m\u001B[0;34m(\u001B[0m\u001B[0mself\u001B[0m\u001B[0;34m,\u001B[0m \u001B[0mname\u001B[0m\u001B[0;34m)\u001B[0m\u001B[0;34m\u001B[0m\u001B[0;34m\u001B[0m\u001B[0m\n\u001B[0m",
      "\u001B[0;31mAttributeError\u001B[0m: 'DataFrame' object has no attribute 'append'"
     ]
    }
   ],
   "source": [
    "import pandas as pd\n",
    "from sklearn.cross_decomposition import PLSRegression\n",
    "import calendar\n",
    "\n",
    "# Define initial parameters\n",
    "initial_start_date = pd.to_datetime('1967-07-01')\n",
    "initial_training_years = 10\n",
    "\n",
    "# Define factors\n",
    "factors = [\n",
    "    'rme', 're_ew', 'r_size', 'r_value', 'r_prof', 'r_valprof', 'r_fscore',\n",
    "    'r_debtiss', 'r_repurch', 'r_nissa', 'r_accruals', 'r_growth', 'r_aturnover',\n",
    "    'r_gmargins', 'r_divp', 'r_ep', 'r_cfp', 'r_noa', 'r_inv', 'r_invcap',\n",
    "    'r_igrowth', 'r_sgrowth', 'r_lev', 'r_roaa', 'r_roea', 'r_sp', 'r_gltnoa',\n",
    "    'r_indmom', 'r_valmom', 'r_valmomprof', 'r_shortint', 'r_mom12', 'r_momrev',\n",
    "    'r_lrrev', 'r_valuem', 'r_nissm', 'r_sue', 'r_roe', 'r_rome', 'r_roa',\n",
    "    'r_strev', 'r_ivol', 'r_betaarb', 'r_season', 'r_indrrev', 'r_indrrevlv',\n",
    "    'r_indmomrev', 'r_ciss', 'r_price', 'r_age', 'r_shvol'\n",
    "]\n",
    "\n",
    "# Create an empty dataframe for monthly PLS returns\n",
    "pls_return_df = pd.DataFrame(columns=['date'] + [f\"PLS{i+1}\" for i in range(len(factors))])\n",
    "\n",
    "# Initialize an empty list to store PLS weights\n",
    "pls_weights_list = []\n",
    "\n",
    "# Loop through years and months\n",
    "for year in range(1973, 1975):\n",
    "    for month in range(6, 13) if year == 1973 else range(1, 13):\n",
    "\n",
    "        # Define start and end dates\n",
    "        last_day = calendar.monthrange(year, month)[1]\n",
    "        end_date = pd.to_datetime(f'{year}-{month}-{last_day}')\n",
    "\n",
    "        # For the expanding window, start date becomes initial start date\n",
    "        start_date = initial_start_date\n",
    "\n",
    "        # Select data range for PLS analysis\n",
    "        pls_data = r_daily.loc[start_date:end_date]\n",
    "\n",
    "        # Separate features (X) and target (y)\n",
    "        X = pls_data[factors]\n",
    "        y = pls_data['r_mom12']\n",
    "\n",
    "        # Fit PLS model\n",
    "        pls = PLSRegression(n_components=10)  # Adjust number of components as needed\n",
    "        pls.fit(X, y)\n",
    "\n",
    "        # Calculate predicted values\n",
    "        predictions = pls.predict(X)\n",
    "\n",
    "        # Extract and store PLS weights\n",
    "        pls_weights = pd.DataFrame(pls.x_weights_, index=factors, columns=[f\"PLS{i+1}\" for i in range(pls.x_weights_.shape[1])])\n",
    "        pls_weights_list.append(pls_weights)\n",
    "\n",
    "        # Append the monthly PLS returns to the dataframe\n",
    "        pls_return_data = {'date': end_date}\n",
    "        for f in range(len(factors)):\n",
    "            pls_return_data[f\"PLS{f+1}\"] = predictions[f]\n",
    "        pls_return_df = pls_return_df.append(pls_return_data, ignore_index=True)\n",
    "\n",
    "# Print the resulting dataframe\n",
    "print(\"PLS Returns:\")\n",
    "print(pls_return_df)\n",
    "\n",
    "# Print PLS weights\n",
    "for i, weights in enumerate(pls_weights_list, start=1):\n",
    "    print(f\"PLS Weights for month {i}:\")\n",
    "    print(weights)\n"
   ],
   "metadata": {
    "collapsed": false,
    "ExecuteTime": {
     "end_time": "2024-02-15T12:43:42.832039Z",
     "start_time": "2024-02-15T12:43:42.105938Z"
    }
   },
   "id": "e9963aef23035e26",
   "execution_count": 11
  },
  {
   "cell_type": "code",
   "outputs": [],
   "source": [],
   "metadata": {
    "collapsed": false
   },
   "id": "8d1d02c4f8096a19"
  }
 ],
 "metadata": {
  "kernelspec": {
   "display_name": "Python 3",
   "language": "python",
   "name": "python3"
  },
  "language_info": {
   "codemirror_mode": {
    "name": "ipython",
    "version": 2
   },
   "file_extension": ".py",
   "mimetype": "text/x-python",
   "name": "python",
   "nbconvert_exporter": "python",
   "pygments_lexer": "ipython2",
   "version": "2.7.6"
  }
 },
 "nbformat": 4,
 "nbformat_minor": 5
}
