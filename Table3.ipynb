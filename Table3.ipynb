{
 "cells": [
  {
   "cell_type": "code",
   "execution_count": null,
   "id": "initial_id",
   "metadata": {
    "collapsed": true
   },
   "outputs": [],
   "source": [
    "import pandas as pd\n",
    "import numpy as np\n",
    "from sklearn.decomposition import PCA\n",
    "from datetime import datetime\n"
   ]
  },
  {
   "cell_type": "markdown",
   "source": [
    "## Table 3 \n",
    "hier komt tabel 3, maar ik was nog even bezig met het bekijken hoe zij deze data hebben verkregen"
   ],
   "metadata": {
    "collapsed": false
   },
   "id": "40a2d865176084ab"
  },
  {
   "cell_type": "code",
   "outputs": [],
   "source": [
    "# loading dataframes \n",
    "\n",
    "monthly_df = pd.read_csv('managed_portfolios_anom_50.csv')\n",
    "daily_df = pd.read_csv('managed_portfolios_anom_d_50.csv')\n",
    "\n",
    "# drop all momentum factors or factors that are constructed based on momentum\n",
    "\n",
    "momentum_list = ['r_mom', 'r_indmom', 'r_valmom', 'r_valmomprof', 'r_mom12', 'r_momrev', 'r_indmomrev']\n",
    "monthly_df.drop(columns=momentum_list, inplace=True)\n",
    "daily_df.drop(columns=momentum_list, inplace=True)\n",
    "\n",
    "# missing list = ['dur', 'divg', 'invaci', 'ipo'] -> deze worden gemaakt uit daily stock data doormiddel van een signals list\n",
    "\n",
    "# create datetime column and set to YYYY-MM format of full monthly sample\n",
    "\n",
    "monthly_df['date'] = pd.to_datetime(monthly_df['date'])\n",
    "monthly_full = monthly_df.set_index('date').to_period('M').reset_index()\n",
    "\n",
    "# create datetime column and set to YYYY-MM format for monthly sample from July 1973\n",
    "\n",
    "monthly_1973 = monthly_df[monthly_df['date'] >= pd.Timestamp(1973, 7, 1)]\n",
    "monthly_1973 = monthly_df.set_index('date').to_period('M').reset_index()\n",
    "\n",
    "# create datetime column for daily sample \n",
    "\n",
    "daily_df['date'] = pd.to_datetime(daily_df['date'])\n",
    "daily_1973 = daily_df.copy()\n",
    "daily_full = daily_df.copy()\n",
    "\n",
    "# create the daily sample from July 1973\n",
    "\n",
    "daily_1973 = daily_1973[daily_1973['date'] >= pd.Timestamp(1973, 7, 1)]\n",
    "daily_1973.reset_index(drop=True, inplace=True)\n",
    "\n",
    "\n",
    "# if there are missing values, we replace them with a 0 (as the paper also mentions) (zie voetnoot 16 KNS)\n",
    "\n",
    "monthly_full.fillna(0, inplace=True)\n",
    "daily_full.fillna(0, inplace=True)\n",
    "monthly_1973.fillna(0, inplace=True)\n",
    "daily_1973.fillna(0, inplace=True)\n",
    "\n",
    "print(daily_full.head(5))\n",
    "print(monthly_full.head(5))"
   ],
   "metadata": {
    "collapsed": false
   },
   "id": "224e6c97e573d7dc"
  },
  {
   "cell_type": "code",
   "outputs": [],
   "source": [
    "# deze loop heb ik nagemaakt uit het onderzoek. Volgens mij repliceert dit exact de wijze waarop zij dat ook in het onderzoek in stap 1 en 2 doen. \n",
    "# Echter zijn er dus te weinig dimensies aanwezig. Ik zie in hun stappen niet goed hoe zij de data gebruik uit 1963 om de PCs te berekenen. \n",
    "# Geen idee hoe dit anders moet. Ik heb wel getest indien er genoeg dimensies zijn, dat werkt gewoon. \n",
    "\n",
    "for year in range(1974, 1975):\n",
    "    for month in range(1, 13):\n",
    "\n",
    "        # Pakt hier de subsample maand met de daily returns (met gegevens uit de loop)\n",
    "\n",
    "        subsample = daily_df[(daily_df['date'].dt.year == year) & (daily_df['date'].dt.month == month)]\n",
    "\n",
    "        # maakt een aparte df aan voor de returns met corresponderende datum (de market return rme en equally weighted return re_ew worden gedropt dus)\n",
    "\n",
    "        subsample_returns = subsample.drop(['rme', 're_ew'], axis=1)\n",
    "        subsample_returns.set_index('date', inplace=True)\n",
    "\n",
    "        # een toevoeging dat subsample niet leeg mag zijn, want onze data begint in July en anders werkt het begin van de loop niet. \n",
    "\n",
    "        if not subsample.empty:\n",
    "            # Deze line extract de factors uit de dataframe. Deze starten allemaal met r_\n",
    "            factor_vars = [col for col in subsample.columns if col.startswith('r_')]\n",
    "\n",
    "            # Deze converteert de data zodat alleen de factor returns aanwezig zijn. (Dus haalt effectief de date, rme, en re_ew weg)\n",
    "            pca_data = subsample[factor_vars]\n",
    "\n",
    "            # Voert de PCA uit met het aantal components gelijk aan het aantal factoren\n",
    "            pca_results = PCA(n_components=len(factor_vars)).fit(pca_data)\n",
    "\n",
    "            # De eigen vectors zijn de components van de PCA, deze komen eruit als een array (dus een lijst in de vorm van een vector: [X1, X2, ..., Xn])\n",
    "            eigenvectors = pca_results.components_\n",
    "\n",
    "            # Dit berekent de dagelijkse vector returns, door de daily returns te vermenigvuldigen et de eigenvectors (conform stap 2). \n",
    "            pc_factor_returns = np.dot(subsample_returns.values, eigenvectors.T)\n",
    "\n",
    "            # Deze worden vervolgens in een dataframe gezet \n",
    "            pc_factor_returns_df = pd.DataFrame(pc_factor_returns, index=subsample_returns.index)\n",
    "\n",
    "            # Vervolgens worden ze geresampled (oftewel opgeteld conform de formule gegeven in stap 2). \n",
    "            monthly_pc_factor_returns = pc_factor_returns_df.resample('M').sum()\n",
    "            print(monthly_pc_factor_returns)"
   ],
   "metadata": {
    "collapsed": false
   },
   "id": "c233f0874be4e66c"
  }
 ],
 "metadata": {
  "kernelspec": {
   "display_name": "Python 3",
   "language": "python",
   "name": "python3"
  },
  "language_info": {
   "codemirror_mode": {
    "name": "ipython",
    "version": 2
   },
   "file_extension": ".py",
   "mimetype": "text/x-python",
   "name": "python",
   "nbconvert_exporter": "python",
   "pygments_lexer": "ipython2",
   "version": "2.7.6"
  }
 },
 "nbformat": 4,
 "nbformat_minor": 5
}
