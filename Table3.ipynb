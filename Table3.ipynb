{
 "cells": [
  {
   "cell_type": "code",
   "execution_count": null,
   "id": "initial_id",
   "metadata": {
    "collapsed": true
   },
   "outputs": [],
   "source": [
    "import pandas as pd\n",
    "import calendar\n",
    "import numpy as np\n",
    "from sklearn.decomposition import PCA\n",
    "from datetime import datetime\n",
    "\n"
   ]
  },
  {
   "cell_type": "markdown",
   "source": [
    "## Table 3 \n",
    "hier komt tabel 3, maar ik was nog even bezig met het bekijken hoe zij deze data hebben verkregen"
   ],
   "metadata": {
    "collapsed": false
   },
   "id": "40a2d865176084ab"
  },
  {
   "cell_type": "code",
   "outputs": [],
   "source": [
    "# loading dataframes \n",
    "\n",
    "r_daily = pd.read_csv('managed_portfolios_anom_d_50.csv')\n",
    "\n",
    "# drop all momentum factors or factors that are constructed based on momentum\n",
    "\n",
    "momentum_list = ['r_mom', 'r_indmom', 'r_valmom', 'r_valmomprof', 'r_mom12', 'r_momrev', 'r_indmomrev']\n",
    "r_daily.drop(columns=momentum_list, inplace=True)\n",
    "\n",
    "# set date to datetime format and set the date to the index \n",
    "\n",
    "r_daily['date'] = pd.to_datetime(r_daily['date'])\n",
    "r_daily.set_index('date', inplace=True)\n",
    "\n",
    "# missing list = ['dur', 'divg', 'invaci', 'ipo'] -> deze worden gemaakt uit daily stock data doormiddel van een signals list?\n",
    "\n",
    "# following the procedure in the paper, if there are observations missing we set them to 0. \n",
    "\n",
    "r_daily.fillna(0, inplace=True)\n",
    "\n",
    "# create a list of factors for later analysis purposes \n",
    "\n",
    "factors = [col for col in r_daily.columns if col.startswith('r_')]"
   ],
   "metadata": {
    "collapsed": false
   },
   "id": "224e6c97e573d7dc"
  },
  {
   "cell_type": "code",
   "outputs": [],
   "source": [
    "# initialize pca model \n",
    "\n",
    "pca = PCA(n_components=len(factors))\n",
    "\n",
    "# select our start date \n",
    "\n",
    "start_date = pd.to_datetime(\"1963-07-01\")\n",
    "\n",
    "# create an empty dataframe for our monthly pc returns\n",
    "\n",
    "pc_return_df = pd.DataFrame(columns=['date'] + [f\"PC{i+1}\" for i in range(len(factors))])\n",
    "\n",
    "# create our loop set up, this is actually an expanding PCA analysis. In each iteration a new month is added to the dataset and the return is computed. \n",
    "\n",
    "for year in range(1974, 1975):\n",
    "    for mo in range(1, 13):\n",
    "        # first we have to find the last month of the day. For this we use the calender function with inputs from the loop variables\n",
    "        last_day = calendar.monthrange(year, mo)[1]\n",
    "\n",
    "        # we select our new end_date variable for which the PCA analysis is done, also with inputs from our loop and the last_day variable\n",
    "        end_date = pd.to_datetime(f'{year}-{mo}-{last_day}')\n",
    "\n",
    "        # we select the datarange from our dataset (July 1963 = start_date until our defined end_date) and we fit the model\n",
    "        pca_data = r_daily.loc[start_date:end_date]\n",
    "        pca.fit(pca_data)\n",
    "\n",
    "        # we extract the principal components. These principal components are put in a new dataframe for later analysis. \n",
    "\n",
    "        principal_components = pca.transform(pca_data)\n",
    "        principal_df = pd.DataFrame(data=principal_components, index=pca_data.index, columns=[f\"PC{i+1}\" for i in range(len(factors))])\n",
    "        principal_df.index = pd.to_datetime(principal_df.index)\n",
    "\n",
    "        # calculating return for month t+1. If mo = 12, then year will increment with 1. \n",
    "\n",
    "        return_year = year + 1 if mo == 12 else year\n",
    "        return_month = (mo % 12) + 1\n",
    "\n",
    "        # creating a datetime variable for the month t+1 and storing this in our pc_return_data variable\n",
    "\n",
    "        return_date =pd.to_datetime(f'{return_year}-{return_month}')\n",
    "        pc_return_data = {'date': return_date}\n",
    "\n",
    "        # in this loop we calculate the monthly factor returns (f) using the principal components and returns\n",
    "\n",
    "        for f in range(len(factors)):\n",
    "            # select our factor and extract its principal component from principal_df and its return from r_daily for all observations in month mo \n",
    "            pc_f = principal_df[(principal_df.index.year == year) & (principal_df.index.month == mo)][principal_df.columns[f]]\n",
    "            return_f = r_daily.loc[(r_daily.index.year == year) & (r_daily.index.month == mo), factors[f]]\n",
    "\n",
    "            # multiply the principal components with the returns and sum them up to get PC factor return for month mo \n",
    "            pc_return_f = (pc_f*return_f).sum()\n",
    "\n",
    "            # put the calculated return in our pc_return_data variable\n",
    "            pc_return_data[principal_df.columns[f]] = pc_return_f\n",
    "\n",
    "        # concat all the dataframes in our pc_return_df (this we can use for later analysis)\n",
    "        pc_return_df = pd.concat([pc_return_df, pd.DataFrame(pc_return_data, index=[0])], ignore_index=True)\n",
    "\n",
    "print(pc_return_df)"
   ],
   "metadata": {
    "collapsed": false
   },
   "id": "c233f0874be4e66c"
  }
 ],
 "metadata": {
  "kernelspec": {
   "display_name": "Python 3",
   "language": "python",
   "name": "python3"
  },
  "language_info": {
   "codemirror_mode": {
    "name": "ipython",
    "version": 2
   },
   "file_extension": ".py",
   "mimetype": "text/x-python",
   "name": "python",
   "nbconvert_exporter": "python",
   "pygments_lexer": "ipython2",
   "version": "2.7.6"
  }
 },
 "nbformat": 4,
 "nbformat_minor": 5
}
