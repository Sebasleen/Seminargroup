{
 "cells": [
  {
   "cell_type": "code",
   "execution_count": 174,
   "id": "3f30736b-abcd-492c-afca-6733022563dd",
   "metadata": {
    "tags": []
   },
   "outputs": [],
   "source": [
    "import numpy as np\n",
    "import seaborn as sns\n",
    "import pandas as pd\n",
    "import statsmodels.api as sm"
   ]
  },
  {
   "cell_type": "code",
   "execution_count": 176,
   "id": "421d25a2-861a-4ac7-beaa-79c8fbe5abf1",
   "metadata": {
    "tags": []
   },
   "outputs": [
    {
     "name": "stdout",
     "output_type": "stream",
     "text": [
      "       year  month anomaly    ret   time  global\n",
      "0      1963      7      ac  2.170   42.0     0.0\n",
      "1      1963      8      ac -0.197   43.0     0.0\n",
      "2      1963      9      ac  0.600   44.0     0.0\n",
      "3      1963     10      ac  6.463   45.0     0.0\n",
      "4      1963     11      ac -2.260   46.0     0.0\n",
      "...     ...    ...     ...    ...    ...     ...\n",
      "12638  2019      8   glumd  2.990  715.0     1.0\n",
      "12639  2019      9   glumd -3.260  716.0     1.0\n",
      "12640  2019     10   glumd -0.940  717.0     1.0\n",
      "12641  2019     11   glumd  0.000  718.0     1.0\n",
      "12642  2019     12   glumd  0.740  719.0     1.0\n",
      "\n",
      "[12643 rows x 6 columns]\n"
     ]
    }
   ],
   "source": [
    "file_url = 'https://raw.githubusercontent.com/Sebasleen/Seminargroup/Seminar/US%20Factors/anomalies.dta'\n",
    "\n",
    "# Read the Stata file content\n",
    "Anomalies = pd.read_stata(file_url)\n",
    "print(Anomalies)"
   ]
  },
  {
   "cell_type": "markdown",
   "id": "0850bb00-8fa1-4b2b-a009-5820bc7ff3af",
   "metadata": {},
   "source": [
    "<font size='4' face='Times new Roman'>    \n",
    "\n",
    "US factors:\n",
    "\n",
    "- **-ac**: Accruals\n",
    "- **-bab**: Betting against Beta\n",
    "- **-cfp**: Cash-flow to price\n",
    "- **-cma**: Investment (Conservative minus aggressive)\n",
    "- **-ep**: Earnings to price\n",
    "- **-hml**: Value\n",
    "- **-liq**: Liquidity\n",
    "- **-ltrev**: Long-term reversal\n",
    "- **-nsi**: Net share issue\n",
    "- **-qmj**: Quality minus junk\n",
    "- **-rmw**: Profitability\n",
    "- **-rvar**: Residual Variance\n",
    "- **-smb**: Size\n",
    "- **-strev**: Short-term reversals\n",
    "- **-umd**: Momentum\n",
    "\n",
    "Global factors:\n",
    "\n",
    "- **glbab**: Betting against beta\n",
    "- **glcma**: Investment (Conservative minus aggressive)\n",
    "- **glhml**: Value (high minus low)\n",
    "- **glqmj**: Quality minus junk\n",
    "- **glrmw**: Profitability (robust minus weak)\n",
    "- **glumd**: Momentum (up minus down)\n",
    "- **glsmb**: Size (small minus big)\n",
    "\n",
    "</font>"
   ]
  },
  {
   "cell_type": "code",
   "execution_count": 270,
   "id": "61f1c310-95be-4e2e-a66b-414aaee4df8f",
   "metadata": {
    "tags": []
   },
   "outputs": [
    {
     "name": "stdout",
     "output_type": "stream",
     "text": [
      "   Anomaly     Alpha  T-stat_Alpha     Slope  T-stat_Slope\n",
      "0       ac  0.150195      1.184450  0.101410      0.649822\n",
      "1      bab -0.221412     -0.632211  1.319041      3.534152\n",
      "2      cfp  0.127745      0.781292  0.235454      1.157989\n",
      "3      cma  0.120082      0.974474  0.244693      1.545819\n",
      "4       ep  0.101357      0.616107  0.302075      1.458207\n",
      "5      hml  0.038477      0.204762  0.410255      1.780679\n",
      "6      liq  0.157215      0.741922  0.356063      1.291807\n",
      "7    ltrev -0.252989     -1.663307  0.757680      3.850110\n",
      "8      nsi  0.172982      1.324451  0.089249      0.486779\n",
      "9      qmj  0.086832      0.650364  0.434757      2.507550\n",
      "10     rmw  0.040360      0.222250  0.337185      1.673841\n",
      "11    rvar -0.463569     -1.638345  1.061609      2.737366\n",
      "12     smb -0.104191     -0.615583  0.583455      2.508982\n",
      "13   strev  0.485098      1.427336  0.013888      0.038600\n",
      "14     umd  0.716042      2.697340 -0.094969     -0.288098\n",
      "15   glbab  0.190820      0.577502  0.837610      2.303918\n",
      "16   glcma -0.064014     -0.408285  0.382064      1.944285\n",
      "17   glhml  0.035556      0.150752  0.471689      1.770057\n",
      "18   glqmj  0.394512      1.761234  0.124643      0.492025\n",
      "19   glrmw  0.137826      1.033410  0.256716      1.616411\n",
      "20   glsmb -0.063285     -0.388832  0.284797      1.325669\n",
      "21   glumd  0.668710      1.774142  0.017124      0.039403\n"
     ]
    }
   ],
   "source": [
    "# Assuming your dataset is named 'Anomalies'\n",
    "# Create an empty list to store results\n",
    "results_list = []\n",
    "\n",
    "# Iterate through unique anomalies\n",
    "for anomaly in Anomalies['anomaly'].unique():\n",
    "    # Filter the data for the current anomaly\n",
    "    subset = Anomalies[Anomalies['anomaly'] == anomaly]\n",
    "    \n",
    "    # Sort the subset based on the 'time' column\n",
    "    subset = subset.sort_values(by='time')\n",
    "    \n",
    "    # Create an indicator variable for positive returns in the past 12 months\n",
    "    subset['positive_return'] = subset['ret'].rolling(window=12, min_periods=1).mean().shift(1) > 0\n",
    "    \n",
    "    # Drop the first 12 observations in the subset\n",
    "    subset = subset.iloc[12:]\n",
    "    \n",
    "    # Extract dependent and explanatory variables\n",
    "    y = subset['ret']\n",
    "    X = sm.add_constant(subset['positive_return'].astype(int))\n",
    "    \n",
    "    # Fit the model\n",
    "    model = sm.OLS(y, X)\n",
    "    results = model.fit(cov_type='cluster', cov_kwds={'groups': subset['time']})\n",
    "    \n",
    "    # Append results to the list\n",
    "    results_list.append({\n",
    "        'Anomaly': anomaly,\n",
    "        'Alpha': results.params['const'],\n",
    "        'T-stat_Alpha': results.tvalues['const'],\n",
    "        'Slope': results.params['positive_return'],\n",
    "        'T-stat_Slope': results.tvalues['positive_return'],\n",
    "    })\n",
    "\n",
    "# Convert the list of dictionaries to a DataFrame\n",
    "results_table = pd.DataFrame(results_list)\n",
    "\n",
    "# Display the results table\n",
    "print(results_table)"
   ]
  },
  {
   "cell_type": "code",
   "execution_count": 274,
   "id": "ef61dd9c-b456-4175-b52b-7f5f560a1449",
   "metadata": {
    "tags": []
   },
   "outputs": [
    {
     "name": "stdout",
     "output_type": "stream",
     "text": [
      "   Anomaly     Alpha  T-stat_Alpha     Slope  T-stat_Slope\n",
      "0   Pooled -0.108631     -1.727635  0.674769      8.876950\n",
      "1       ac  0.150195      1.184450  0.101410      0.649822\n",
      "2      hml  0.038477      0.204762  0.410255      1.780679\n",
      "3    strev  0.485098      1.427336  0.013888      0.038600\n",
      "4      cfp  0.127745      0.781292  0.235454      1.157989\n",
      "5      smb -0.104191     -0.615583  0.583455      2.508982\n",
      "6    ltrev -0.252989     -1.663307  0.757680      3.850110\n",
      "7     rvar -0.463569     -1.638345  1.061609      2.737366\n",
      "8      rmw  0.040360      0.222250  0.337185      1.673841\n",
      "9      bab -0.221412     -0.632211  1.319041      3.534152\n",
      "10      ep  0.101357      0.616107  0.302075      1.458207\n",
      "11     qmj  0.086832      0.650364  0.434757      2.507550\n",
      "12     nsi  0.172982      1.324451  0.089249      0.486779\n",
      "13     cma  0.120082      0.974474  0.244693      1.545819\n",
      "14     liq  0.157215      0.741922  0.356063      1.291807\n",
      "15   glbab  0.190820      0.577502  0.837610      2.303918\n",
      "16   glqmj  0.394512      1.761234  0.124643      0.492025\n",
      "17   glhml  0.035556      0.150752  0.471689      1.770057\n",
      "18   glsmb -0.063285     -0.388832  0.284797      1.325669\n",
      "19   glcma -0.064014     -0.408285  0.382064      1.944285\n",
      "20   glrmw  0.137826      1.033410  0.256716      1.616411\n"
     ]
    },
    {
     "name": "stderr",
     "output_type": "stream",
     "text": [
      "C:\\Users\\Tinot\\AppData\\Local\\Temp\\ipykernel_26640\\2513366847.py:13: SettingWithCopyWarning: \n",
      "A value is trying to be set on a copy of a slice from a DataFrame.\n",
      "Try using .loc[row_indexer,col_indexer] = value instead\n",
      "\n",
      "See the caveats in the documentation: https://pandas.pydata.org/pandas-docs/stable/user_guide/indexing.html#returning-a-view-versus-a-copy\n",
      "  Anomalies_pooled['positive_return'] = Anomalies_pooled['ret'].rolling(window=12, min_periods=1).mean().shift(1) > 0\n"
     ]
    }
   ],
   "source": [
    "# Assuming your dataset is named 'Anomalies'\n",
    "# Create an empty list to store results\n",
    "results_list = []\n",
    "\n",
    "# Perform pooled regression\n",
    "# Sort the entire dataset based on the 'time' column\n",
    "Anomalies = Anomalies.sort_values(by='time')\n",
    "\n",
    "# Exclude factors 'umd' and 'glumd'\n",
    "Anomalies_pooled = Anomalies[~Anomalies['anomaly'].isin(['umd', 'glumd'])]\n",
    "\n",
    "# Create an indicator variable for positive returns in the past 12 months for the entire dataset\n",
    "Anomalies_pooled['positive_return'] = Anomalies_pooled['ret'].rolling(window=12, min_periods=1).mean().shift(1) > 0\n",
    "\n",
    "# Extract dependent and explanatory variables for the entire dataset\n",
    "y_pooled = Anomalies_pooled['ret']\n",
    "X_pooled = sm.add_constant(Anomalies_pooled['positive_return'].astype(int))\n",
    "\n",
    "# Fit the pooled model\n",
    "model_pooled = sm.OLS(y_pooled, X_pooled)\n",
    "results_pooled = model_pooled.fit(cov_type='cluster', cov_kwds={'groups': Anomalies_pooled['time']})\n",
    "\n",
    "# Append pooled results to the list\n",
    "results_list.append({\n",
    "    'Anomaly': 'Pooled',\n",
    "    'Alpha': results_pooled.params['const'],\n",
    "    'T-stat_Alpha': results_pooled.tvalues['const'],\n",
    "    'Slope': results_pooled.params['positive_return'],\n",
    "    'T-stat_Slope': results_pooled.tvalues['positive_return'],\n",
    "})\n",
    "\n",
    "# Iterate through unique anomalies\n",
    "for anomaly in Anomalies['anomaly'].unique():\n",
    "    # Skip 'umd' and 'glumd'\n",
    "    if anomaly in ['umd', 'glumd']:\n",
    "        continue\n",
    "    \n",
    "    # Filter the data for the current anomaly\n",
    "    subset = Anomalies[Anomalies['anomaly'] == anomaly]\n",
    "    \n",
    "    # Sort the subset based on the 'time' column\n",
    "    subset = subset.sort_values(by='time')\n",
    "    \n",
    "    # Create an indicator variable for positive returns in the past 12 months\n",
    "    subset['positive_return'] = subset['ret'].rolling(window=12, min_periods=1).mean().shift(1) > 0\n",
    "    \n",
    "    # Drop the first 12 observations in the subset\n",
    "    subset = subset.iloc[12:]\n",
    "    \n",
    "    # Extract dependent and explanatory variables\n",
    "    y = subset['ret']\n",
    "    X = sm.add_constant(subset['positive_return'].astype(int))\n",
    "    \n",
    "    # Fit the model\n",
    "    model = sm.OLS(y, X)\n",
    "    results = model.fit(cov_type='cluster', cov_kwds={'groups': subset['time']})\n",
    "    \n",
    "    # Append results to the list\n",
    "    results_list.append({\n",
    "        'Anomaly': anomaly,\n",
    "        'Alpha': results.params['const'],\n",
    "        'T-stat_Alpha': results.tvalues['const'],\n",
    "        'Slope': results.params['positive_return'],\n",
    "        'T-stat_Slope': results.tvalues['positive_return'],\n",
    "    })\n",
    "\n",
    "# Convert the list of dictionaries to a DataFrame\n",
    "results_table = pd.DataFrame(results_list)\n",
    "\n",
    "# Display the results table\n",
    "print(results_table)"
   ]
  },
  {
   "cell_type": "code",
   "execution_count": null,
   "id": "fe4f2a0a-83b2-4fa5-8111-e6a356a54c7f",
   "metadata": {},
   "outputs": [],
   "source": []
  }
 ],
 "metadata": {
  "kernelspec": {
   "display_name": "Python 3 (ipykernel)",
   "language": "python",
   "name": "python3"
  },
  "language_info": {
   "codemirror_mode": {
    "name": "ipython",
    "version": 3
   },
   "file_extension": ".py",
   "mimetype": "text/x-python",
   "name": "python",
   "nbconvert_exporter": "python",
   "pygments_lexer": "ipython3",
   "version": "3.11.5"
  }
 },
 "nbformat": 4,
 "nbformat_minor": 5
}
