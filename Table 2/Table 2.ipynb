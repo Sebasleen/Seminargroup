{
 "cells": [
  {
   "cell_type": "code",
   "execution_count": 1,
   "id": "3f30736b-abcd-492c-afca-6733022563dd",
   "metadata": {
    "tags": []
   },
   "outputs": [],
   "source": [
    "import numpy as np\n",
    "import pandas as pd\n",
    "import statsmodels.api as sm"
   ]
  },
  {
   "cell_type": "code",
   "execution_count": 2,
   "id": "421d25a2-861a-4ac7-beaa-79c8fbe5abf1",
   "metadata": {
    "tags": []
   },
   "outputs": [
    {
     "name": "stdout",
     "output_type": "stream",
     "text": [
      "       year  month anomaly    ret   time  global\n",
      "0      1963      7      ac  2.170   42.0     0.0\n",
      "1      1963      8      ac -0.197   43.0     0.0\n",
      "2      1963      9      ac  0.600   44.0     0.0\n",
      "3      1963     10      ac  6.463   45.0     0.0\n",
      "4      1963     11      ac -2.260   46.0     0.0\n",
      "...     ...    ...     ...    ...    ...     ...\n",
      "12638  2019      8   glumd  2.990  715.0     1.0\n",
      "12639  2019      9   glumd -3.260  716.0     1.0\n",
      "12640  2019     10   glumd -0.940  717.0     1.0\n",
      "12641  2019     11   glumd  0.000  718.0     1.0\n",
      "12642  2019     12   glumd  0.740  719.0     1.0\n",
      "\n",
      "[12643 rows x 6 columns]\n"
     ]
    }
   ],
   "source": [
    "file_url = 'https://raw.githubusercontent.com/Sebasleen/Seminargroup/Seminar/US%20Factors/anomalies.dta'\n",
    "\n",
    "# Read the Stata file content\n",
    "Anomalies = pd.read_stata(file_url)\n",
    "print(Anomalies)"
   ]
  },
  {
   "cell_type": "markdown",
   "id": "0850bb00-8fa1-4b2b-a009-5820bc7ff3af",
   "metadata": {},
   "source": [
    "<font size='4' face='Times new Roman'>    \n",
    "\n",
    "US factors:\n",
    "\n",
    "- **-ac**: Accruals\n",
    "- **-bab**: Betting against Beta\n",
    "- **-cfp**: Cash-flow to price\n",
    "- **-cma**: Investment (Conservative minus aggressive)\n",
    "- **-ep**: Earnings to price\n",
    "- **-hml**: Value\n",
    "- **-liq**: Liquidity\n",
    "- **-ltrev**: Long-term reversal\n",
    "- **-nsi**: Net share issue\n",
    "- **-qmj**: Quality minus junk\n",
    "- **-rmw**: Profitability\n",
    "- **-rvar**: Residual Variance\n",
    "- **-smb**: Size\n",
    "- **-strev**: Short-term reversals\n",
    "- **-umd**: Momentum\n",
    "\n",
    "Global factors:\n",
    "\n",
    "- **glbab**: Betting against beta\n",
    "- **glcma**: Investment (Conservative minus aggressive)\n",
    "- **glhml**: Value (high minus low)\n",
    "- **glqmj**: Quality minus junk\n",
    "- **glrmw**: Profitability (robust minus weak)\n",
    "- **glumd**: Momentum (up minus down)\n",
    "- **glsmb**: Size (small minus big)\n",
    "\n",
    "</font>"
   ]
  },
  {
   "cell_type": "markdown",
   "id": "f01d85aa-b9c1-44eb-91aa-c77530222038",
   "metadata": {},
   "source": [
    "**Replicating the time series regressions**"
   ]
  },
  {
   "cell_type": "code",
   "execution_count": 5,
   "id": "61f1c310-95be-4e2e-a66b-414aaee4df8f",
   "metadata": {
    "tags": []
   },
   "outputs": [
    {
     "name": "stdout",
     "output_type": "stream",
     "text": [
      "   Anomaly     Alpha  T-stat_Alpha     Slope  T-stat_Slope\n",
      "0       ac  0.150195      1.184450  0.101410      0.649822\n",
      "1      bab -0.221412     -0.632211  1.319041      3.534152\n",
      "2      cfp  0.127745      0.781292  0.235454      1.157989\n",
      "3      cma  0.120082      0.974474  0.244693      1.545819\n",
      "4       ep  0.101357      0.616107  0.302075      1.458207\n",
      "5      hml  0.038477      0.204762  0.410255      1.780679\n",
      "6      liq  0.157215      0.741922  0.356063      1.291807\n",
      "7    ltrev -0.252989     -1.663307  0.757680      3.850110\n",
      "8      nsi  0.172982      1.324451  0.089249      0.486779\n",
      "9      qmj  0.086832      0.650364  0.434757      2.507550\n",
      "10     rmw  0.040360      0.222250  0.337185      1.673841\n",
      "11    rvar -0.463569     -1.638345  1.061609      2.737366\n",
      "12     smb -0.104191     -0.615583  0.583455      2.508982\n",
      "13   strev  0.485098      1.427336  0.013888      0.038600\n",
      "14     umd  0.716042      2.697340 -0.094969     -0.288098\n",
      "15   glbab  0.190820      0.577502  0.837610      2.303918\n",
      "16   glcma -0.064014     -0.408285  0.382064      1.944285\n",
      "17   glhml  0.035556      0.150752  0.471689      1.770057\n",
      "18   glqmj  0.394512      1.761234  0.124643      0.492025\n",
      "19   glrmw  0.137826      1.033410  0.256716      1.616411\n",
      "20   glsmb -0.063285     -0.388832  0.284797      1.325669\n",
      "21   glumd  0.668710      1.774142  0.017124      0.039403\n"
     ]
    }
   ],
   "source": [
    "# Create an empty list to store results\n",
    "results_list = []\n",
    "\n",
    "for anomaly in Anomalies['anomaly'].unique():\n",
    "    subset = Anomalies[Anomalies['anomaly'] == anomaly]\n",
    "    subset = subset.sort_values(by='time')\n",
    "    \n",
    "    # Create a binary variable for positive returns in the past 12 months\n",
    "    subset['positive_return'] = subset['ret'].rolling(window=12, min_periods=12).mean().shift(1) > 0\n",
    "    \n",
    "    # Drop the first 12 observations in the subset after the rolling window has been applied\n",
    "    subset = subset.iloc[12:]\n",
    "    \n",
    "    # Set up and fit the model\n",
    "    y = subset['ret']\n",
    "    X = sm.add_constant(subset['positive_return'].astype(int))\n",
    "    model = sm.OLS(y, X)\n",
    "    results = model.fit(cov_type='cluster', cov_kwds={'groups': subset['time']})\n",
    "    \n",
    "    # Add the results to a list\n",
    "    results_list.append({\n",
    "        'Anomaly': anomaly,\n",
    "        'Alpha': results.params['const'],\n",
    "        'T-stat_Alpha': results.tvalues['const'],\n",
    "        'Slope': results.params['positive_return'],\n",
    "        'T-stat_Slope': results.tvalues['positive_return'],\n",
    "    })\n",
    "\n",
    "results_table = pd.DataFrame(results_list)\n",
    "print(results_table)"
   ]
  },
  {
   "cell_type": "markdown",
   "id": "e74ab7ac-30e5-49f7-99b3-927c9dfdf734",
   "metadata": {},
   "source": [
    "**Replicating the pooled regression results**"
   ]
  },
  {
   "cell_type": "code",
   "execution_count": 7,
   "id": "0ec55f1b-e71a-4f07-8ae7-43200d0407b3",
   "metadata": {
    "tags": []
   },
   "outputs": [
    {
     "name": "stdout",
     "output_type": "stream",
     "text": [
      "                            OLS Regression Results                            \n",
      "==============================================================================\n",
      "Dep. Variable:                    ret   R-squared:                       0.000\n",
      "Model:                            OLS   Adj. R-squared:                 -0.003\n",
      "Method:                 Least Squares   F-statistic:                  0.001553\n",
      "Date:                Sun, 18 Feb 2024   Prob (F-statistic):              0.969\n",
      "Time:                        01:11:01   Log-Likelihood:                -900.78\n",
      "No. Observations:                 338   AIC:                             1806.\n",
      "Df Residuals:                     336   BIC:                             1813.\n",
      "Df Model:                           1                                         \n",
      "Covariance Type:              cluster                                         \n",
      "===================================================================================\n",
      "                      coef    std err          z      P>|z|      [0.025      0.975]\n",
      "-----------------------------------------------------------------------------------\n",
      "const               0.6687      0.377      1.774      0.076      -0.070       1.407\n",
      "positive_return     0.0171      0.435      0.039      0.969      -0.835       0.869\n",
      "==============================================================================\n",
      "Omnibus:                       96.217   Durbin-Watson:                   1.476\n",
      "Prob(Omnibus):                  0.000   Jarque-Bera (JB):              659.770\n",
      "Skew:                          -0.986   Prob(JB):                    5.40e-144\n",
      "Kurtosis:                       9.554   Cond. No.                         4.47\n",
      "==============================================================================\n",
      "\n",
      "Notes:\n",
      "[1] Standard Errors are robust to cluster correlation (cluster)\n"
     ]
    }
   ],
   "source": [
    "# Sort the DataFrame based on 'time'\n",
    "Anomalies_filtered = Anomalies.sort_values(by=['anomaly', 'time']).copy()\n",
    "\n",
    "# Create an indicator variable for positive returns in the past 12 months\n",
    "Anomalies_filtered['positive_return'] = (\n",
    "    Anomalies_filtered.groupby('anomaly')['ret']\n",
    "    .rolling(window=12, min_periods=12)\n",
    "    .mean()\n",
    "    .shift(1)\n",
    "    .reset_index(level=0, drop=True)  # Reset the index for proper alignment\n",
    "    > 0\n",
    ")\n",
    "\n",
    "# Drop the first 12 observations in the subset\n",
    "Anomalies_filtered = Anomalies_filtered.groupby('anomaly').apply(lambda x: x.iloc[12:]).reset_index(drop=True)\n",
    "\n",
    "# Extract dependent and explanatory variables\n",
    "y = Anomalies_filtered['ret']\n",
    "X = sm.add_constant(Anomalies_filtered['positive_return'].astype(int))\n",
    "\n",
    "# Fit the pooled model\n",
    "model = sm.OLS(y, X)\n",
    "results_pooled = model.fit(cov_type='cluster', cov_kwds={'groups': Anomalies_filtered['time']})\n",
    "\n",
    "# Display the regression results\n",
    "print(results.summary())"
   ]
  },
  {
   "cell_type": "code",
   "execution_count": 8,
   "id": "182af7ec-0965-4534-b5d6-65507c732034",
   "metadata": {
    "tags": []
   },
   "outputs": [
    {
     "name": "stdout",
     "output_type": "stream",
     "text": [
      "   Anomaly     Alpha  T-stat_Alpha     Slope  T-stat_Slope\n",
      "0   Pooled  0.057428      0.719687  0.453466      4.219117\n",
      "1       ac  0.150195      1.184450  0.101410      0.649822\n",
      "2      bab -0.221412     -0.632211  1.319041      3.534152\n",
      "3      cfp  0.127745      0.781292  0.235454      1.157989\n",
      "4      cma  0.120082      0.974474  0.244693      1.545819\n",
      "5       ep  0.101357      0.616107  0.302075      1.458207\n",
      "6      hml  0.038477      0.204762  0.410255      1.780679\n",
      "7      liq  0.157215      0.741922  0.356063      1.291807\n",
      "8    ltrev -0.252989     -1.663307  0.757680      3.850110\n",
      "9      nsi  0.172982      1.324451  0.089249      0.486779\n",
      "10     qmj  0.086832      0.650364  0.434757      2.507550\n",
      "11     rmw  0.040360      0.222250  0.337185      1.673841\n",
      "12    rvar -0.463569     -1.638345  1.061609      2.737366\n",
      "13     smb -0.104191     -0.615583  0.583455      2.508982\n",
      "14   strev  0.485098      1.427336  0.013888      0.038600\n",
      "15     umd  0.716042      2.697340 -0.094969     -0.288098\n",
      "16   glbab  0.190820      0.577502  0.837610      2.303918\n",
      "17   glcma -0.064014     -0.408285  0.382064      1.944285\n",
      "18   glhml  0.035556      0.150752  0.471689      1.770057\n",
      "19   glqmj  0.394512      1.761234  0.124643      0.492025\n",
      "20   glrmw  0.137826      1.033410  0.256716      1.616411\n",
      "21   glsmb -0.063285     -0.388832  0.284797      1.325669\n",
      "22   glumd  0.668710      1.774142  0.017124      0.039403\n"
     ]
    }
   ],
   "source": [
    "# Combine the pooled regression results and the individual\n",
    "# time series results.\n",
    "\n",
    "results_pooled_df = pd.DataFrame({\n",
    "    'Anomaly': ['Pooled'],\n",
    "    'Alpha': [results_pooled.params['const']],\n",
    "    'T-stat_Alpha': [results_pooled.tvalues['const']],\n",
    "    'Slope': [results_pooled.params['positive_return']],\n",
    "    'T-stat_Slope': [results_pooled.tvalues['positive_return']],\n",
    "})\n",
    "\n",
    "results_table_2_combined = pd.concat([results_pooled_df, results_table], ignore_index=True)\n",
    "\n",
    "# Display the combined results table\n",
    "print(results_table_2_combined)"
   ]
  },
  {
   "cell_type": "code",
   "execution_count": 9,
   "id": "2e857086-4fd2-4b4f-8446-c0b0f0bf0197",
   "metadata": {
    "tags": []
   },
   "outputs": [
    {
     "name": "stdout",
     "output_type": "stream",
     "text": [
      "   Anomaly     Alpha  T-stat_Alpha     Slope  T-stat_Slope\n",
      "0   Pooled  0.057428      0.719687  0.453466      4.219117\n",
      "1      smb -0.104191     -0.615583  0.583455      2.508982\n",
      "2      hml  0.038477      0.204762  0.410255      1.780679\n",
      "3      rmw  0.040360      0.222250  0.337185      1.673841\n",
      "4      cma  0.120082      0.974474  0.244693      1.545819\n",
      "5      umd  0.716042      2.697340 -0.094969     -0.288098\n",
      "6       ac  0.150195      1.184450  0.101410      0.649822\n",
      "7      bab -0.221412     -0.632211  1.319041      3.534152\n",
      "8      cfp  0.127745      0.781292  0.235454      1.157989\n",
      "9       ep  0.101357      0.616107  0.302075      1.458207\n",
      "10     liq  0.157215      0.741922  0.356063      1.291807\n",
      "11   ltrev -0.252989     -1.663307  0.757680      3.850110\n",
      "12     nsi  0.172982      1.324451  0.089249      0.486779\n",
      "13     qmj  0.086832      0.650364  0.434757      2.507550\n",
      "14    rvar -0.463569     -1.638345  1.061609      2.737366\n",
      "15   strev  0.485098      1.427336  0.013888      0.038600\n",
      "16   glbab  0.190820      0.577502  0.837610      2.303918\n",
      "17   glcma -0.064014     -0.408285  0.382064      1.944285\n",
      "18   glhml  0.035556      0.150752  0.471689      1.770057\n",
      "19   glqmj  0.394512      1.761234  0.124643      0.492025\n",
      "20   glrmw  0.137826      1.033410  0.256716      1.616411\n",
      "21   glumd  0.668710      1.774142  0.017124      0.039403\n",
      "22   glsmb -0.063285     -0.388832  0.284797      1.325669\n"
     ]
    }
   ],
   "source": [
    "# List the factors in the same order as table 2\n",
    "desired_order = [\n",
    "    'Pooled',\n",
    "    'smb', 'hml', 'rmw', 'cma', 'umd', 'ac',\n",
    "    'bab', 'cfp', 'ep', 'liq', 'ltrev', 'nsi', 'qmj', 'rvar', 'strev',\n",
    "    'glbab', 'glcma', 'glhml', 'glqmj', 'glrmw', 'glumd', 'glsmb'\n",
    "]\n",
    "\n",
    "cat_dtype = pd.CategoricalDtype(categories=desired_order, ordered=True)\n",
    "results_table_2_combined['Anomaly'] = results_table_2_combined['Anomaly'].astype(cat_dtype)\n",
    "results_table_2_combined = results_table_2_combined.sort_values(by='Anomaly').reset_index(drop=True)\n",
    "\n",
    "print(results_table_2_combined)"
   ]
  },
  {
   "cell_type": "code",
   "execution_count": 10,
   "id": "3cfcf27a-6646-434b-b039-3d92f12e28aa",
   "metadata": {
    "tags": []
   },
   "outputs": [
    {
     "name": "stdout",
     "output_type": "stream",
     "text": [
      "                      Anomaly     Alpha  T-stat_Alpha     Slope  T-stat_Slope\n",
      "0                      Pooled  0.057428      0.719687  0.453466      4.219117\n",
      "1                        Size -0.104191     -0.615583  0.583455      2.508982\n",
      "2                       Value  0.038477      0.204762  0.410255      1.780679\n",
      "3               Profitability  0.040360      0.222250  0.337185      1.673841\n",
      "4                  Investment  0.120082      0.974474  0.244693      1.545819\n",
      "5                    Momentum  0.716042      2.697340 -0.094969     -0.288098\n",
      "6                    Accruals  0.150195      1.184450  0.101410      0.649822\n",
      "7        Betting against Beta -0.221412     -0.632211  1.319041      3.534152\n",
      "8          Cash-flow to price  0.127745      0.781292  0.235454      1.157989\n",
      "9           Earnings to price  0.101357      0.616107  0.302075      1.458207\n",
      "10                  Liquidity  0.157215      0.741922  0.356063      1.291807\n",
      "11         Long-term reversal -0.252989     -1.663307  0.757680      3.850110\n",
      "12            Net share issue  0.172982      1.324451  0.089249      0.486779\n",
      "13         Quality minus junk  0.086832      0.650364  0.434757      2.507550\n",
      "14          Residual Variance -0.463569     -1.638345  1.061609      2.737366\n",
      "15       Short-term reversals  0.485098      1.427336  0.013888      0.038600\n",
      "16  Betting against beta (gl)  0.190820      0.577502  0.837610      2.303918\n",
      "17            Investment (gl) -0.064014     -0.408285  0.382064      1.944285\n",
      "18                 Value (gl)  0.035556      0.150752  0.471689      1.770057\n",
      "19    Quality minus junk (gl)  0.394512      1.761234  0.124643      0.492025\n",
      "20         Profitability (gl)  0.137826      1.033410  0.256716      1.616411\n",
      "21              Momentum (gl)  0.668710      1.774142  0.017124      0.039403\n",
      "22                  Size (gl) -0.063285     -0.388832  0.284797      1.325669\n"
     ]
    }
   ],
   "source": [
    "# Define the factor_mapping before checking if labels have already been assigned\n",
    "factor_mapping = {\n",
    "    'Pooled': 'Pooled',\n",
    "    'smb': 'Size',\n",
    "    'hml': 'Value',\n",
    "    'rmw': 'Profitability',\n",
    "    'cma': 'Investment',\n",
    "    'umd': 'Momentum',\n",
    "    'ac': 'Accruals',\n",
    "    'bab': 'Betting against Beta',\n",
    "    'cfp': 'Cash-flow to price',\n",
    "    'ep': 'Earnings to price',\n",
    "    'liq': 'Liquidity',\n",
    "    'ltrev': 'Long-term reversal',\n",
    "    'nsi': 'Net share issue',\n",
    "    'qmj': 'Quality minus junk',\n",
    "    'rvar': 'Residual Variance',\n",
    "    'strev': 'Short-term reversals',\n",
    "    'glbab': 'Betting against beta (gl)',\n",
    "    'glcma': 'Investment (gl)',\n",
    "    'glhml': 'Value (gl)',\n",
    "    'glqmj': 'Quality minus junk (gl)',\n",
    "    'glrmw': 'Profitability (gl)',\n",
    "    'glumd': 'Momentum (gl)',\n",
    "    'glsmb': 'Size (gl)'\n",
    "}\n",
    "\n",
    "results_table_2_combined['Anomaly'] = results_table_2_combined['Anomaly'].map(factor_mapping)\n",
    "print(results_table_2_combined)"
   ]
  },
  {
   "cell_type": "code",
   "execution_count": null,
   "id": "b3867926-2312-4ab8-93a8-3ed7049cbc63",
   "metadata": {},
   "outputs": [],
   "source": []
  }
 ],
 "metadata": {
  "kernelspec": {
   "display_name": "Python 3 (ipykernel)",
   "language": "python",
   "name": "python3"
  },
  "language_info": {
   "codemirror_mode": {
    "name": "ipython",
    "version": 3
   },
   "file_extension": ".py",
   "mimetype": "text/x-python",
   "name": "python",
   "nbconvert_exporter": "python",
   "pygments_lexer": "ipython3",
   "version": "3.11.5"
  }
 },
 "nbformat": 4,
 "nbformat_minor": 5
}
