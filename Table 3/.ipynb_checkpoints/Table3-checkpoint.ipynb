{
 "cells": [
  {
   "cell_type": "code",
   "execution_count": 95,
   "id": "initial_id",
   "metadata": {
    "tags": []
   },
   "outputs": [],
   "source": [
    "import pandas as pd\n",
    "import calendar\n",
    "import numpy as np\n",
    "from sklearn.decomposition import PCA\n",
    "from datetime import datetime\n",
    "\n"
   ]
  },
  {
   "cell_type": "markdown",
   "id": "40a2d865176084ab",
   "metadata": {},
   "source": [
    "## Table 3 \n",
    "hier komt tabel 3, maar ik was nog even bezig met het bekijken hoe zij deze data hebben verkregen"
   ]
  },
  {
   "cell_type": "code",
   "execution_count": 98,
   "id": "224e6c97e573d7dc",
   "metadata": {
    "collapsed": false,
    "jupyter": {
     "outputs_hidden": false
    },
    "tags": []
   },
   "outputs": [],
   "source": [
    "# loading dataframes \n",
    "r_daily = pd.read_csv('managed_portfolios_anom_d_50.csv')\n",
    "# drop all momentum factors or factors that are constructed based on momentum\n",
    "\n",
    "momentum_list = ['r_mom', 'r_indmom', 'r_valmom', 'r_valmomprof', 'r_mom12', 'r_momrev', 'r_indmomrev']\n",
    "r_daily.drop(columns=momentum_list, inplace=True)\n",
    "\n",
    "# set date to datetime format and set the date to the index \n",
    "\n",
    "r_daily['date'] = pd.to_datetime(r_daily['date'])\n",
    "r_daily.set_index('date', inplace=True)\n",
    "\n",
    "# missing list = ['dur', 'divg', 'invaci', 'ipo'] -> deze worden gemaakt uit daily stock data doormiddel van een signals list?\n",
    "\n",
    "# following the procedure in the paper, if there are observations missing we set them to 0. \n",
    "\n",
    "r_daily.fillna(0, inplace=True)\n",
    "\n",
    "# create a list of factors for later analysis purposes \n",
    "\n",
    "factors = [col for col in r_daily.columns if col.startswith('r_')]"
   ]
  },
  {
   "cell_type": "code",
   "execution_count": 100,
   "id": "c233f0874be4e66c",
   "metadata": {
    "collapsed": false,
    "jupyter": {
     "outputs_hidden": false
    },
    "tags": []
   },
   "outputs": [
    {
     "name": "stderr",
     "output_type": "stream",
     "text": [
      "C:\\Users\\Tinot\\AppData\\Local\\Temp\\ipykernel_15924\\2288442544.py:59: FutureWarning: The behavior of DataFrame concatenation with empty or all-NA entries is deprecated. In a future version, this will no longer exclude empty or all-NA columns when determining the result dtypes. To retain the old behavior, exclude the relevant entries before the concat operation.\n",
      "  pc_return_df = pd.concat([pc_return_df, pd.DataFrame(pc_return_data, index=[0])], ignore_index=True)\n"
     ]
    },
    {
     "name": "stdout",
     "output_type": "stream",
     "text": [
      "          date       PC1       PC2       PC3       PC4       PC5  \\\n",
      "0   1973-07-01  0.003799 -0.001069 -0.001030 -0.000200  0.000277   \n",
      "1   1973-08-01 -0.000309 -0.002301 -0.002185 -0.000116  0.001866   \n",
      "2   1973-09-01 -0.000313 -0.000372 -0.000095 -0.000378 -0.000045   \n",
      "3   1973-10-01 -0.000108 -0.000733 -0.000717 -0.000208  0.000813   \n",
      "4   1973-11-01 -0.000797 -0.000775  0.001822 -0.001357  0.000228   \n",
      "..         ...       ...       ...       ...       ...       ...   \n",
      "529 2017-08-01 -0.000628 -0.001236  0.000038 -0.000687  0.000473   \n",
      "530 2017-09-01 -0.001829 -0.001535  0.000458 -0.000678  0.000294   \n",
      "531 2017-10-01 -0.000909 -0.001662 -0.001341 -0.000121  0.001007   \n",
      "532 2017-11-01 -0.000754 -0.000730  0.000688 -0.000286  0.000308   \n",
      "533 2017-12-01 -0.001684 -0.001721 -0.001623  0.000178  0.000871   \n",
      "\n",
      "              PC6       PC7       PC8       PC9  ...      PC34          PC35  \\\n",
      "0   -2.247953e-03 -0.000245  0.000516  0.000073  ...  0.000056  2.370831e-04   \n",
      "1   -4.494985e-03  0.000045  0.000196 -0.000430  ...  0.000016  1.978841e-04   \n",
      "2   -9.799734e-04 -0.000065 -0.000128 -0.000816  ...  0.000285 -1.863920e-04   \n",
      "3   -1.269086e-03 -0.000306  0.000336 -0.000282  ...  0.000033 -2.915092e-05   \n",
      "4   -2.848095e-03 -0.000132 -0.000493  0.000033  ... -0.000073 -1.898574e-05   \n",
      "..            ...       ...       ...       ...  ...       ...           ...   \n",
      "529 -6.135564e-05 -0.000293  0.000200  0.000142  ...  0.000237  1.444793e-05   \n",
      "530  2.273016e-04 -0.000360 -0.000267 -0.000307  ...  0.000016 -5.909924e-05   \n",
      "531  1.266214e-04 -0.000680 -0.000100  0.000171  ... -0.000044 -4.201642e-07   \n",
      "532 -3.575567e-07 -0.000055 -0.000019  0.000159  ...  0.000076  4.915599e-06   \n",
      "533  1.448372e-04 -0.001140  0.000382  0.000229  ...  0.000262  2.866572e-05   \n",
      "\n",
      "         PC36      PC37      PC38      PC39          PC40          PC41  \\\n",
      "0    0.000092  0.000067 -0.000023  0.000036 -4.472945e-06  3.695702e-05   \n",
      "1    0.000174  0.000283  0.000125  0.000121 -6.514044e-06 -5.112563e-05   \n",
      "2   -0.000041 -0.000015 -0.000046 -0.000066 -4.761929e-07 -2.034363e-06   \n",
      "3    0.000040 -0.000053  0.000080  0.000120  3.255641e-06 -2.704375e-06   \n",
      "4    0.000249  0.000081 -0.000150  0.000066  1.550598e-05 -3.092432e-05   \n",
      "..        ...       ...       ...       ...           ...           ...   \n",
      "529 -0.000042 -0.000024 -0.000039  0.000006 -8.396614e-05 -1.448319e-05   \n",
      "530 -0.000060  0.000072  0.000040  0.000042 -1.437953e-05  6.873890e-07   \n",
      "531  0.000029  0.000009  0.000036  0.000175  1.872537e-06  1.311896e-05   \n",
      "532 -0.000060  0.000002  0.000052  0.000010  3.847281e-05  1.137863e-05   \n",
      "533 -0.000168 -0.000090 -0.000097  0.000019 -2.235176e-05 -2.399342e-06   \n",
      "\n",
      "             PC42      PC43  \n",
      "0   -7.219339e-07  0.000037  \n",
      "1    9.546937e-06 -0.000083  \n",
      "2    1.198204e-06 -0.000073  \n",
      "3   -1.985686e-05 -0.000025  \n",
      "4    1.380015e-05 -0.000038  \n",
      "..            ...       ...  \n",
      "529  4.922196e-05  0.000028  \n",
      "530  5.344294e-05  0.000034  \n",
      "531  2.744946e-05  0.000070  \n",
      "532 -8.900385e-06  0.000018  \n",
      "533  6.184186e-05  0.000025  \n",
      "\n",
      "[534 rows x 44 columns]\n"
     ]
    }
   ],
   "source": [
    "# initialize pca model \n",
    "\n",
    "pca = PCA(n_components=len(factors))\n",
    "\n",
    "# select our start date \n",
    "\n",
    "start_date = pd.to_datetime(\"1963-07-01\")\n",
    "\n",
    "# create an empty dataframe for our monthly pc returns\n",
    "\n",
    "pc_return_df = pd.DataFrame(columns=['date'] + [f\"PC{i+1}\" for i in range(len(factors))])\n",
    "\n",
    "# create our loop set up, this is actually an expanding PCA analysis. In each iteration a new month is added to the dataset and the return is computed. for year in range(1973, 202):\n",
    "for year in range(1973, 2018):\n",
    "    for mo in range(6, 13) if year == 1973 else range(1, 13):\n",
    "        if year == 2017 and mo == 12:\n",
    "            break\n",
    "        else:            \n",
    "            # first we have to find the last day of the month. For this we use the calender function with inputs from the loop variables\n",
    "            last_day = calendar.monthrange(year, mo)[1]\n",
    "\n",
    "            # we select our new end_date variable for which the PCA analysis is done, also with inputs from our loop and the last_day variable\n",
    "            end_date = pd.to_datetime(f'{year}-{mo}-{last_day}')\n",
    "\n",
    "            # we select the datarange from our dataset (July 1963 = start_date until our defined end_date) and we fit the model\n",
    "            pca_data = r_daily.loc[start_date:end_date]\n",
    "            pca.fit(pca_data)\n",
    "\n",
    "            # we extract the principal components. These principal components are put in a new dataframe for later analysis. \n",
    "\n",
    "            principal_components = pca.transform(pca_data)\n",
    "            principal_df = pd.DataFrame(data=principal_components, index=pca_data.index, columns=[f\"PC{i+1}\" for i in range(len(factors))])\n",
    "            principal_df.index = pd.to_datetime(principal_df.index)\n",
    "\n",
    "            # calculating return for month t+1. If mo = 12, then year will increment with 1. \n",
    "\n",
    "            return_year = year + 1 if mo == 12 else year\n",
    "            return_month = (mo % 12) + 1\n",
    "\n",
    "            # creating a datetime variable for the month t+1 and storing this in our pc_return_data variable\n",
    "\n",
    "            return_date = pd.to_datetime(f'{return_year}-{return_month}')\n",
    "            pc_return_data = {'date': return_date}\n",
    "\n",
    "            # in this loop we calculate the monthly factor returns (f) using the principal components and returns\n",
    "\n",
    "            for f in range(len(factors)):\n",
    "                # select our factor and extract its principal component from principal_df and its return from r_daily for all observations in month mo \n",
    "                pc_f = principal_df[(principal_df.index.year == year) & (principal_df.index.month == mo)][principal_df.columns[f]]\n",
    "                return_f = r_daily.loc[(r_daily.index.year == year) & (r_daily.index.month == mo), factors[f]]\n",
    "\n",
    "                # multiply the principal components with the returns and sum them up to get PC factor return for month mo \n",
    "                pc_return_f = (pc_f*return_f).sum()\n",
    "\n",
    "                # put the calculated return in our pc_return_data variable\n",
    "                pc_return_data[principal_df.columns[f]] = pc_return_f\n",
    "\n",
    "            # concat all the dataframes in our pc_return_df (this we can use for later analysis)\n",
    "            pc_return_df = pd.concat([pc_return_df, pd.DataFrame(pc_return_data, index=[0])], ignore_index=True)\n",
    "\n",
    "print(pc_return_df)"
   ]
  },
  {
   "cell_type": "code",
   "execution_count": 101,
   "id": "e998c3c2-d3e5-43c8-afed-e2e08b774a9a",
   "metadata": {},
   "outputs": [],
   "source": [
    "# Step 1: Compute individual factors' variances up to month t\n",
    "individual_variances = pc_return_df.iloc[:, 1:].var()\n",
    "\n",
    "# Step 2: Demean the PC factors\n",
    "pc_return_df_demeaned = pc_return_df.copy()\n",
    "pc_return_df_demeaned.iloc[:, 1:] -= pc_return_df.iloc[:, 1:].mean()\n",
    "\n",
    "# Step 3: Lever the PC factors to match variances\n",
    "pc_return_df_demeaned.iloc[:, 1:] *= np.sqrt(individual_variances / pc_return_df_demeaned.iloc[:, 1:].var())\n",
    "\n",
    "# Step 4: Verify that variances and average returns are as specified\n",
    "final_variances = pc_return_df_demeaned.iloc[:, 1:].var()\n",
    "final_average_returns = pc_return_df_demeaned.iloc[:, 1:].mean()\n",
    "\n",
    "# The final DataFrame with demeaned and levered PC factors is pc_return_df_demeaned"
   ]
  },
  {
   "cell_type": "code",
   "execution_count": 104,
   "id": "f6967414-e30b-414b-85de-71d737ef6e81",
   "metadata": {
    "tags": []
   },
   "outputs": [
    {
     "name": "stdout",
     "output_type": "stream",
     "text": [
      "          date       PC1       PC2       PC3       PC4       PC5       PC6  \\\n",
      "0   1973-07-01  0.001451 -0.001518 -0.000483  0.000955  0.000198 -0.001812   \n",
      "1   1973-08-01 -0.002657 -0.002750 -0.001638  0.001039  0.001786 -0.004059   \n",
      "2   1973-09-01 -0.002661 -0.000821  0.000453  0.000777 -0.000125 -0.000544   \n",
      "3   1973-10-01 -0.002456 -0.001182 -0.000169  0.000947  0.000734 -0.000833   \n",
      "4   1973-11-01 -0.003145 -0.001224  0.002369 -0.000202  0.000149 -0.002412   \n",
      "..         ...       ...       ...       ...       ...       ...       ...   \n",
      "529 2017-08-01 -0.002976 -0.001684  0.000585  0.000468  0.000394  0.000375   \n",
      "530 2017-09-01 -0.004177 -0.001984  0.001006  0.000477  0.000215  0.000664   \n",
      "531 2017-10-01 -0.003257 -0.002111 -0.000794  0.001034  0.000928  0.000563   \n",
      "532 2017-11-01 -0.003102 -0.001179  0.001235  0.000869  0.000229  0.000436   \n",
      "533 2017-12-01 -0.004032 -0.002170 -0.001076  0.001333  0.000791  0.000581   \n",
      "\n",
      "          PC7       PC8       PC9  ...      PC34      PC35      PC36  \\\n",
      "0   -0.000138  0.000309  0.000154  ...  0.000045  0.000213  0.000132   \n",
      "1    0.000151 -0.000012 -0.000350  ...  0.000006  0.000174  0.000214   \n",
      "2    0.000042 -0.000335 -0.000736  ...  0.000274 -0.000211 -0.000001   \n",
      "3   -0.000199  0.000128 -0.000201  ...  0.000022 -0.000053  0.000079   \n",
      "4   -0.000025 -0.000700  0.000113  ... -0.000084 -0.000043  0.000289   \n",
      "..        ...       ...       ...  ...       ...       ...       ...   \n",
      "529 -0.000187 -0.000007  0.000222  ...  0.000226 -0.000010 -0.000002   \n",
      "530 -0.000253 -0.000475 -0.000227  ...  0.000006 -0.000083 -0.000020   \n",
      "531 -0.000574 -0.000308  0.000251  ... -0.000055 -0.000025  0.000069   \n",
      "532  0.000051 -0.000226  0.000240  ...  0.000066 -0.000019 -0.000020   \n",
      "533 -0.001034  0.000175  0.000309  ...  0.000252  0.000004 -0.000128   \n",
      "\n",
      "         PC37      PC38      PC39          PC40      PC41      PC42      PC43  \n",
      "0    0.000054 -0.000045  0.000059 -2.047343e-05  0.000013  0.000004  0.000073  \n",
      "1    0.000270  0.000104  0.000145 -2.251453e-05 -0.000075  0.000014 -0.000047  \n",
      "2   -0.000028 -0.000067 -0.000042 -1.647668e-05 -0.000026  0.000006 -0.000036  \n",
      "3   -0.000066  0.000058  0.000144 -1.274485e-05 -0.000027 -0.000015  0.000011  \n",
      "4    0.000068 -0.000172  0.000090 -4.945073e-07 -0.000055  0.000019 -0.000002  \n",
      "..        ...       ...       ...           ...       ...       ...       ...  \n",
      "529 -0.000037 -0.000060  0.000029 -9.996663e-05 -0.000038  0.000054  0.000064  \n",
      "530  0.000059  0.000018  0.000065 -3.038002e-05 -0.000023  0.000058  0.000070  \n",
      "531 -0.000004  0.000014  0.000199 -1.412795e-05 -0.000011  0.000032  0.000106  \n",
      "532 -0.000011  0.000030  0.000034  2.247232e-05 -0.000013 -0.000004  0.000054  \n",
      "533 -0.000104 -0.000118  0.000042 -3.835225e-05 -0.000026  0.000067  0.000061  \n",
      "\n",
      "[534 rows x 44 columns]\n"
     ]
    }
   ],
   "source": [
    "print(pc_return_df_demeaned)"
   ]
  },
  {
   "cell_type": "code",
   "execution_count": null,
   "id": "96e32469-4924-4fea-8683-085347df5289",
   "metadata": {},
   "outputs": [],
   "source": []
  }
 ],
 "metadata": {
  "kernelspec": {
   "display_name": "Python 3 (ipykernel)",
   "language": "python",
   "name": "python3"
  },
  "language_info": {
   "codemirror_mode": {
    "name": "ipython",
    "version": 3
   },
   "file_extension": ".py",
   "mimetype": "text/x-python",
   "name": "python",
   "nbconvert_exporter": "python",
   "pygments_lexer": "ipython3",
   "version": "3.11.5"
  }
 },
 "nbformat": 4,
 "nbformat_minor": 5
}
