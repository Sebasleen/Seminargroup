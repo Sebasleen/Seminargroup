{
 "cells": [
  {
   "cell_type": "code",
   "execution_count": null,
   "id": "initial_id",
   "metadata": {
    "collapsed": true
   },
   "outputs": [],
   "source": [
    "import pandas as pd\n",
    "import calendar\n",
    "import numpy as np\n",
    "from sklearn.decomposition import PCA\n",
    "from datetime import datetime"
   ]
  },
  {
   "cell_type": "markdown",
   "source": [
    "Loading and data pre-processing"
   ],
   "metadata": {
    "collapsed": false
   },
   "id": "4d97f0ee56d2c0bc"
  },
  {
   "cell_type": "code",
   "outputs": [],
   "source": [
    "# loading dataframes \n",
    "\n",
    "r_daily = pd.read_csv('managed_portfolios_anom_d_50.csv')\n",
    "\n",
    "# drop all momentum factors or factors that are constructed based on momentum\n",
    "\n",
    "momentum_list = ['r_mom', 'r_indmom', 'r_valmom', 'r_valmomprof', 'r_mom12', 'r_momrev', 'r_indmomrev']\n",
    "r_daily.drop(columns=momentum_list, inplace=True)\n",
    "\n",
    "# set date to datetime format and set the date to the index \n",
    "\n",
    "r_daily['date'] = pd.to_datetime(r_daily['date'])\n",
    "r_daily.set_index('date', inplace=True)\n",
    "\n",
    "# missing list = ['dur', 'divg', 'invaci', 'ipo'] -> deze worden gemaakt uit daily stock data doormiddel van een signals list?\n",
    "\n",
    "# following the procedure in the paper, if there are observations missing we set them to 0. \n",
    "\n",
    "r_daily.fillna(0, inplace=True)\n",
    "\n",
    "# create a list of factors for later analysis purposes \n",
    "\n",
    "factors = [col for col in r_daily.columns if col.startswith('r_')]\n",
    "r_daily.drop(columns=['rme', 're_ew'], inplace=True)\n",
    "\n",
    "# create a monthly return dataframe for later analysis purposes \n",
    "\n",
    "r_monthly = r_daily.resample('M').sum()\n",
    "r_monthly.index = r_monthly.index.strftime('%Y-%m')"
   ],
   "metadata": {
    "collapsed": false
   },
   "id": "5d0832f17ba0f537"
  },
  {
   "cell_type": "markdown",
   "source": [
    "component analysis and calculation of returns"
   ],
   "metadata": {
    "collapsed": false
   },
   "id": "ff49c9a73a8dbb98"
  },
  {
   "cell_type": "code",
   "outputs": [],
   "source": [
    "# initialize pca model \n",
    "\n",
    "pca = PCA(n_components=len(factors))\n",
    "\n",
    "# select our start date \n",
    "\n",
    "start_date = pd.to_datetime(\"1963-07-01\")\n",
    "\n",
    "# create an empty dataframe to store the average return for each PC from t until t-11\n",
    "\n",
    "pc_avg_df = pd.DataFrame()\n",
    "\n",
    "# create an empty list for the pc return dataframes. These will be concated in a later stage to one large dataframe\n",
    "\n",
    "pc_return_dfs = []\n",
    "\n",
    "# create our loop set up, this is actually an expanding PCA analysis. In each iteration a new month is added to the dataset and the return is computed. \n",
    "\n",
    "for year in range(1973, 1975):\n",
    "    # as our out of sample procedure starts July 1973, we start in the 7th month in 1973\n",
    "    for mo in range(6,13) if year == 1973 else range(1, 13):\n",
    "        # first we have to find the last month of the day. For this we use the calender function with inputs from the loop variables\n",
    "        last_day = calendar.monthrange(year, mo)[1]\n",
    "\n",
    "        # we select our new end_date variable for which the PCA analysis is done, also with inputs from our loop and the last_day variable\n",
    "        end_date = pd.to_datetime(f'{year}-{mo}-{last_day}')\n",
    "\n",
    "        t_dt = pd.to_datetime(f'{year}-{mo}')\n",
    "        t = t_dt.strftime('%Y-%m')\n",
    "\n",
    "        # we select the datarange from our dataset (July 1963 = start_date until our defined end_date) and we fit the model\n",
    "        pca_data = r_daily.loc[start_date:end_date]\n",
    "        pca.fit(pca_data)\n",
    "\n",
    "        # we extract the principal components. These principal components are put in a new dataframe for later analysis. \n",
    "\n",
    "        principal_components = pca.components_\n",
    "        components_df = pd.DataFrame(data=principal_components, index=factors, columns=[f\"PC{i+1}\" for i in range(len(factors))])\n",
    "\n",
    "        # calculating return for month t+1. If mo = 12, then year will increment with 1. \n",
    "\n",
    "        t_plus_1_year = year + 1 if mo == 12 else year\n",
    "        t_plus_1_month = (mo % 12) + 1\n",
    "\n",
    "        # creating a datetime variable for the month t+1 and storing this in our pc_return_data variable\n",
    "\n",
    "        t_plus_1_dt =pd.to_datetime(f'{t_plus_1_year}-{t_plus_1_month}')\n",
    "        t_plus_1 = t_plus_1_dt.strftime('%Y-%m')\n",
    "\n",
    "        pc_return_data = {'date': t_plus_1}\n",
    "\n",
    "\n",
    "        # in this loop we calculate the monthly factor returns (f) using the principal components and returns\n",
    "\n",
    "        for f in range(len(factors)):\n",
    "            # select our factor and extract its principal component from principal_df and its return from r_daily for all observations in month mo \n",
    "            pc = components_df.iloc[:, f]\n",
    "            r_month = r_monthly.loc[t]\n",
    "\n",
    "            # multiply the principal components with the returns and sum them up to get PC factor return for month mo \n",
    "            pc_return = (pc*r_month).sum()\n",
    "\n",
    "            # place this in our dictionary for later transposing to dataframe\n",
    "\n",
    "            pc_return_data[components_df.columns[f]] = pc_return\n",
    "\n",
    "            r_pc_month_n_list = []\n",
    "\n",
    "            for n in range(1, 12):\n",
    "                # calculate the datetime for t - n\n",
    "                t_minus_n_dt = t_dt - pd.DateOffset(months=n)\n",
    "\n",
    "                # transpose it to our YYYY-MM format\n",
    "                t_minus_n = t_minus_n_dt.strftime('%Y-%m')\n",
    "\n",
    "                # select the return corresponding to our month t-n\n",
    "                r_month_n = r_monthly.shift(n).loc[t_minus_n]\n",
    "                pc_return_n = (pc*r_month_n).sum()\n",
    "                r_pc_month_n_list.append(pc_return_n)\n",
    "\n",
    "            r_pc_month_mean = (np.mean(r_pc_month_n_list))\n",
    "            pc_avg_df.loc[t, f'PC{f+1}'] = r_pc_month_mean\n",
    "\n",
    "\n",
    "        pc_return_df = pd.DataFrame.from_dict(pc_return_data, orient='index').T\n",
    "        pc_return_df.set_index('date', inplace=True)\n",
    "        pc_return_dfs.append(pc_return_df)\n",
    "\n",
    "r_pc = pd.concat(pc_return_dfs)\n",
    "print(r_pc)\n",
    "print(pc_avg_df)"
   ],
   "metadata": {
    "collapsed": false
   },
   "id": "50b74810a09f7def"
  },
  {
   "cell_type": "markdown",
   "source": [
    "Demean and leverage our dataframes"
   ],
   "metadata": {
    "collapsed": false
   },
   "id": "82ccb778ac328656"
  },
  {
   "cell_type": "code",
   "outputs": [],
   "source": [
    "# we start with demeaning and leveraging our PC returns\n",
    "\n",
    "start_date_dt = pd.to_datetime(\"1963-07-01\")\n",
    "start_date = start_date_dt.strftime('%Y-%m')\n",
    "lev_dfs = []\n",
    "\n",
    "for year in range(1973, 2018):\n",
    "    # as our out of sample procedure starts July 1973, we start in the 8th month in 1973 as we need to demean our PC factor up to month t\n",
    "    for mo in range(8,13) if year == 1973 else range(1, 13):\n",
    "        # first we set our t variable to the current year and month from our loop\n",
    "        t_dt = pd.to_datetime(f'{year}-{mo}')\n",
    "        t = t_dt.strftime('%Y-%m')\n",
    "        #print(t)\n",
    "\n",
    "        # calculate the variance of the individual factor returns up until month t \n",
    "        r_indiv_f_t = r_monthly.loc[start_date:t]\n",
    "        var_indiv_f_t = r_indiv_f_t.var(axis=0)\n",
    "        avg_var_indiv_f_t = var_indiv_f_t.mean()\n",
    "        #print(avg_var_indiv_f_t)\n",
    "\n",
    "        # calculate the mean and variance of the PC factors up until month t \n",
    "\n",
    "        r_pc_t = r_pc.loc[:t]\n",
    "        demeaned_r_pc_t = r_pc_t - r_pc_t.mean()\n",
    "\n",
    "        # calculate the leverage factor and multiply this with the demeaned \n",
    "\n",
    "        leverage_t = np.sqrt(avg_var_indiv_f_t / r_pc_t.var(axis=0))\n",
    "        lev_r_pc_t = demeaned_r_pc_t * leverage_t\n",
    "        lev_df = lev_r_pc_t.loc[t].to_frame().T\n",
    "        lev_dfs.append(lev_df)\n",
    "\n",
    "lev_r_pc = pd.concat(lev_dfs)\n",
    "print(lev_r_pc)"
   ],
   "metadata": {
    "collapsed": false
   },
   "id": "6f8ece200b7a4b7c"
  },
  {
   "cell_type": "code",
   "outputs": [],
   "source": [
    "# then we are also leveraging the individual factor momentum returns (as described in paper)\n",
    "\n",
    "start_date_dt = pd.to_datetime(\"1963-07-01\")\n",
    "start_date = start_date_dt.strftime('%Y-%m')\n",
    "indiv_lev_dfs = []\n",
    "\n",
    "for year in range(1973, 2018):\n",
    "    # as our out of sample procedure starts July 1973, we start in the 8th month in 1973 as we need to demean our PC factor up to month t\n",
    "    for mo in range(7,13) if year == 1973 else range(1, 13):\n",
    "        # first we set our t variable to the current year and month from our loop\n",
    "        t_dt = pd.to_datetime(f'{year}-{mo}')\n",
    "        t = t_dt.strftime('%Y-%m')\n",
    "\n",
    "\n",
    "        # calculate the variance of the individual factor returns up until month t \n",
    "        r_indiv_f_t = r_monthly.loc[start_date:t]\n",
    "        var_indiv_f_t = r_indiv_f_t.var(axis=0)\n",
    "        avg_var_indiv_f_t = var_indiv_f_t.mean()\n",
    "\n",
    "        # calculate the leverage factor \n",
    "        leverage_factor = np.sqrt(avg_var_indiv_f_t / var_indiv_f_t)\n",
    "\n",
    "\n",
    "        # multiply the leverage factor with the returns\n",
    "        indiv_lev_df = (r_monthly.loc[t].to_frame().T) * leverage_factor\n",
    "        indiv_lev_dfs.append(indiv_lev_df)\n",
    "\n",
    "lev_r_indiv = pd.concat(indiv_lev_dfs)\n",
    "lev_r_indiv.fillna(0, inplace=True)\n",
    "print(lev_r_indiv)"
   ],
   "metadata": {
    "collapsed": false
   },
   "id": "5d8bad67d8e7a0be"
  },
  {
   "cell_type": "markdown",
   "source": [
    "Constructing the momentum strategies"
   ],
   "metadata": {
    "collapsed": false
   },
   "id": "d201ebbc82351372"
  },
  {
   "cell_type": "code",
   "outputs": [],
   "source": [
    "# constructing the PC momentum strategies (so PC 1-10, PC 11-20, etc)\n",
    "\n",
    "positive_returns_PC = pc_avg_df > 0\n",
    "negative_returns_PC = pc_avg_df < 0\n",
    "\n",
    "\n",
    "long_portfolio_PC = positive_returns_PC.astype(int)\n",
    "short_portfolio_PC = negative_returns_PC.astype(int)\n",
    "\n",
    "r_pc_1_10 = ['PC1', 'PC2', 'PC3', 'PC4', 'PC5', 'PC6', 'PC7', 'PC8', 'PC9', 'PC10']\n",
    "r_pc_11_20 = ['PC11', 'PC12', 'PC13', 'PC14', 'PC15', 'PC16', 'PC17', 'PC18', 'PC19', 'PC20']\n",
    "r_pc_21_30 = ['PC21', 'PC22', 'PC23', 'PC24', 'PC25', 'PC26', 'PC27', 'PC28', 'PC29', 'PC30']\n",
    "r_pc_31_40 = ['PC31', 'PC32', 'PC33', 'PC34', 'PC35', 'PC36', 'PC37', 'PC38', 'PC39', 'PC40']\n",
    "r_pc_41_43 = ['PC41', 'PC42', 'PC43']\n",
    "\n",
    "pc_mom_return_1_10 = (long_portfolio_PC[r_pc_1_10].shift(-1) *\n",
    "                      lev_r_pc[r_pc_1_10]).sum(axis=1)- (short_portfolio_PC[r_pc_1_10].shift(-1) * lev_r_pc[r_pc_1_10]).sum(axis=1)\n",
    "\n",
    "pc_mom_return_1_10 = pc_mom_return_1_10.shift(1)\n",
    "\n",
    "pc_mom_return_11_21 = (long_portfolio_PC[r_pc_11_20].shift(-1) *\n",
    "                       lev_r_pc[r_pc_11_20]).sum(axis=1)- (short_portfolio_PC[r_pc_11_20].shift(-1) * lev_r_pc[r_pc_11_20]).sum(axis=1)\n",
    "\n",
    "pc_mom_return_11_21 = pc_mom_return_11_21.shift(1)\n",
    "\n",
    "pc_mom_return_21_31 = (long_portfolio_PC[r_pc_21_30].shift(-1) *\n",
    "                       lev_r_pc[r_pc_21_30]).sum(axis=1)- (short_portfolio_PC[r_pc_21_30].shift(-1) * lev_r_pc[r_pc_21_30]).sum(axis=1)\n",
    "\n",
    "pc_mom_return_21_31 = pc_mom_return_21_31.shift(1)\n",
    "\n",
    "pc_mom_return_31_41 = (long_portfolio_PC[r_pc_31_40].shift(-1) *\n",
    "                       lev_r_pc[r_pc_31_40]).sum(axis=1)- (short_portfolio_PC[r_pc_31_40].shift(-1) * lev_r_pc[r_pc_31_40]).sum(axis=1)\n",
    "\n",
    "pc_mom_return_31_41 = pc_mom_return_31_41.shift(1)\n",
    "\n",
    "pc_mom_return_41_43 = (long_portfolio_PC[r_pc_41_43].shift(-1) *\n",
    "                       lev_r_pc[r_pc_41_43]).sum(axis=1)- (short_portfolio_PC[r_pc_41_43].shift(-1) * lev_r_pc[r_pc_41_43]).sum(axis=1)\n",
    "\n",
    "pc_mom_return_41_43 = pc_mom_return_41_43.shift(1)"
   ],
   "metadata": {
    "collapsed": false
   },
   "id": "3874ddc066752513"
  },
  {
   "cell_type": "code",
   "outputs": [],
   "source": [
    "# constructing the momentum factor of individual factors (weet niet of we deze nodig hebben) \n",
    "\n",
    "average_returns_indiv = r_monthly.rolling(window=12).mean()\n",
    "\n",
    "\n",
    "positive_returns_indiv = average_returns_indiv > 0\n",
    "negative_returns_indiv = average_returns_indiv < 0\n",
    "\n",
    "long_portfolio = positive_returns_indiv.astype(int)\n",
    "short_portfolio = negative_returns_indiv.astype(int)\n",
    "\n",
    "\n",
    "mom_strategy_return = (long_portfolio.shift(-1) * lev_r_indiv).sum(axis=1) - (short_portfolio.shift(-1) * lev_r_indiv).sum(axis=1)\n",
    "mom_strategy_return = mom_strategy_return.shift(1)\n",
    "print(mom_strategy_return)"
   ],
   "metadata": {
    "collapsed": false
   },
   "id": "6cada1e302962555"
  }
 ],
 "metadata": {
  "kernelspec": {
   "display_name": "Python 3",
   "language": "python",
   "name": "python3"
  },
  "language_info": {
   "codemirror_mode": {
    "name": "ipython",
    "version": 2
   },
   "file_extension": ".py",
   "mimetype": "text/x-python",
   "name": "python",
   "nbconvert_exporter": "python",
   "pygments_lexer": "ipython2",
   "version": "2.7.6"
  }
 },
 "nbformat": 4,
 "nbformat_minor": 5
}
