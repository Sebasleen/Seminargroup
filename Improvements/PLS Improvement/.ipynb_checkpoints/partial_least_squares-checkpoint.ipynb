{
 "cells": [
  {
   "cell_type": "code",
   "execution_count": 23,
   "id": "a5b05e3f-5f84-47de-af2f-5fc2a8c6a7f7",
   "metadata": {
    "collapsed": false
   },
   "outputs": [],
   "source": [
    "import pandas as pd\n",
    "from sklearn.cross_decomposition import PLSRegression\n",
    "import calendar\n",
    "import numpy as np\n",
    "import statsmodels.api as sm"
   ]
  },
  {
   "cell_type": "markdown",
   "source": [
    "### data loading and pre-processing"
   ],
   "metadata": {
    "collapsed": false
   },
   "id": "fe8d1a2204069d30"
  },
  {
   "cell_type": "code",
   "outputs": [],
   "source": [
    "url = 'https://github.com/Sebasleen/Seminargroup/raw/Seminar/Data/managed_portfolios_anom_d_55.csv'\n",
    "\n",
    "r_daily = pd.read_csv(url)\n",
    "momentum_list = ['r_mom', 'r_indmom', 'r_valmom', 'r_valmomprof', 'r_mom12', 'r_momrev', 'r_indmomrev', 'r_exchsw']\n",
    "r_daily.drop(columns=momentum_list, inplace=True)\n",
    "\n",
    "# set date to datetime format and set the date to the index \n",
    "r_daily['date'] = pd.to_datetime(r_daily['date'])\n",
    "r_daily.set_index('date', inplace=True)\n",
    "\n",
    "# following the procedure in the paper, if there are observations missing we set them to 0. \n",
    "r_daily.fillna(0, inplace=True)\n",
    "\n",
    "# create a list of factors for later analysis purposes \n",
    "factors = [col for col in r_daily.columns if col.startswith('r_')]\n",
    "r_daily.drop(columns=['rme', 're_ew'], inplace=True)\n",
    "\n",
    "# create a monthly return dataframe for later analysis purposes \n",
    "r_monthly = r_daily.resample(\"M\").sum()"
   ],
   "metadata": {
    "collapsed": false
   },
   "id": "f1dde18afb5d78d2"
  },
  {
   "cell_type": "markdown",
   "source": [
    "### constructing the y variable "
   ],
   "metadata": {
    "collapsed": false
   },
   "id": "41ec3d255b4b662f"
  },
  {
   "cell_type": "code",
   "outputs": [],
   "source": [
    "# we first calculate the average return of each factor in the period t until t-11 (and drop our missing year)\n",
    "r_monthly_average = r_monthly.rolling(window=12).mean()\n",
    "r_monthly_average.dropna(inplace=True)\n",
    "\n",
    "# create a boolean dataframe with True or False (True for positive returns or True for negative returns)\n",
    "positive_returns = r_monthly_average > 0\n",
    "negative_returns = r_monthly_average < 0\n",
    "\n",
    "# create from the boolean dataframe the binary dataframe \n",
    "long_portfolio = positive_returns.astype(int)\n",
    "short_portfolio = negative_returns.astype(int)\n",
    "\n",
    "# shift 1 month ahead to calculate the return of strategy at t+1 \n",
    "long_portfolio = long_portfolio.shift(1)\n",
    "short_portfolio = short_portfolio.shift(1)\n",
    "\n",
    "# reindex the long_portfolio dataframe to the daily frequency and the missing observations\n",
    "long_portfolio_daily = long_portfolio.reindex(r_daily.index)\n",
    "long_portfolio_daily = long_portfolio_daily.bfill()\n",
    "long_portfolio_daily = long_portfolio_daily.loc['1964-07-01':]\n",
    "\n",
    "# reindex the short_portfolio dataframe to the daily frequency and fill the missing observations\n",
    "\n",
    "short_portfolio_daily = short_portfolio.reindex(r_daily.index)\n",
    "short_portfolio_daily = short_portfolio_daily.bfill()\n",
    "short_portfolio_daily = short_portfolio_daily.loc['1964-07-01':]\n",
    "\n",
    "# create dataframe for returns that matches length of portfolio\n",
    "\n",
    "r_daily_strategy = r_daily.loc['1964-07-01':]\n",
    "\n",
    "# compute the return of the momentum strategy (this will be used as Y variable)\n",
    "r_strategy = ((r_daily_strategy * long_portfolio_daily) - (r_daily_strategy * short_portfolio_daily)).sum(axis=1)\n"
   ],
   "metadata": {
    "collapsed": false
   },
   "id": "bb8ff4882a8d38ec"
  },
  {
   "cell_type": "code",
   "outputs": [],
   "source": [
    "# first set our r_monthly back to expected YYYY-MM format \n",
    "r_monthly.index = r_monthly.index.strftime('%Y-%m')\n",
    "\n",
    "# select our start date \n",
    "start_date = pd.to_datetime(\"1964-07-01\")\n",
    "\n",
    "# create an empty dataframe for our calculations of the average return over the period t-1 to t-11\n",
    "pls_avg_df = pd.DataFrame()\n",
    "\n",
    "# create an empty list for the pls return dataframes. These will be concated in a later stage to one large dataframe\n",
    "pls_return_dfs = []\n",
    "\n",
    "# Create an empty dataframe for monthly PLS returns\n",
    "pls_return_df = pd.DataFrame(columns=['date'] + [f\"PLS{i+1}\" for i in range(len(factors))])\n",
    "\n",
    "# Initialize an empty list to store PLS weights\n",
    "pls_weights_list = []\n",
    "\n",
    "# Loop through years and months\n",
    "for year in range(1973, 2020):\n",
    "    # as our out of sample procedure starts July 1973, we start in the 7th month in 1973\n",
    "    for mo in range(6,13) if year == 1973 else range(1, 13):\n",
    "        # first we have to find the last month of the day. For this we use the calender function with inputs from the loop variables\n",
    "        last_day = calendar.monthrange(year, mo)[1]\n",
    "\n",
    "        # we select our new end_date variable for which the Pls analysis is done, also with inputs from our loop and the last_day variable\n",
    "        end_date = pd.to_datetime(f'{year}-{mo}-{last_day}')\n",
    "\n",
    "        t_dt = pd.to_datetime(f'{year}-{mo}')\n",
    "        t = t_dt.strftime('%Y-%m')\n",
    "\n",
    "        # select data range for PLS analysis\n",
    "        pls_data = r_daily.loc[start_date:end_date]\n",
    "        pls_data_y = r_strategy[start_date:end_date]\n",
    "\n",
    "        # assign features (X) and target (y)\n",
    "        X = pls_data\n",
    "        y = pls_data_y\n",
    "\n",
    "        # fit PLS model\n",
    "        pls = PLSRegression(n_components=47)\n",
    "        pls.fit(X, y)\n",
    "\n",
    "\n",
    "        # extract and store PLS weights\n",
    "        pls_weights = pd.DataFrame(\n",
    "            np.array(pls.x_weights_),\n",
    "            index=factors,\n",
    "            columns=[f\"PLS{i+1}\" for i in range(47)]\n",
    "        )\n",
    "        # calculating return for month t+1. If mo = 12, then year will increment with 1. \n",
    "\n",
    "        t_plus_1_year = year + 1 if mo == 12 else year\n",
    "        t_plus_1_month = (mo % 12) + 1\n",
    "\n",
    "        # creating a datetime variable for the month t+1 and storing this in our pls_return_data variable\n",
    "\n",
    "        t_plus_1_dt =pd.to_datetime(f'{t_plus_1_year}-{t_plus_1_month}')\n",
    "        t_plus_1 = t_plus_1_dt.strftime('%Y-%m')\n",
    "\n",
    "        pls_return_data = {'date': t_plus_1}\n",
    "\n",
    "\n",
    "        # in this loop we calculate the monthly factor returns (f) using the principal components and returns\n",
    "\n",
    "        for f in range(len(factors)):\n",
    "            # select our factor and extract its principal component from principal_df and its return from r_daily for all observations in month mo \n",
    "            pls = pls_weights.iloc[:, f]\n",
    "            r_month = r_monthly.loc[t]\n",
    "\n",
    "            # multiply the principal components with the returns and sum them up to get Pls factor return for month mo \n",
    "            pls_return = (pls*r_month).sum()\n",
    "\n",
    "            # place this in our dictionary for later transposing to dataframe\n",
    "\n",
    "            pls_return_data[pls_weights.columns[f]] = pls_return\n",
    "\n",
    "            r_pls_month_n_list = []\n",
    "\n",
    "            for n in range(1, 12):\n",
    "                # calculate the datetime for t - n\n",
    "                t_minus_n_dt = t_dt - pd.DateOffset(months=n)\n",
    "\n",
    "                # transpose it to our YYYY-MM format\n",
    "                t_minus_n = t_minus_n_dt.strftime('%Y-%m')\n",
    "\n",
    "                # select the return corresponding to our month t-n\n",
    "                r_month_n = r_monthly.shift(n).loc[t_minus_n]\n",
    "                pls_return_n = (pls*r_month_n).sum()\n",
    "                r_pls_month_n_list.append(pls_return_n)\n",
    "\n",
    "            r_pls_month_mean = (np.mean(r_pls_month_n_list))\n",
    "            pls_avg_df.loc[t, f'PLS{f+1}'] = r_pls_month_mean\n",
    "\n",
    "\n",
    "        pls_return_df = pd.DataFrame.from_dict(pls_return_data, orient='index').T\n",
    "        pls_return_df.set_index('date', inplace=True)\n",
    "        pls_return_dfs.append(pls_return_df)\n",
    "\n",
    "r_pls = pd.concat(pls_return_dfs)\n",
    "print(r_pls)"
   ],
   "metadata": {
    "collapsed": false
   },
   "id": "9b636570df8d5d5a"
  },
  {
   "cell_type": "markdown",
   "source": [
    "### leveraging and demeaing resulsts"
   ],
   "metadata": {
    "collapsed": false
   },
   "id": "3930111c487520cc"
  },
  {
   "cell_type": "code",
   "outputs": [],
   "source": [
    "# Define the start date\n",
    "start_date_dt = pd.to_datetime(\"1964-07-01\")\n",
    "start_date = start_date_dt.strftime('%Y-%m')\n",
    "\n",
    "# Create an empty list to store leverage-adjusted PLS factors\n",
    "lev_pls_dfs = []\n",
    "\n",
    "for year in range(1973, 2020):\n",
    "    # Loop through months\n",
    "    for mo in range(7, 13) if year == 1973 else range(1, 13):\n",
    "        # Define the current date\n",
    "        t_dt = pd.to_datetime(f'{year}-{mo}')\n",
    "        t = t_dt.strftime('%Y-%m')\n",
    "\n",
    "        # Calculate the variance of the individual factor returns up until month t \n",
    "        r_indiv_f_t = r_monthly.loc[start_date:t]\n",
    "        var_indiv_f_t = r_indiv_f_t.var(axis=0)\n",
    "        avg_var_indiv_f_t = var_indiv_f_t.mean()\n",
    "\n",
    "        # Calculate the mean and variance of the PLS factors up until month t \n",
    "        r_pls_t = r_pls.loc[:t]\n",
    "        demeaned_r_pls_t = r_pls_t.loc[t].to_frame().T - r_pls_t.mean()\n",
    "\n",
    "        # Calculate the leverage factor\n",
    "        nonzero_std = np.where(r_pls_t.std(axis=0) != 0, r_pls_t.std(axis=0), 1)\n",
    "        leverage_t = np.sqrt(avg_var_indiv_f_t) / nonzero_std\n",
    "\n",
    "        # Multiply leverage factor with the demeaned PLS factors\n",
    "        lev_r_pls_t = demeaned_r_pls_t * leverage_t\n",
    "\n",
    "        # Append the leveraged PLS factors to the list\n",
    "        lev_pls_dfs.append(lev_r_pls_t)\n",
    "\n",
    "# Concatenate the leveraged PLS factors into a single DataFrame\n",
    "lev_r_pls = pd.concat(lev_pls_dfs)\n",
    "lev_r_pls.fillna(0, inplace=True)\n",
    "lev_r_pls_clean = lev_r_pls.drop(lev_r_pls.index[:1])\n",
    "\n",
    "print(lev_r_pls_clean)"
   ],
   "metadata": {
    "collapsed": false
   },
   "id": "23ac7dc44dde6b4d"
  },
  {
   "cell_type": "markdown",
   "source": [
    "### constructing the momentum strategy"
   ],
   "metadata": {
    "collapsed": false
   },
   "id": "3e09ccc57952600"
  },
  {
   "cell_type": "code",
   "outputs": [],
   "source": [
    "# create two boolean dataframes: one for positive average returns and one for negative average returns\n",
    "positive_returns_PLS = pls_avg_df > 0\n",
    "negative_returns_PLS = pls_avg_df < 0\n",
    "\n",
    "# convert the boolean dataframes to integers and 0's, one for long positions and one for short positions\n",
    "long_portfolio_PLS= positive_returns_PLS.astype(int)\n",
    "short_portfolio_PLS = negative_returns_PLS.astype(int)\n",
    "\n",
    "# create the 5 subsets of PCs\n",
    "mom_1_10 = ['PLS1', 'PLS2', 'PLS3', 'PLS4', 'PLS5', 'PLS6', 'PLS7', 'PLS8', 'PLS9', 'PLS10']\n",
    "mom_11_20 = ['PLS11', 'PLS12', 'PLS13', 'PLS14', 'PLS15', 'PLS16', 'PLS17', 'PLS18', 'PLS19', 'PLS20']\n",
    "mom_21_30 = ['PLS21', 'PLS22', 'PLS23', 'PLS24', 'PLS25', 'PLS26', 'PLS27', 'PLS28', 'PLS29', 'PLS30']\n",
    "mom_31_40 = ['PLS31', 'PLS32', 'PLS33', 'PLS34', 'PLS35', 'PLS36', 'PLS37', 'PLS38', 'PLS39', 'PLS40']\n",
    "mom_41_47 = ['PLS41', 'PLS42', 'PLS43', 'PLS44', 'PLS45', 'PLS46', 'PLS47']\n",
    "\n",
    "\n",
    "# create a list of the subsets for our loop\n",
    "mom_list = [mom_1_10, mom_11_20, mom_21_30, mom_31_40, mom_41_47]\n",
    "\n",
    "# create an empty dictionary \n",
    "r_mean_set_dict = {}\n",
    "\n",
    "# create a loop where the dummy dataframe is multiplied with the leveraged PC return dataframe. We shift the portfolio indicator with one, as we need to calculate the returns of t+1. \n",
    "for i, mom in enumerate(mom_list):\n",
    "    # create the strategy: the return of the long positions minus the return of the short positions (accounting for the fact that negative short returns need to become positive\n",
    "    r_PLS_set_mom = (long_portfolio_PLS[mom].shift(1) * lev_r_pls_clean[mom]) - (short_portfolio_PLS[mom].shift(1) * lev_r_pls_clean[mom])\n",
    "    # we take the mean of the returns of the 10 PC subsets\n",
    "    r_PLS_set_mean = r_PLS_set_mom.mean(axis=1)\n",
    "    # we append it to our dictionary\n",
    "    r_mean_set_dict[f'mom_set_{i + 1}'] = r_PLS_set_mean\n",
    "\n",
    "# create the dataframe with the series of returns for each subset of PCS\n",
    "mom_strategy = pd.concat(r_mean_set_dict, axis=1)\n",
    "\n",
    "mom_strategy.index = pd.to_datetime(mom_strategy.index)\n",
    "mom_strategy.index = mom_strategy.index.strftime('%Y-%m')\n",
    "mom_strategy.dropna(inplace=True)\n",
    "\n",
    "print(mom_strategy.mean(axis=0))"
   ],
   "metadata": {
    "collapsed": false
   },
   "id": "86c8542a96dd702b"
  },
  {
   "cell_type": "markdown",
   "source": [
    "### replicate Panel A table 3 using data from PLS"
   ],
   "metadata": {
    "collapsed": false
   },
   "id": "6679916af462f3f4"
  },
  {
   "cell_type": "code",
   "outputs": [],
   "source": [
    "# select the full sample dataframe in the paper and create the two splitted periods \n",
    "mom_strategy_full = mom_strategy.loc['1973-07':'2019-12']\n",
    "mom_strategy_1 = mom_strategy.loc['1973-07':'1996-09']\n",
    "mom_strategy_2 = mom_strategy.loc['1996-09':]\n",
    "\n",
    "print(f'the mean of every subset of PCs is:\\n')\n",
    "print(mom_strategy_full.mean(axis=0))\n",
    "\n",
    "means = mom_strategy.mean(axis=0).tolist()\n",
    "std = mom_strategy.std(axis=0).tolist()\n",
    "N = mom_strategy.shape[0]\n",
    "\n",
    "print(f'\\n')\n",
    "print(f'the t-statistic of every subset of PCS is:\\n')\n",
    "for m, s in zip(means, std):\n",
    "    t_statistic = m / (s / (N**0.5))\n",
    "    print(t_statistic)\n",
    "\n",
    "print(f'\\n')\n",
    "print(f'the mean of every subset of PCs is (first half):\\n')\n",
    "print(mom_strategy_1.mean(axis=0))\n",
    "\n",
    "means = mom_strategy_1.mean(axis=0).tolist()\n",
    "std = mom_strategy_1.std(axis=0).tolist()\n",
    "N = mom_strategy_1.shape[0]\n",
    "\n",
    "print(f'\\n')\n",
    "print(f'the t-statistic of every subset of PCS is (first half):\\n')\n",
    "for m, s in zip(means, std):\n",
    "    t_statistic = m / (s / (N**0.5))\n",
    "    print(t_statistic)\n",
    "\n",
    "print(f'\\n')\n",
    "print(f'the mean of every subset of PCs is (second half):\\n')\n",
    "print(mom_strategy_2.mean(axis=0))\n",
    "\n",
    "means = mom_strategy_2.mean(axis=0).tolist()\n",
    "std = mom_strategy_2.std(axis=0).tolist()\n",
    "N = mom_strategy_2.shape[0]\n",
    "\n",
    "print(f'\\n')\n",
    "print(f'the t-statistic of every subset of PCS is (second half):\\n')\n",
    "for m, s in zip(means, std):\n",
    "    t_statistic = m / (s / (N**0.5))\n",
    "    print(t_statistic)"
   ],
   "metadata": {
    "collapsed": false
   },
   "id": "8f8f1ea7da232bd1"
  }
 ],
 "metadata": {
  "kernelspec": {
   "display_name": "Python 3 (ipykernel)",
   "language": "python",
   "name": "python3"
  },
  "language_info": {
   "codemirror_mode": {
    "name": "ipython",
    "version": 3
   },
   "file_extension": ".py",
   "mimetype": "text/x-python",
   "name": "python",
   "nbconvert_exporter": "python",
   "pygments_lexer": "ipython3",
   "version": "3.11.7"
  }
 },
 "nbformat": 4,
 "nbformat_minor": 5
}
