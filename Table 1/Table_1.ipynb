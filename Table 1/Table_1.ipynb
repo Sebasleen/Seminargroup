{
 "cells": [
  {
   "cell_type": "code",
   "execution_count": 2,
   "id": "e3e35eb0-c1bc-43d8-acf0-bfabfc5d26a8",
   "metadata": {
    "tags": [],
    "ExecuteTime": {
     "end_time": "2024-02-26T12:48:10.495312Z",
     "start_time": "2024-02-26T12:48:10.494096Z"
    }
   },
   "outputs": [],
   "source": [
    "\n",
    "import numpy as np\n",
    "import seaborn as sns\n",
    "import pandas as pd"
   ]
  },
  {
   "cell_type": "markdown",
   "id": "24526e3e-a020-4abd-b2ac-e64eea643276",
   "metadata": {
    "tags": []
   },
   "source": [
    "<font size='5' face='Times new Roman'>\n",
    "De US Factors heten: Anomalies_US  \n",
    "<br>\n",
    "De Global Factors heten: Anomalies_GF\n",
    "<br>\n",
    "De table 1: Anomaliescombinedtable\n",
    "    <font>"
   ]
  },
  {
   "cell_type": "markdown",
   "id": "c9e52379-b56c-4f14-91ca-3c885dfb561b",
   "metadata": {},
   "source": [
    "<font size='4' face='Times new Roman'>\n",
    "    Dit worden de US Factors\n",
    "    <font>"
   ]
  },
  {
   "cell_type": "code",
   "execution_count": 4,
   "id": "a948591d-5e11-4577-8693-643a5920c0e2",
   "metadata": {
    "tags": [],
    "ExecuteTime": {
     "end_time": "2024-02-26T12:55:24.602097Z",
     "start_time": "2024-02-26T12:55:24.114614Z"
    }
   },
   "outputs": [
    {
     "name": "stdout",
     "output_type": "stream",
     "text": [
      "['ac' 'bab' 'cfp' 'cma' 'ep' 'hml' 'liq' 'ltrev' 'nsi' 'qmj' 'rmw' 'rvar'\n",
      " 'smb' 'strev' 'umd' 'glbab' 'glcma' 'glhml' 'glqmj' 'glrmw' 'glsmb'\n",
      " 'glumd']\n",
      "       year  month anomaly    ret   time  global\n",
      "0      1963      7      ac  2.170   42.0     0.0\n",
      "1      1963      8      ac -0.197   43.0     0.0\n",
      "2      1963      9      ac  0.600   44.0     0.0\n",
      "3      1963     10      ac  6.463   45.0     0.0\n",
      "4      1963     11      ac -2.260   46.0     0.0\n",
      "...     ...    ...     ...    ...    ...     ...\n",
      "10111  2019      8     umd  7.600  715.0     0.0\n",
      "10112  2019      9     umd -6.850  716.0     0.0\n",
      "10113  2019     10     umd  0.240  717.0     0.0\n",
      "10114  2019     11     umd -2.620  718.0     0.0\n",
      "10115  2019     12     umd -2.130  719.0     0.0\n",
      "\n",
      "[10116 rows x 6 columns]\n",
      "       year  month anomaly       ret   time  global\n",
      "10116  1987      2   glbab  2.236918  325.0     1.0\n",
      "10117  1987      3   glbab  1.828450  326.0     1.0\n",
      "10118  1987      4   glbab -5.521739  327.0     1.0\n",
      "10119  1987      5   glbab -0.513814  328.0     1.0\n",
      "10120  1987      6   glbab  1.579217  329.0     1.0\n",
      "...     ...    ...     ...       ...    ...     ...\n",
      "12638  2019      8   glumd  2.990000  715.0     1.0\n",
      "12639  2019      9   glumd -3.260000  716.0     1.0\n",
      "12640  2019     10   glumd -0.940000  717.0     1.0\n",
      "12641  2019     11   glumd  0.000000  718.0     1.0\n",
      "12642  2019     12   glumd  0.740000  719.0     1.0\n",
      "\n",
      "[2527 rows x 6 columns]\n"
     ]
    }
   ],
   "source": [
    "file_url = 'https://raw.githubusercontent.com/Sebasleen/Seminargroup/Seminar/US%20Factors/anomalies.dta'\n",
    "\n",
    "# Read the Stata file content\n",
    "Anomalies = pd.read_stata(file_url)\n",
    "\n",
    "# Display unique values in the 'anomaly' column\n",
    "print(Anomalies['anomaly'].unique())\n",
    "\n",
    "#Hier heb ik de global factors verwijderd\n",
    "column_name = 'anomaly'\n",
    "values_to_dropUS = ['glbab', 'glcma', 'glhml', 'glqmj', 'glrmw', 'glsmb', 'glumd']\n",
    "ElementsUS = Anomalies[column_name].isin(values_to_dropUS)\n",
    "Anomalies_US = Anomalies[~ElementsUS]\n",
    "\n",
    "column_name = 'anomaly'\n",
    "values_to_dropGF = ['ac', 'bab', 'cfp', 'cma', 'ep', 'hml', 'liq', 'ltrev', 'nsi', 'qmj', 'rmw', 'rvar',\n",
    "'smb', 'strev', 'umd']\n",
    "ElementsGF = Anomalies[column_name].isin(values_to_dropGF)\n",
    "Anomalies_GF = Anomalies[~ElementsGF]\n",
    "\n",
    "#Dit zijn dus alle 15 factors die alleen bij de US horen. \n",
    "print(Anomalies_US)\n",
    "\n",
    "#En dit zijn alle 7 global factors\n",
    "print(Anomalies_GF)\n",
    "\n"
   ]
  },
  {
   "cell_type": "markdown",
   "id": "bf7c884d-091b-4d87-ae2d-7c17745a1798",
   "metadata": {},
   "source": [
    "<font size='4' face='Times new Roman'>    \n",
    "\n",
    "Voor de duidelijkheid, dit zijn de US factors:\n",
    "\n",
    "- **-ac**: Accruals\n",
    "- **-bab**: Betting against Beta\n",
    "- **-cfp**: Cash-flow to price\n",
    "- **-cma**: Investment (Conservative minus aggressive)\n",
    "- **-ep**: Earnings to price\n",
    "- **-hml**: Value\n",
    "- **-liq**: Liquidity\n",
    "- **-ltrev**: Long-term reversal\n",
    "- **-nsi**: Net share issue\n",
    "- **-qmj**: Quality minus junk\n",
    "- **-rmw**: Profitability\n",
    "- **-rvar**: Residual Variance\n",
    "- **-smb**: Size\n",
    "- **-strev**: Short-term reversals\n",
    "- **-umd**: Momentum\n",
    "\n",
    "En dit zijn de global factors die ik zojuist heb gedropt:\n",
    "\n",
    "- **glbab**: Betting against beta\n",
    "- **glcma**: Investment (Conservative minus aggressive)\n",
    "- **glhml**: Value (high minus low)\n",
    "- **glqmj**: Quality minus junk\n",
    "- **glrmw**: Profitability (robust minus weak)\n",
    "- **glumd**: Momentum (up minus down)\n",
    "- **glsmb**: Size (small minus big)\n",
    "\n",
    "</font>\n"
   ]
  },
  {
   "cell_type": "code",
   "execution_count": 228,
   "id": "cebfe456-f6a6-40ff-8f96-edac68c32436",
   "metadata": {
    "tags": []
   },
   "outputs": [
    {
     "name": "stdout",
     "output_type": "stream",
     "text": [
      "   anomaly  Mean     SD T-value\n",
      "0       ac  2.8%   6.6%    3.19\n",
      "1      bab  9.8%  11.2%    6.55\n",
      "2      cfp  3.4%   8.6%    2.94\n",
      "3      cma  3.3%   6.9%    3.59\n",
      "4       ep  3.5%   8.9%    2.95\n",
      "5      hml  3.6%   9.7%    2.82\n",
      "6      liq  4.4%  11.6%    2.77\n",
      "7    ltrev  2.5%   8.7%    2.16\n",
      "8      nsi  2.8%   8.2%    2.52\n",
      "9      qmj  4.6%   7.7%    4.47\n",
      "10     rmw  3.1%   7.5%    3.13\n",
      "11    rvar  1.6%  17.3%    0.68\n",
      "12     smb  2.7%  10.4%    1.97\n",
      "13   strev  6.0%  10.6%    4.21\n",
      "14     umd  7.8%  14.5%    4.02\n"
     ]
    }
   ],
   "source": [
    "#Table 1: Descriptive Statistics US Factors\n",
    "\n",
    "AnomaliesUS = Anomalies_US.groupby(['anomaly']).agg({'ret': ['mean', 'std', 'count']}).reset_index()\n",
    "AnomaliesUS = Anomalies_US.pivot_table(index='anomaly', values='ret', aggfunc=['mean', 'std', 'count'])\n",
    "AnomaliesUS.columns = ['Mean', 'SD', 'ret_number']\n",
    "AnomaliesUS.reset_index(inplace=True)\n",
    "\n",
    "#Calculate the table stuff\n",
    "AnomaliesUS.columns = ['anomaly', 'Mean', 'SD', 'ret_number']\n",
    "\n",
    "# Calculate additional statistics\n",
    "AnomaliesUS['ret_semean'] = AnomaliesUS['SD'] / np.sqrt(AnomaliesUS['ret_number'])\n",
    "\n",
    "#Times 12 to annualize it\n",
    "AnomaliesUS['ret'] = AnomaliesUS['Mean'] * 12 \n",
    "\n",
    "#Times Squareroot 12 to annualize it\n",
    "AnomaliesUS['sd'] = AnomaliesUS['SD'] * np.sqrt(12) \n",
    "\n",
    "#Calculate the t-stat by dividing the return by the standard error of the mean. Divide by 12 to\n",
    "#annualize it\n",
    "AnomaliesUS['tstat'] = AnomaliesUS['ret'] / AnomaliesUS['ret_semean'] /12\n",
    "\n",
    "#Format Table\n",
    "AnomaliesUS[['Mean']] = AnomaliesUS[['ret']].apply(lambda x: x.map(\"{:.1f}%\".format))\n",
    "AnomaliesUS[['SD']] = AnomaliesUS[['sd']].apply(lambda x: x.map(\"{:.1f}%\".format))\n",
    "AnomaliesUS[['T-value']] = AnomaliesUS[['tstat']].apply(lambda x: x.map(\"{:.2f}\".format))\n",
    "\n",
    "print(AnomaliesUS[['anomaly','Mean','SD','T-value']])\n"
   ]
  },
  {
   "cell_type": "code",
   "execution_count": 240,
   "id": "d5f0fba3-9b31-4a12-bf9d-cad86d4f96e3",
   "metadata": {},
   "outputs": [
    {
     "name": "stdout",
     "output_type": "stream",
     "text": [
      "  anomaly  Mean     SD T-value\n",
      "0   glbab  9.6%   9.7%    5.70\n",
      "1   glcma  1.9%   6.0%    1.74\n",
      "2   glhml  4.0%   7.4%    2.92\n",
      "3   glqmj  6.2%   6.8%    5.06\n",
      "4   glrmw  4.3%   4.7%    4.91\n",
      "5   glsmb  1.1%   7.1%    0.83\n",
      "6   glumd  7.9%  12.1%    3.54\n"
     ]
    }
   ],
   "source": [
    "#Table 1: Descriptive Statistics US Factors\n",
    "\n",
    "AnomaliesGF = Anomalies_GF.groupby(['anomaly']).agg({'ret': ['mean', 'std', 'count']}).reset_index()\n",
    "AnomaliesGF = Anomalies_GF.pivot_table(index='anomaly', values='ret', aggfunc=['mean', 'std', 'count'])\n",
    "AnomaliesGF.columns = ['Mean', 'SD', 'ret_number']\n",
    "AnomaliesGF.reset_index(inplace=True)\n",
    "\n",
    "#Calculate the table stuff\n",
    "AnomaliesGF.columns = ['anomaly', 'Mean', 'SD', 'ret_number']\n",
    "\n",
    "# Calculate additional statistics\n",
    "AnomaliesGF['ret_semean'] = AnomaliesGF['SD'] / np.sqrt(AnomaliesGF['ret_number'])\n",
    "\n",
    "#Times 12 to annualize it\n",
    "AnomaliesGF['ret'] = AnomaliesGF['Mean'] * 12 \n",
    "\n",
    "#Times Squareroot 12 to annualize it\n",
    "AnomaliesGF['sd'] = AnomaliesGF['SD'] * np.sqrt(12) \n",
    "\n",
    "#Calculate the t-stat by dividing the return by the standard error of the mean. Divide by 12 to\n",
    "#annualize it\n",
    "AnomaliesGF['tstat'] = AnomaliesGF['ret'] / AnomaliesGF['ret_semean'] /12\n",
    "\n",
    "#Format Table\n",
    "AnomaliesGF[['Mean']] = AnomaliesGF[['ret']].apply(lambda x: x.map(\"{:.1f}%\".format))\n",
    "AnomaliesGF[['SD']] = AnomaliesGF[['sd']].apply(lambda x: x.map(\"{:.1f}%\".format))\n",
    "AnomaliesGF[['T-value']] = AnomaliesGF[['tstat']].apply(lambda x: x.map(\"{:.2f}\".format))\n",
    "\n",
    "print(AnomaliesGF[['anomaly','Mean','SD','T-value']])\n"
   ]
  },
  {
   "cell_type": "code",
   "execution_count": 256,
   "id": "6bc1ddf3-032d-48b9-b08f-579ced61ba31",
   "metadata": {},
   "outputs": [
    {
     "name": "stdout",
     "output_type": "stream",
     "text": [
      "   anomaly  Mean     SD T-value\n",
      "0       ac  2.8%   6.6%    3.19\n",
      "1      bab  9.8%  11.2%    6.55\n",
      "2      cfp  3.4%   8.6%    2.94\n",
      "3      cma  3.3%   6.9%    3.59\n",
      "4       ep  3.5%   8.9%    2.95\n",
      "5      hml  3.6%   9.7%    2.82\n",
      "6      liq  4.4%  11.6%    2.77\n",
      "7    ltrev  2.5%   8.7%    2.16\n",
      "8      nsi  2.8%   8.2%    2.52\n",
      "9      qmj  4.6%   7.7%    4.47\n",
      "10     rmw  3.1%   7.5%    3.13\n",
      "11    rvar  1.6%  17.3%    0.68\n",
      "12     smb  2.7%  10.4%    1.97\n",
      "13   strev  6.0%  10.6%    4.21\n",
      "14     umd  7.8%  14.5%    4.02\n",
      "15   glbab  9.6%   9.7%    5.70\n",
      "16   glcma  1.9%   6.0%    1.74\n",
      "17   glhml  4.0%   7.4%    2.92\n",
      "18   glqmj  6.2%   6.8%    5.06\n",
      "19   glrmw  4.3%   4.7%    4.91\n",
      "20   glsmb  1.1%   7.1%    0.83\n",
      "21   glumd  7.9%  12.1%    3.54\n"
     ]
    }
   ],
   "source": [
    "#Dit zijn beide US en Global factors combined\n",
    "\n",
    "AnomaliesUScomb = AnomaliesUS[['anomaly', 'Mean', 'SD', 'T-value']]\n",
    "AnomaliesGFcomb = AnomaliesGF[['anomaly', 'Mean', 'SD', 'T-value']]\n",
    "\n",
    "Anomaliescombinedtable = pd.concat([AnomaliesUScomb, AnomaliesGFcomb], ignore_index=True)\n",
    "print(Anomaliescombinedtable)\n"
   ]
  }
 ],
 "metadata": {
  "kernelspec": {
   "display_name": "Python 3 (ipykernel)",
   "language": "python",
   "name": "python3"
  },
  "language_info": {
   "codemirror_mode": {
    "name": "ipython",
    "version": 3
   },
   "file_extension": ".py",
   "mimetype": "text/x-python",
   "name": "python",
   "nbconvert_exporter": "python",
   "pygments_lexer": "ipython3",
   "version": "3.11.5"
  }
 },
 "nbformat": 4,
 "nbformat_minor": 5
}
