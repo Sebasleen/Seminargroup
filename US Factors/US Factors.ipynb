{
 "cells": [
  {
   "cell_type": "code",
   "execution_count": 1,
   "id": "e3e35eb0-c1bc-43d8-acf0-bfabfc5d26a8",
   "metadata": {
    "tags": [],
    "ExecuteTime": {
     "end_time": "2024-02-02T10:13:02.256382Z",
     "start_time": "2024-02-02T10:13:02.029527Z"
    }
   },
   "outputs": [],
   "source": [
    "\n",
    "import numpy as np\n",
    "import seaborn as sns\n",
    "import pandas as pd\n",
    "import statsmodels.api as sm"
   ]
  },
  {
   "cell_type": "markdown",
   "id": "24526e3e-a020-4abd-b2ac-e64eea643276",
   "metadata": {
    "tags": []
   },
   "source": [
    "<font size='5' face='Times new Roman'>\n",
    "De US Factors heten: Anomalies_US  \n",
    "<br>\n",
    "De Global Factors heten: Anomalies_GF\n",
    "<br>\n",
    "De table 1: Anomaliescombinedtable\n",
    "    <font>"
   ]
  },
  {
   "cell_type": "markdown",
   "id": "c9e52379-b56c-4f14-91ca-3c885dfb561b",
   "metadata": {},
   "source": [
    "<font size='4' face='Times new Roman'>\n",
    "    Dit worden de US Factors\n",
    "    <font>"
   ]
  },
  {
   "cell_type": "code",
   "execution_count": 265,
   "id": "a948591d-5e11-4577-8693-643a5920c0e2",
   "metadata": {
    "tags": []
   },
   "outputs": [
    {
     "name": "stdout",
     "output_type": "stream",
     "text": [
      "['ac' 'bab' 'cfp' 'cma' 'ep' 'hml' 'liq' 'ltrev' 'nsi' 'qmj' 'rmw' 'rvar'\n",
      " 'smb' 'strev' 'umd' 'glbab' 'glcma' 'glhml' 'glqmj' 'glrmw' 'glsmb'\n",
      " 'glumd']\n",
      "       year  month anomaly    ret   time  global\n",
      "0      1963      7      ac  2.170   42.0     0.0\n",
      "1      1963      8      ac -0.197   43.0     0.0\n",
      "2      1963      9      ac  0.600   44.0     0.0\n",
      "3      1963     10      ac  6.463   45.0     0.0\n",
      "4      1963     11      ac -2.260   46.0     0.0\n",
      "...     ...    ...     ...    ...    ...     ...\n",
      "10111  2019      8     umd  7.600  715.0     0.0\n",
      "10112  2019      9     umd -6.850  716.0     0.0\n",
      "10113  2019     10     umd  0.240  717.0     0.0\n",
      "10114  2019     11     umd -2.620  718.0     0.0\n",
      "10115  2019     12     umd -2.130  719.0     0.0\n",
      "\n",
      "[10116 rows x 6 columns]\n",
      "       year  month anomaly       ret   time  global\n",
      "10116  1987      2   glbab  2.236918  325.0     1.0\n",
      "10117  1987      3   glbab  1.828450  326.0     1.0\n",
      "10118  1987      4   glbab -5.521739  327.0     1.0\n",
      "10119  1987      5   glbab -0.513814  328.0     1.0\n",
      "10120  1987      6   glbab  1.579217  329.0     1.0\n",
      "...     ...    ...     ...       ...    ...     ...\n",
      "12638  2019      8   glumd  2.990000  715.0     1.0\n",
      "12639  2019      9   glumd -3.260000  716.0     1.0\n",
      "12640  2019     10   glumd -0.940000  717.0     1.0\n",
      "12641  2019     11   glumd  0.000000  718.0     1.0\n",
      "12642  2019     12   glumd  0.740000  719.0     1.0\n",
      "\n",
      "[2527 rows x 6 columns]\n"
     ]
    }
   ],
   "source": [
    "file_url = 'https://raw.githubusercontent.com/Sebasleen/Seminargroup/Seminar/US%20Factors/anomalies.dta'\n",
    "\n",
    "# Read the Stata file content\n",
    "Anomalies = pd.read_stata(file_url)\n",
    "\n",
    "# Display unique values in the 'anomaly' column\n",
    "print(Anomalies['anomaly'].unique())\n",
    "\n",
    "#Hier heb ik de global factors verwijderd\n",
    "column_name = 'anomaly'\n",
    "values_to_dropUS = ['glbab', 'glcma', 'glhml', 'glqmj', 'glrmw', 'glsmb', 'glumd']\n",
    "ElementsUS = Anomalies[column_name].isin(values_to_dropUS)\n",
    "Anomalies_US = Anomalies[~ElementsUS]\n",
    "\n",
    "column_name = 'anomaly'\n",
    "values_to_dropGF = ['ac', 'bab', 'cfp', 'cma', 'ep', 'hml', 'liq', 'ltrev', 'nsi', 'qmj', 'rmw', 'rvar',\n",
    "'smb', 'strev', 'umd']\n",
    "ElementsGF = Anomalies[column_name].isin(values_to_dropGF)\n",
    "Anomalies_GF = Anomalies[~ElementsGF]\n",
    "\n",
    "#Dit zijn dus alle 15 factors die alleen bij de US horen. \n",
    "print(Anomalies_US)\n",
    "\n",
    "#En dit zijn alle 7 global factors\n",
    "print(Anomalies_GF)\n",
    "\n"
   ]
  },
  {
   "cell_type": "markdown",
   "id": "bf7c884d-091b-4d87-ae2d-7c17745a1798",
   "metadata": {},
   "source": [
    "<font size='4' face='Times new Roman'>    \n",
    "\n",
    "Voor de duidelijkheid, dit zijn de US factors:\n",
    "\n",
    "- **-ac**: Accruals\n",
    "- **-bab**: Betting against Beta\n",
    "- **-cfp**: Cash-flow to price\n",
    "- **-cma**: Investment (Conservative minus aggressive)\n",
    "- **-ep**: Earnings to price\n",
    "- **-hml**: Value\n",
    "- **-liq**: Liquidity\n",
    "- **-ltrev**: Long-term reversal\n",
    "- **-nsi**: Net share issue\n",
    "- **-qmj**: Quality minus junk\n",
    "- **-rmw**: Profitability\n",
    "- **-rvar**: Residual Variance\n",
    "- **-smb**: Size\n",
    "- **-strev**: Short-term reversals\n",
    "- **-umd**: Momentum\n",
    "\n",
    "En dit zijn de global factors die ik zojuist heb gedropt:\n",
    "\n",
    "- **glbab**: Betting against beta\n",
    "- **glcma**: Investment (Conservative minus aggressive)\n",
    "- **glhml**: Value (high minus low)\n",
    "- **glqmj**: Quality minus junk\n",
    "- **glrmw**: Profitability (robust minus weak)\n",
    "- **glumd**: Momentum (up minus down)\n",
    "- **glsmb**: Size (small minus big)\n",
    "\n",
    "</font>\n"
   ]
  },
  {
   "cell_type": "code",
   "execution_count": 228,
   "id": "cebfe456-f6a6-40ff-8f96-edac68c32436",
   "metadata": {
    "tags": []
   },
   "outputs": [
    {
     "name": "stdout",
     "output_type": "stream",
     "text": [
      "   anomaly  Mean     SD T-value\n",
      "0       ac  2.8%   6.6%    3.19\n",
      "1      bab  9.8%  11.2%    6.55\n",
      "2      cfp  3.4%   8.6%    2.94\n",
      "3      cma  3.3%   6.9%    3.59\n",
      "4       ep  3.5%   8.9%    2.95\n",
      "5      hml  3.6%   9.7%    2.82\n",
      "6      liq  4.4%  11.6%    2.77\n",
      "7    ltrev  2.5%   8.7%    2.16\n",
      "8      nsi  2.8%   8.2%    2.52\n",
      "9      qmj  4.6%   7.7%    4.47\n",
      "10     rmw  3.1%   7.5%    3.13\n",
      "11    rvar  1.6%  17.3%    0.68\n",
      "12     smb  2.7%  10.4%    1.97\n",
      "13   strev  6.0%  10.6%    4.21\n",
      "14     umd  7.8%  14.5%    4.02\n"
     ]
    }
   ],
   "source": [
    "#Table 1: Descriptive Statistics US Factors\n",
    "\n",
    "AnomaliesUS = Anomalies_US.groupby(['anomaly']).agg({'ret': ['mean', 'std', 'count']}).reset_index()\n",
    "AnomaliesUS = Anomalies_US.pivot_table(index='anomaly', values='ret', aggfunc=['mean', 'std', 'count'])\n",
    "AnomaliesUS.columns = ['Mean', 'SD', 'ret_number']\n",
    "AnomaliesUS.reset_index(inplace=True)\n",
    "\n",
    "#Calculate the table stuff\n",
    "AnomaliesUS.columns = ['anomaly', 'Mean', 'SD', 'ret_number']\n",
    "\n",
    "# Calculate additional statistics\n",
    "AnomaliesUS['ret_semean'] = AnomaliesUS['SD'] / np.sqrt(AnomaliesUS['ret_number'])\n",
    "\n",
    "#Times 12 to annualize it\n",
    "AnomaliesUS['ret'] = AnomaliesUS['Mean'] * 12 \n",
    "\n",
    "#Times Squareroot 12 to annualize it\n",
    "AnomaliesUS['sd'] = AnomaliesUS['SD'] * np.sqrt(12) \n",
    "\n",
    "#Calculate the t-stat by dividing the return by the standard error of the mean. Divide by 12 to\n",
    "#annualize it\n",
    "AnomaliesUS['tstat'] = AnomaliesUS['ret'] / AnomaliesUS['ret_semean'] /12\n",
    "\n",
    "#Format Table\n",
    "AnomaliesUS[['Mean']] = AnomaliesUS[['ret']].apply(lambda x: x.map(\"{:.1f}%\".format))\n",
    "AnomaliesUS[['SD']] = AnomaliesUS[['sd']].apply(lambda x: x.map(\"{:.1f}%\".format))\n",
    "AnomaliesUS[['T-value']] = AnomaliesUS[['tstat']].apply(lambda x: x.map(\"{:.2f}\".format))\n",
    "\n",
    "print(AnomaliesUS[['anomaly','Mean','SD','T-value']])\n"
   ]
  },
  {
   "cell_type": "code",
   "execution_count": 240,
   "id": "d5f0fba3-9b31-4a12-bf9d-cad86d4f96e3",
   "metadata": {},
   "outputs": [
    {
     "name": "stdout",
     "output_type": "stream",
     "text": [
      "  anomaly  Mean     SD T-value\n",
      "0   glbab  9.6%   9.7%    5.70\n",
      "1   glcma  1.9%   6.0%    1.74\n",
      "2   glhml  4.0%   7.4%    2.92\n",
      "3   glqmj  6.2%   6.8%    5.06\n",
      "4   glrmw  4.3%   4.7%    4.91\n",
      "5   glsmb  1.1%   7.1%    0.83\n",
      "6   glumd  7.9%  12.1%    3.54\n"
     ]
    }
   ],
   "source": [
    "#Table 1: Descriptive Statistics US Factors\n",
    "\n",
    "AnomaliesGF = Anomalies_GF.groupby(['anomaly']).agg({'ret': ['mean', 'std', 'count']}).reset_index()\n",
    "AnomaliesGF = Anomalies_GF.pivot_table(index='anomaly', values='ret', aggfunc=['mean', 'std', 'count'])\n",
    "AnomaliesGF.columns = ['Mean', 'SD', 'ret_number']\n",
    "AnomaliesGF.reset_index(inplace=True)\n",
    "\n",
    "#Calculate the table stuff\n",
    "AnomaliesGF.columns = ['anomaly', 'Mean', 'SD', 'ret_number']\n",
    "\n",
    "# Calculate additional statistics\n",
    "AnomaliesGF['ret_semean'] = AnomaliesGF['SD'] / np.sqrt(AnomaliesGF['ret_number'])\n",
    "\n",
    "#Times 12 to annualize it\n",
    "AnomaliesGF['ret'] = AnomaliesGF['Mean'] * 12 \n",
    "\n",
    "#Times Squareroot 12 to annualize it\n",
    "AnomaliesGF['sd'] = AnomaliesGF['SD'] * np.sqrt(12) \n",
    "\n",
    "#Calculate the t-stat by dividing the return by the standard error of the mean. Divide by 12 to\n",
    "#annualize it\n",
    "AnomaliesGF['tstat'] = AnomaliesGF['ret'] / AnomaliesGF['ret_semean'] /12\n",
    "\n",
    "#Format Table\n",
    "AnomaliesGF[['Mean']] = AnomaliesGF[['ret']].apply(lambda x: x.map(\"{:.1f}%\".format))\n",
    "AnomaliesGF[['SD']] = AnomaliesGF[['sd']].apply(lambda x: x.map(\"{:.1f}%\".format))\n",
    "AnomaliesGF[['T-value']] = AnomaliesGF[['tstat']].apply(lambda x: x.map(\"{:.2f}\".format))\n",
    "\n",
    "print(AnomaliesGF[['anomaly','Mean','SD','T-value']])\n"
   ]
  },
  {
   "cell_type": "code",
   "execution_count": 256,
   "id": "6bc1ddf3-032d-48b9-b08f-579ced61ba31",
   "metadata": {},
   "outputs": [
    {
     "name": "stdout",
     "output_type": "stream",
     "text": [
      "   anomaly  Mean     SD T-value\n",
      "0       ac  2.8%   6.6%    3.19\n",
      "1      bab  9.8%  11.2%    6.55\n",
      "2      cfp  3.4%   8.6%    2.94\n",
      "3      cma  3.3%   6.9%    3.59\n",
      "4       ep  3.5%   8.9%    2.95\n",
      "5      hml  3.6%   9.7%    2.82\n",
      "6      liq  4.4%  11.6%    2.77\n",
      "7    ltrev  2.5%   8.7%    2.16\n",
      "8      nsi  2.8%   8.2%    2.52\n",
      "9      qmj  4.6%   7.7%    4.47\n",
      "10     rmw  3.1%   7.5%    3.13\n",
      "11    rvar  1.6%  17.3%    0.68\n",
      "12     smb  2.7%  10.4%    1.97\n",
      "13   strev  6.0%  10.6%    4.21\n",
      "14     umd  7.8%  14.5%    4.02\n",
      "15   glbab  9.6%   9.7%    5.70\n",
      "16   glcma  1.9%   6.0%    1.74\n",
      "17   glhml  4.0%   7.4%    2.92\n",
      "18   glqmj  6.2%   6.8%    5.06\n",
      "19   glrmw  4.3%   4.7%    4.91\n",
      "20   glsmb  1.1%   7.1%    0.83\n",
      "21   glumd  7.9%  12.1%    3.54\n"
     ]
    }
   ],
   "source": [
    "#Dit zijn beide US en Global factors combined\n",
    "\n",
    "AnomaliesUScomb = AnomaliesUS[['anomaly', 'Mean', 'SD', 'T-value']]\n",
    "AnomaliesGFcomb = AnomaliesGF[['anomaly', 'Mean', 'SD', 'T-value']]\n",
    "\n",
    "Anomaliescombinedtable = pd.concat([AnomaliesUScomb, AnomaliesGFcomb], ignore_index=True)\n",
    "print(Anomaliescombinedtable)\n"
   ]
  },
  {
   "cell_type": "markdown",
   "source": [
    "# recreating table 2 of the paper"
   ],
   "metadata": {
    "collapsed": false
   },
   "id": "b19b78189825caf5"
  },
  {
   "cell_type": "code",
   "outputs": [],
   "source": [
    "file_url = 'https://raw.githubusercontent.com/Sebasleen/Seminargroup/Seminar/US%20Factors/anomalies.dta'\n",
    "\n",
    "# Read the Stata file content\n",
    "Table2_df = pd.read_stata(file_url)\n",
    "\n",
    "\n",
    "\n"
   ],
   "metadata": {
    "collapsed": false,
    "ExecuteTime": {
     "end_time": "2024-02-02T16:24:25.761239Z",
     "start_time": "2024-02-02T16:24:25.445631Z"
    }
   },
   "id": "8d27576dc4ef6cf",
   "execution_count": 38
  },
  {
   "cell_type": "code",
   "outputs": [
    {
     "data": {
      "text/plain": "               year  month anomaly   ret   time  global\ncombined_date                                          \n2019-08-01     2019      8   glumd  2.99  715.0     1.0\n2019-09-01     2019      9   glumd -3.26  716.0     1.0\n2019-10-01     2019     10   glumd -0.94  717.0     1.0\n2019-11-01     2019     11   glumd  0.00  718.0     1.0\n2019-12-01     2019     12   glumd  0.74  719.0     1.0",
      "text/html": "<div>\n<style scoped>\n    .dataframe tbody tr th:only-of-type {\n        vertical-align: middle;\n    }\n\n    .dataframe tbody tr th {\n        vertical-align: top;\n    }\n\n    .dataframe thead th {\n        text-align: right;\n    }\n</style>\n<table border=\"1\" class=\"dataframe\">\n  <thead>\n    <tr style=\"text-align: right;\">\n      <th></th>\n      <th>year</th>\n      <th>month</th>\n      <th>anomaly</th>\n      <th>ret</th>\n      <th>time</th>\n      <th>global</th>\n    </tr>\n    <tr>\n      <th>combined_date</th>\n      <th></th>\n      <th></th>\n      <th></th>\n      <th></th>\n      <th></th>\n      <th></th>\n    </tr>\n  </thead>\n  <tbody>\n    <tr>\n      <th>2019-08-01</th>\n      <td>2019</td>\n      <td>8</td>\n      <td>glumd</td>\n      <td>2.99</td>\n      <td>715.0</td>\n      <td>1.0</td>\n    </tr>\n    <tr>\n      <th>2019-09-01</th>\n      <td>2019</td>\n      <td>9</td>\n      <td>glumd</td>\n      <td>-3.26</td>\n      <td>716.0</td>\n      <td>1.0</td>\n    </tr>\n    <tr>\n      <th>2019-10-01</th>\n      <td>2019</td>\n      <td>10</td>\n      <td>glumd</td>\n      <td>-0.94</td>\n      <td>717.0</td>\n      <td>1.0</td>\n    </tr>\n    <tr>\n      <th>2019-11-01</th>\n      <td>2019</td>\n      <td>11</td>\n      <td>glumd</td>\n      <td>0.00</td>\n      <td>718.0</td>\n      <td>1.0</td>\n    </tr>\n    <tr>\n      <th>2019-12-01</th>\n      <td>2019</td>\n      <td>12</td>\n      <td>glumd</td>\n      <td>0.74</td>\n      <td>719.0</td>\n      <td>1.0</td>\n    </tr>\n  </tbody>\n</table>\n</div>"
     },
     "execution_count": 45,
     "metadata": {},
     "output_type": "execute_result"
    }
   ],
   "source": [
    "Table2_df.tail()\n"
   ],
   "metadata": {
    "collapsed": false,
    "ExecuteTime": {
     "end_time": "2024-02-02T16:25:40.483444Z",
     "start_time": "2024-02-02T16:25:40.477813Z"
    }
   },
   "id": "732995106ec40485",
   "execution_count": 45
  },
  {
   "cell_type": "code",
   "outputs": [],
   "source": [],
   "metadata": {
    "collapsed": false
   },
   "id": "a06fc283722cc257"
  },
  {
   "cell_type": "code",
   "outputs": [],
   "source": [
    "Table2_df['combined_date'] = pd.to_datetime(Table2_df['year'].astype(str) + '-' + Table2_df['month'].astype(str), format='%Y-%m')\n",
    "\n",
    "# Optional: If you want to keep 'combined_date' as the first column\n",
    "Table2_df = Table2_df[['combined_date'] + [col for col in Table2_df.columns if col != 'combined_date']]"
   ],
   "metadata": {
    "collapsed": false,
    "ExecuteTime": {
     "end_time": "2024-02-02T16:24:31.814658Z",
     "start_time": "2024-02-02T16:24:31.801230Z"
    }
   },
   "id": "22e5a0b4857be1fe",
   "execution_count": 40
  },
  {
   "cell_type": "code",
   "outputs": [],
   "source": [
    "Table2_df = Table2_df.drop(['year', 'month'], axis=1)"
   ],
   "metadata": {
    "collapsed": false,
    "ExecuteTime": {
     "end_time": "2024-02-02T16:02:25.051192Z",
     "start_time": "2024-02-02T16:02:25.044471Z"
    }
   },
   "id": "3932d95ed300917d",
   "execution_count": 33
  },
  {
   "cell_type": "code",
   "outputs": [],
   "source": [
    "\n",
    "Table2_df.set_index('combined_date', inplace=True)"
   ],
   "metadata": {
    "collapsed": false,
    "ExecuteTime": {
     "end_time": "2024-02-02T16:24:47.066013Z",
     "start_time": "2024-02-02T16:24:47.060780Z"
    }
   },
   "id": "bdbd9a5b6867bb86",
   "execution_count": 41
  },
  {
   "cell_type": "code",
   "outputs": [
    {
     "name": "stdout",
     "output_type": "stream",
     "text": [
      "               year  month anomaly    ret   time  global  Pan\n",
      "combined_date                                                \n",
      "1963-07-01     1963      7      ac  2.170   42.0     0.0    0\n",
      "1963-08-01     1963      8      ac -0.197   43.0     0.0    0\n",
      "1963-09-01     1963      9      ac  0.600   44.0     0.0    0\n",
      "1963-10-01     1963     10      ac  6.463   45.0     0.0    0\n",
      "1963-11-01     1963     11      ac -2.260   46.0     0.0    0\n",
      "...             ...    ...     ...    ...    ...     ...  ...\n",
      "2019-08-01     2019      8   glumd  2.990  715.0     1.0   11\n",
      "2019-09-01     2019      9   glumd -3.260  716.0     1.0   11\n",
      "2019-10-01     2019     10   glumd -0.940  717.0     1.0   11\n",
      "2019-11-01     2019     11   glumd  0.000  718.0     1.0   11\n",
      "2019-12-01     2019     12   glumd  0.740  719.0     1.0   11\n",
      "\n",
      "[12643 rows x 7 columns]\n"
     ]
    }
   ],
   "source": [
    "# Create a new variable 'Pan' based on unique values of 'anomaly'\n",
    "Table2_df['Pan'] = Table2_df.groupby('anomaly').grouper.group_info[0]\n",
    "\n",
    "# Display the modified DataFrame\n",
    "print(Table2_df)"
   ],
   "metadata": {
    "collapsed": false,
    "ExecuteTime": {
     "end_time": "2024-02-02T16:34:59.824928Z",
     "start_time": "2024-02-02T16:34:59.808213Z"
    }
   },
   "id": "878c50c049c756a",
   "execution_count": 46
  },
  {
   "cell_type": "code",
   "outputs": [
    {
     "name": "stdout",
     "output_type": "stream",
     "text": [
      "Number of unique values in 'Pan': 22\n"
     ]
    }
   ],
   "source": [
    "unique_values_count = Table2_df['Pan'].nunique()\n",
    "print(\"Number of unique values in 'Pan':\", unique_values_count)"
   ],
   "metadata": {
    "collapsed": false,
    "ExecuteTime": {
     "end_time": "2024-02-02T16:36:49.857613Z",
     "start_time": "2024-02-02T16:36:49.852218Z"
    }
   },
   "id": "50722c3bbe4902d6",
   "execution_count": 47
  },
  {
   "cell_type": "code",
   "outputs": [
    {
     "name": "stdout",
     "output_type": "stream",
     "text": [
      "       Pan   time  year  month anomaly    ret  global    n        MA  flag\n",
      "0        0   54.0  1964      7      ac -0.080     0.0    1  0.959667     1\n",
      "1        0   55.0  1964      8      ac  0.373     0.0    2  1.007167     1\n",
      "2        0   56.0  1964      9      ac -0.950     0.0    3  0.878000     1\n",
      "3        0   57.0  1964     10      ac  0.637     0.0    4  0.392500     1\n",
      "4        0   58.0  1964     11      ac -0.957     0.0    5  0.501083     1\n",
      "...    ...    ...   ...    ...     ...    ...     ...  ...       ...   ...\n",
      "12374   11  715.0  2019      8   glumd  2.990     1.0  334  0.531667     1\n",
      "12375   11  716.0  2019      9   glumd -3.260     1.0  335  0.158333     1\n",
      "12376   11  717.0  2019     10   glumd -0.940     1.0  336  0.268333     1\n",
      "12377   11  718.0  2019     11   glumd  0.000     1.0  337  0.425833     1\n",
      "12378   11  719.0  2019     12   glumd  0.740     1.0  338  0.320833     1\n",
      "\n",
      "[12379 rows x 10 columns]\n"
     ]
    },
    {
     "name": "stderr",
     "output_type": "stream",
     "text": [
      "/var/folders/hx/jlx4phmj419bwmhwf_bz4qqm0000gn/T/ipykernel_11568/1375383843.py:5: SettingWithCopyWarning: \n",
      "A value is trying to be set on a copy of a slice from a DataFrame.\n",
      "Try using .loc[row_indexer,col_indexer] = value instead\n",
      "\n",
      "See the caveats in the documentation: https://pandas.pydata.org/pandas-docs/stable/user_guide/indexing.html#returning-a-view-versus-a-copy\n",
      "  Table2_df['n'] = Table2_df.groupby('Pan').cumcount() + 1\n"
     ]
    }
   ],
   "source": [
    "# Set 'Pan' and 'time' as a MultiIndex\n",
    "Table2_df.set_index(['Pan', 'time'], inplace=True)\n",
    "\n",
    "# Generate a variable 'n' representing the time index within each panel\n",
    "Table2_df['n'] = Table2_df.groupby('Pan').cumcount() + 1\n",
    "\n",
    "\n",
    "# Display the modified DataFrame\n",
    "print(Table2_df)"
   ],
   "metadata": {
    "collapsed": false,
    "ExecuteTime": {
     "end_time": "2024-02-02T16:52:41.764527Z",
     "start_time": "2024-02-02T16:52:41.754183Z"
    }
   },
   "id": "77ab42bafdb7983d",
   "execution_count": 57
  },
  {
   "cell_type": "code",
   "outputs": [
    {
     "name": "stdout",
     "output_type": "stream",
     "text": [
      "       index  Pan   time  year  month anomaly    ret  global    n        MA\n",
      "0         12    0   54.0  1964      7      ac -0.080     0.0   13  0.959667\n",
      "1         13    0   55.0  1964      8      ac  0.373     0.0   14  1.007167\n",
      "2         14    0   56.0  1964      9      ac -0.950     0.0   15  0.878000\n",
      "3         15    0   57.0  1964     10      ac  0.637     0.0   16  0.392500\n",
      "4         16    0   58.0  1964     11      ac -0.957     0.0   17  0.501083\n",
      "...      ...  ...    ...   ...    ...     ...    ...     ...  ...       ...\n",
      "12374  12638   11  715.0  2019      8   glumd  2.990     1.0  346  0.531667\n",
      "12375  12639   11  716.0  2019      9   glumd -3.260     1.0  347  0.158333\n",
      "12376  12640   11  717.0  2019     10   glumd -0.940     1.0  348  0.268333\n",
      "12377  12641   11  718.0  2019     11   glumd  0.000     1.0  349  0.425833\n",
      "12378  12642   11  719.0  2019     12   glumd  0.740     1.0  350  0.320833\n",
      "\n",
      "[12379 rows x 10 columns]\n"
     ]
    }
   ],
   "source": [
    "# Calculate a rolling mean of 'ret' with a window size of 12\n",
    "Table2_df['MA'] = Table2_df.groupby('Pan')['ret'].transform(lambda x: x.rolling(window=12, min_periods=1).mean())\n",
    "\n",
    "# Drop observations where 'n' is less than 13\n",
    "Table2_df = Table2_df[Table2_df['n'] >= 13]\n",
    "\n",
    "\n",
    "# Display the modified DataFrame\n",
    "print(Table2_df)"
   ],
   "metadata": {
    "collapsed": false,
    "ExecuteTime": {
     "end_time": "2024-02-02T16:41:03.251590Z",
     "start_time": "2024-02-02T16:41:03.236912Z"
    }
   },
   "id": "298c912779347d6c",
   "execution_count": 49
  },
  {
   "cell_type": "code",
   "outputs": [
    {
     "name": "stdout",
     "output_type": "stream",
     "text": [
      "       Pan   time  year  month anomaly    ret  global    n        MA  flag\n",
      "0        0   54.0  1964      7      ac -0.080     0.0   13  0.959667     1\n",
      "1        0   55.0  1964      8      ac  0.373     0.0   14  1.007167     1\n",
      "2        0   56.0  1964      9      ac -0.950     0.0   15  0.878000     1\n",
      "3        0   57.0  1964     10      ac  0.637     0.0   16  0.392500     1\n",
      "4        0   58.0  1964     11      ac -0.957     0.0   17  0.501083     1\n",
      "...    ...    ...   ...    ...     ...    ...     ...  ...       ...   ...\n",
      "12374   11  715.0  2019      8   glumd  2.990     1.0  346  0.531667     1\n",
      "12375   11  716.0  2019      9   glumd -3.260     1.0  347  0.158333     1\n",
      "12376   11  717.0  2019     10   glumd -0.940     1.0  348  0.268333     1\n",
      "12377   11  718.0  2019     11   glumd  0.000     1.0  349  0.425833     1\n",
      "12378   11  719.0  2019     12   glumd  0.740     1.0  350  0.320833     1\n",
      "\n",
      "[12379 rows x 10 columns]\n"
     ]
    },
    {
     "name": "stderr",
     "output_type": "stream",
     "text": [
      "/var/folders/hx/jlx4phmj419bwmhwf_bz4qqm0000gn/T/ipykernel_11568/1284322700.py:1: SettingWithCopyWarning: \n",
      "A value is trying to be set on a copy of a slice from a DataFrame.\n",
      "Try using .loc[row_indexer,col_indexer] = value instead\n",
      "\n",
      "See the caveats in the documentation: https://pandas.pydata.org/pandas-docs/stable/user_guide/indexing.html#returning-a-view-versus-a-copy\n",
      "  Table2_df['flag'] = Table2_df['MA'].apply(lambda x: 1 if x > 0 else 0)\n",
      "/var/folders/hx/jlx4phmj419bwmhwf_bz4qqm0000gn/T/ipykernel_11568/1284322700.py:4: SettingWithCopyWarning: \n",
      "A value is trying to be set on a copy of a slice from a DataFrame.\n",
      "Try using .loc[row_indexer,col_indexer] = value instead\n",
      "\n",
      "See the caveats in the documentation: https://pandas.pydata.org/pandas-docs/stable/user_guide/indexing.html#returning-a-view-versus-a-copy\n",
      "  Table2_df['flag'] = Table2_df['flag'].replace(-1, 0)\n"
     ]
    }
   ],
   "source": [
    "\n",
    "Table2_df['flag'] = Table2_df['MA'].apply(lambda x: 1 if x > 0 else 0)\n",
    "\n",
    "# Replace negative values in 'flag' with 0\n",
    "Table2_df['flag'] = Table2_df['flag'].replace(-1, 0)\n",
    "\n",
    "# Display the modified DataFrame\n",
    "print(Table2_df)"
   ],
   "metadata": {
    "collapsed": false,
    "ExecuteTime": {
     "end_time": "2024-02-02T16:50:57.526976Z",
     "start_time": "2024-02-02T16:50:57.517417Z"
    }
   },
   "id": "e9ae5ba6e2de314a",
   "execution_count": 56
  },
  {
   "cell_type": "code",
   "outputs": [
    {
     "name": "stdout",
     "output_type": "stream",
     "text": [
      "       Pan   time  year  month anomaly    ret  global    n        MA  flag  \\\n",
      "0        0   54.0  1964      7      ac -0.080     0.0    1  0.959667     1   \n",
      "1        0   55.0  1964      8      ac  0.373     0.0    2  1.007167     1   \n",
      "2        0   56.0  1964      9      ac -0.950     0.0    3  0.878000     1   \n",
      "3        0   57.0  1964     10      ac  0.637     0.0    4  0.392500     1   \n",
      "4        0   58.0  1964     11      ac -0.957     0.0    5  0.501083     1   \n",
      "...    ...    ...   ...    ...     ...    ...     ...  ...       ...   ...   \n",
      "12374   11  715.0  2019      8   glumd  2.990     1.0  334  0.531667     1   \n",
      "12375   11  716.0  2019      9   glumd -3.260     1.0  335  0.158333     1   \n",
      "12376   11  717.0  2019     10   glumd -0.940     1.0  336  0.268333     1   \n",
      "12377   11  718.0  2019     11   glumd  0.000     1.0  337  0.425833     1   \n",
      "12378   11  719.0  2019     12   glumd  0.740     1.0  338  0.320833     1   \n",
      "\n",
      "       a0  a0t  b0  b0t  R20  a1  a1t  b1  b1t  R21  \n",
      "0     NaN  NaN NaN  NaN  NaN NaN  NaN NaN  NaN  NaN  \n",
      "1     NaN  NaN NaN  NaN  NaN NaN  NaN NaN  NaN  NaN  \n",
      "2     NaN  NaN NaN  NaN  NaN NaN  NaN NaN  NaN  NaN  \n",
      "3     NaN  NaN NaN  NaN  NaN NaN  NaN NaN  NaN  NaN  \n",
      "4     NaN  NaN NaN  NaN  NaN NaN  NaN NaN  NaN  NaN  \n",
      "...    ..  ...  ..  ...  ...  ..  ...  ..  ...  ...  \n",
      "12374 NaN  NaN NaN  NaN  NaN NaN  NaN NaN  NaN  NaN  \n",
      "12375 NaN  NaN NaN  NaN  NaN NaN  NaN NaN  NaN  NaN  \n",
      "12376 NaN  NaN NaN  NaN  NaN NaN  NaN NaN  NaN  NaN  \n",
      "12377 NaN  NaN NaN  NaN  NaN NaN  NaN NaN  NaN  NaN  \n",
      "12378 NaN  NaN NaN  NaN  NaN NaN  NaN NaN  NaN  NaN  \n",
      "\n",
      "[12379 rows x 20 columns]\n"
     ]
    },
    {
     "name": "stderr",
     "output_type": "stream",
     "text": [
      "/var/folders/hx/jlx4phmj419bwmhwf_bz4qqm0000gn/T/ipykernel_11568/1497670246.py:6: SettingWithCopyWarning: \n",
      "A value is trying to be set on a copy of a slice from a DataFrame.\n",
      "Try using .loc[row_indexer,col_indexer] = value instead\n",
      "\n",
      "See the caveats in the documentation: https://pandas.pydata.org/pandas-docs/stable/user_guide/indexing.html#returning-a-view-versus-a-copy\n",
      "  Table2_df[v] = float('nan')\n",
      "/var/folders/hx/jlx4phmj419bwmhwf_bz4qqm0000gn/T/ipykernel_11568/1497670246.py:6: SettingWithCopyWarning: \n",
      "A value is trying to be set on a copy of a slice from a DataFrame.\n",
      "Try using .loc[row_indexer,col_indexer] = value instead\n",
      "\n",
      "See the caveats in the documentation: https://pandas.pydata.org/pandas-docs/stable/user_guide/indexing.html#returning-a-view-versus-a-copy\n",
      "  Table2_df[v] = float('nan')\n",
      "/var/folders/hx/jlx4phmj419bwmhwf_bz4qqm0000gn/T/ipykernel_11568/1497670246.py:6: SettingWithCopyWarning: \n",
      "A value is trying to be set on a copy of a slice from a DataFrame.\n",
      "Try using .loc[row_indexer,col_indexer] = value instead\n",
      "\n",
      "See the caveats in the documentation: https://pandas.pydata.org/pandas-docs/stable/user_guide/indexing.html#returning-a-view-versus-a-copy\n",
      "  Table2_df[v] = float('nan')\n",
      "/var/folders/hx/jlx4phmj419bwmhwf_bz4qqm0000gn/T/ipykernel_11568/1497670246.py:6: SettingWithCopyWarning: \n",
      "A value is trying to be set on a copy of a slice from a DataFrame.\n",
      "Try using .loc[row_indexer,col_indexer] = value instead\n",
      "\n",
      "See the caveats in the documentation: https://pandas.pydata.org/pandas-docs/stable/user_guide/indexing.html#returning-a-view-versus-a-copy\n",
      "  Table2_df[v] = float('nan')\n",
      "/var/folders/hx/jlx4phmj419bwmhwf_bz4qqm0000gn/T/ipykernel_11568/1497670246.py:6: SettingWithCopyWarning: \n",
      "A value is trying to be set on a copy of a slice from a DataFrame.\n",
      "Try using .loc[row_indexer,col_indexer] = value instead\n",
      "\n",
      "See the caveats in the documentation: https://pandas.pydata.org/pandas-docs/stable/user_guide/indexing.html#returning-a-view-versus-a-copy\n",
      "  Table2_df[v] = float('nan')\n",
      "/var/folders/hx/jlx4phmj419bwmhwf_bz4qqm0000gn/T/ipykernel_11568/1497670246.py:6: SettingWithCopyWarning: \n",
      "A value is trying to be set on a copy of a slice from a DataFrame.\n",
      "Try using .loc[row_indexer,col_indexer] = value instead\n",
      "\n",
      "See the caveats in the documentation: https://pandas.pydata.org/pandas-docs/stable/user_guide/indexing.html#returning-a-view-versus-a-copy\n",
      "  Table2_df[v] = float('nan')\n",
      "/var/folders/hx/jlx4phmj419bwmhwf_bz4qqm0000gn/T/ipykernel_11568/1497670246.py:6: SettingWithCopyWarning: \n",
      "A value is trying to be set on a copy of a slice from a DataFrame.\n",
      "Try using .loc[row_indexer,col_indexer] = value instead\n",
      "\n",
      "See the caveats in the documentation: https://pandas.pydata.org/pandas-docs/stable/user_guide/indexing.html#returning-a-view-versus-a-copy\n",
      "  Table2_df[v] = float('nan')\n",
      "/var/folders/hx/jlx4phmj419bwmhwf_bz4qqm0000gn/T/ipykernel_11568/1497670246.py:6: SettingWithCopyWarning: \n",
      "A value is trying to be set on a copy of a slice from a DataFrame.\n",
      "Try using .loc[row_indexer,col_indexer] = value instead\n",
      "\n",
      "See the caveats in the documentation: https://pandas.pydata.org/pandas-docs/stable/user_guide/indexing.html#returning-a-view-versus-a-copy\n",
      "  Table2_df[v] = float('nan')\n",
      "/var/folders/hx/jlx4phmj419bwmhwf_bz4qqm0000gn/T/ipykernel_11568/1497670246.py:6: SettingWithCopyWarning: \n",
      "A value is trying to be set on a copy of a slice from a DataFrame.\n",
      "Try using .loc[row_indexer,col_indexer] = value instead\n",
      "\n",
      "See the caveats in the documentation: https://pandas.pydata.org/pandas-docs/stable/user_guide/indexing.html#returning-a-view-versus-a-copy\n",
      "  Table2_df[v] = float('nan')\n",
      "/var/folders/hx/jlx4phmj419bwmhwf_bz4qqm0000gn/T/ipykernel_11568/1497670246.py:6: SettingWithCopyWarning: \n",
      "A value is trying to be set on a copy of a slice from a DataFrame.\n",
      "Try using .loc[row_indexer,col_indexer] = value instead\n",
      "\n",
      "See the caveats in the documentation: https://pandas.pydata.org/pandas-docs/stable/user_guide/indexing.html#returning-a-view-versus-a-copy\n",
      "  Table2_df[v] = float('nan')\n"
     ]
    }
   ],
   "source": [
    "# List of variables to generate\n",
    "variables_to_generate = [\"a0\", \"a0t\", \"b0\", \"b0t\", \"R20\", \"a1\", \"a1t\", \"b1\", \"b1t\", \"R21\"]\n",
    "\n",
    "# Generate variables with NaN values\n",
    "for v in variables_to_generate:\n",
    "    Table2_df[v] = float('nan')\n",
    "\n",
    "# Display the DataFrame with the generated variables\n",
    "print(Table2_df)"
   ],
   "metadata": {
    "collapsed": false,
    "ExecuteTime": {
     "end_time": "2024-02-02T16:55:11.614685Z",
     "start_time": "2024-02-02T16:55:11.606343Z"
    }
   },
   "id": "cff239dd8aeb2d58",
   "execution_count": 58
  },
  {
   "cell_type": "code",
   "outputs": [
    {
     "name": "stdout",
     "output_type": "stream",
     "text": [
      "       Pan   time  year  month     anomaly    ret  global    n        MA  \\\n",
      "0        0   54.0  1964      7          ac -0.080     0.0    1  0.959667   \n",
      "1        0   55.0  1964      8          ac  0.373     0.0    2  1.007167   \n",
      "2        0   56.0  1964      9          ac -0.950     0.0    3  0.878000   \n",
      "3        0   57.0  1964     10          ac  0.637     0.0    4  0.392500   \n",
      "4        0   58.0  1964     11          ac -0.957     0.0    5  0.501083   \n",
      "...    ...    ...   ...    ...         ...    ...     ...  ...       ...   \n",
      "24753   22  715.0  2019      8  Everything  2.990     1.0  334  0.531667   \n",
      "24754   22  716.0  2019      9  Everything -3.260     1.0  335  0.158333   \n",
      "24755   22  717.0  2019     10  Everything -0.940     1.0  336  0.268333   \n",
      "24756   22  718.0  2019     11  Everything  0.000     1.0  337  0.425833   \n",
      "24757   22  719.0  2019     12  Everything  0.740     1.0  338  0.320833   \n",
      "\n",
      "       flag  a0  a0t  b0  b0t  R20  a1  a1t  b1  b1t  R21  \n",
      "0         1 NaN  NaN NaN  NaN  NaN NaN  NaN NaN  NaN  NaN  \n",
      "1         1 NaN  NaN NaN  NaN  NaN NaN  NaN NaN  NaN  NaN  \n",
      "2         1 NaN  NaN NaN  NaN  NaN NaN  NaN NaN  NaN  NaN  \n",
      "3         1 NaN  NaN NaN  NaN  NaN NaN  NaN NaN  NaN  NaN  \n",
      "4         1 NaN  NaN NaN  NaN  NaN NaN  NaN NaN  NaN  NaN  \n",
      "...     ...  ..  ...  ..  ...  ...  ..  ...  ..  ...  ...  \n",
      "24753     1 NaN  NaN NaN  NaN  NaN NaN  NaN NaN  NaN  NaN  \n",
      "24754     1 NaN  NaN NaN  NaN  NaN NaN  NaN NaN  NaN  NaN  \n",
      "24755     1 NaN  NaN NaN  NaN  NaN NaN  NaN NaN  NaN  NaN  \n",
      "24756     1 NaN  NaN NaN  NaN  NaN NaN  NaN NaN  NaN  NaN  \n",
      "24757     1 NaN  NaN NaN  NaN  NaN NaN  NaN NaN  NaN  NaN  \n",
      "\n",
      "[24758 rows x 20 columns]\n"
     ]
    }
   ],
   "source": [
    "# Step 1: Duplicate the DataFrame\n",
    "temp_df = Table2_df.copy()\n",
    "\n",
    "# Step 2: Calculate summary statistics for the variable 'Pan'\n",
    "max_pan = temp_df['Pan'].max()\n",
    "\n",
    "# Step 3: Increase the maximum value of 'Pan' by 1\n",
    "temp_df['Pan'] = max_pan + 1\n",
    "\n",
    "# Step 4: Replace the values in the 'anomaly' variable with the string 'Everything'\n",
    "temp_df['anomaly'] = 'Everything'\n",
    "\n",
    "\n",
    "\n",
    "# Display the modified DataFrame\n",
    "print(Table2_df)"
   ],
   "metadata": {
    "collapsed": false,
    "ExecuteTime": {
     "end_time": "2024-02-02T16:57:24.717681Z",
     "start_time": "2024-02-02T16:57:24.705953Z"
    }
   },
   "id": "baed63228d0ee43a",
   "execution_count": 59
  },
  {
   "cell_type": "code",
   "outputs": [
    {
     "data": {
      "text/plain": "   Pan  time  year  month     anomaly    ret  global  n        MA  flag  a0  \\\n0   22  54.0  1964      7  Everything -0.080     0.0  1  0.959667     1 NaN   \n1   22  55.0  1964      8  Everything  0.373     0.0  2  1.007167     1 NaN   \n2   22  56.0  1964      9  Everything -0.950     0.0  3  0.878000     1 NaN   \n3   22  57.0  1964     10  Everything  0.637     0.0  4  0.392500     1 NaN   \n4   22  58.0  1964     11  Everything -0.957     0.0  5  0.501083     1 NaN   \n\n   a0t  b0  b0t  R20  a1  a1t  b1  b1t  R21  \n0  NaN NaN  NaN  NaN NaN  NaN NaN  NaN  NaN  \n1  NaN NaN  NaN  NaN NaN  NaN NaN  NaN  NaN  \n2  NaN NaN  NaN  NaN NaN  NaN NaN  NaN  NaN  \n3  NaN NaN  NaN  NaN NaN  NaN NaN  NaN  NaN  \n4  NaN NaN  NaN  NaN NaN  NaN NaN  NaN  NaN  ",
      "text/html": "<div>\n<style scoped>\n    .dataframe tbody tr th:only-of-type {\n        vertical-align: middle;\n    }\n\n    .dataframe tbody tr th {\n        vertical-align: top;\n    }\n\n    .dataframe thead th {\n        text-align: right;\n    }\n</style>\n<table border=\"1\" class=\"dataframe\">\n  <thead>\n    <tr style=\"text-align: right;\">\n      <th></th>\n      <th>Pan</th>\n      <th>time</th>\n      <th>year</th>\n      <th>month</th>\n      <th>anomaly</th>\n      <th>ret</th>\n      <th>global</th>\n      <th>n</th>\n      <th>MA</th>\n      <th>flag</th>\n      <th>a0</th>\n      <th>a0t</th>\n      <th>b0</th>\n      <th>b0t</th>\n      <th>R20</th>\n      <th>a1</th>\n      <th>a1t</th>\n      <th>b1</th>\n      <th>b1t</th>\n      <th>R21</th>\n    </tr>\n  </thead>\n  <tbody>\n    <tr>\n      <th>0</th>\n      <td>22</td>\n      <td>54.0</td>\n      <td>1964</td>\n      <td>7</td>\n      <td>Everything</td>\n      <td>-0.080</td>\n      <td>0.0</td>\n      <td>1</td>\n      <td>0.959667</td>\n      <td>1</td>\n      <td>NaN</td>\n      <td>NaN</td>\n      <td>NaN</td>\n      <td>NaN</td>\n      <td>NaN</td>\n      <td>NaN</td>\n      <td>NaN</td>\n      <td>NaN</td>\n      <td>NaN</td>\n      <td>NaN</td>\n    </tr>\n    <tr>\n      <th>1</th>\n      <td>22</td>\n      <td>55.0</td>\n      <td>1964</td>\n      <td>8</td>\n      <td>Everything</td>\n      <td>0.373</td>\n      <td>0.0</td>\n      <td>2</td>\n      <td>1.007167</td>\n      <td>1</td>\n      <td>NaN</td>\n      <td>NaN</td>\n      <td>NaN</td>\n      <td>NaN</td>\n      <td>NaN</td>\n      <td>NaN</td>\n      <td>NaN</td>\n      <td>NaN</td>\n      <td>NaN</td>\n      <td>NaN</td>\n    </tr>\n    <tr>\n      <th>2</th>\n      <td>22</td>\n      <td>56.0</td>\n      <td>1964</td>\n      <td>9</td>\n      <td>Everything</td>\n      <td>-0.950</td>\n      <td>0.0</td>\n      <td>3</td>\n      <td>0.878000</td>\n      <td>1</td>\n      <td>NaN</td>\n      <td>NaN</td>\n      <td>NaN</td>\n      <td>NaN</td>\n      <td>NaN</td>\n      <td>NaN</td>\n      <td>NaN</td>\n      <td>NaN</td>\n      <td>NaN</td>\n      <td>NaN</td>\n    </tr>\n    <tr>\n      <th>3</th>\n      <td>22</td>\n      <td>57.0</td>\n      <td>1964</td>\n      <td>10</td>\n      <td>Everything</td>\n      <td>0.637</td>\n      <td>0.0</td>\n      <td>4</td>\n      <td>0.392500</td>\n      <td>1</td>\n      <td>NaN</td>\n      <td>NaN</td>\n      <td>NaN</td>\n      <td>NaN</td>\n      <td>NaN</td>\n      <td>NaN</td>\n      <td>NaN</td>\n      <td>NaN</td>\n      <td>NaN</td>\n      <td>NaN</td>\n    </tr>\n    <tr>\n      <th>4</th>\n      <td>22</td>\n      <td>58.0</td>\n      <td>1964</td>\n      <td>11</td>\n      <td>Everything</td>\n      <td>-0.957</td>\n      <td>0.0</td>\n      <td>5</td>\n      <td>0.501083</td>\n      <td>1</td>\n      <td>NaN</td>\n      <td>NaN</td>\n      <td>NaN</td>\n      <td>NaN</td>\n      <td>NaN</td>\n      <td>NaN</td>\n      <td>NaN</td>\n      <td>NaN</td>\n      <td>NaN</td>\n      <td>NaN</td>\n    </tr>\n  </tbody>\n</table>\n</div>"
     },
     "execution_count": 60,
     "metadata": {},
     "output_type": "execute_result"
    }
   ],
   "source": [
    "temp_df.head()"
   ],
   "metadata": {
    "collapsed": false,
    "ExecuteTime": {
     "end_time": "2024-02-02T16:58:42.446803Z",
     "start_time": "2024-02-02T16:58:42.443197Z"
    }
   },
   "id": "83a45d7ccc39c1d2",
   "execution_count": 60
  },
  {
   "cell_type": "code",
   "outputs": [
    {
     "ename": "AttributeError",
     "evalue": "'OLS' object has no attribute 'params'",
     "output_type": "error",
     "traceback": [
      "\u001B[0;31m---------------------------------------------------------------------------\u001B[0m",
      "\u001B[0;31mAttributeError\u001B[0m                            Traceback (most recent call last)",
      "Cell \u001B[0;32mIn[61], line 9\u001B[0m\n\u001B[1;32m      6\u001B[0m \u001B[38;5;28;01melse\u001B[39;00m:\n\u001B[1;32m      7\u001B[0m     model_spec_1 \u001B[38;5;241m=\u001B[39m sm\u001B[38;5;241m.\u001B[39mOLS(Table2_df\u001B[38;5;241m.\u001B[39mloc[Table2_df[\u001B[38;5;124m'\u001B[39m\u001B[38;5;124mPan\u001B[39m\u001B[38;5;124m'\u001B[39m] \u001B[38;5;241m==\u001B[39m i, \u001B[38;5;124m'\u001B[39m\u001B[38;5;124mret\u001B[39m\u001B[38;5;124m'\u001B[39m], sm\u001B[38;5;241m.\u001B[39madd_constant(Table2_df\u001B[38;5;241m.\u001B[39mloc[Table2_df[\u001B[38;5;124m'\u001B[39m\u001B[38;5;124mPan\u001B[39m\u001B[38;5;124m'\u001B[39m] \u001B[38;5;241m==\u001B[39m i, \u001B[38;5;124m'\u001B[39m\u001B[38;5;124mMA\u001B[39m\u001B[38;5;124m'\u001B[39m]))\u001B[38;5;241m.\u001B[39mfit(cov_type\u001B[38;5;241m=\u001B[39m\u001B[38;5;124m'\u001B[39m\u001B[38;5;124mcluster\u001B[39m\u001B[38;5;124m'\u001B[39m, cov_kwds\u001B[38;5;241m=\u001B[39m{\u001B[38;5;124m'\u001B[39m\u001B[38;5;124mgroups\u001B[39m\u001B[38;5;124m'\u001B[39m: Table2_df\u001B[38;5;241m.\u001B[39mloc[Table2_df[\u001B[38;5;124m'\u001B[39m\u001B[38;5;124mPan\u001B[39m\u001B[38;5;124m'\u001B[39m] \u001B[38;5;241m==\u001B[39m i, \u001B[38;5;124m'\u001B[39m\u001B[38;5;124mtime\u001B[39m\u001B[38;5;124m'\u001B[39m]})\n\u001B[0;32m----> 9\u001B[0m Table2_df\u001B[38;5;241m.\u001B[39mloc[Table2_df[\u001B[38;5;124m'\u001B[39m\u001B[38;5;124mPan\u001B[39m\u001B[38;5;124m'\u001B[39m] \u001B[38;5;241m==\u001B[39m i, \u001B[38;5;124m'\u001B[39m\u001B[38;5;124ma0\u001B[39m\u001B[38;5;124m'\u001B[39m] \u001B[38;5;241m=\u001B[39m model_spec_1\u001B[38;5;241m.\u001B[39mparams[\u001B[38;5;124m'\u001B[39m\u001B[38;5;124mconst\u001B[39m\u001B[38;5;124m'\u001B[39m]\n\u001B[1;32m     10\u001B[0m Table2_df\u001B[38;5;241m.\u001B[39mloc[Table2_df[\u001B[38;5;124m'\u001B[39m\u001B[38;5;124mPan\u001B[39m\u001B[38;5;124m'\u001B[39m] \u001B[38;5;241m==\u001B[39m i, \u001B[38;5;124m'\u001B[39m\u001B[38;5;124ma0t\u001B[39m\u001B[38;5;124m'\u001B[39m] \u001B[38;5;241m=\u001B[39m model_spec_1\u001B[38;5;241m.\u001B[39mtvalues[\u001B[38;5;124m'\u001B[39m\u001B[38;5;124mconst\u001B[39m\u001B[38;5;124m'\u001B[39m]\n\u001B[1;32m     11\u001B[0m Table2_df\u001B[38;5;241m.\u001B[39mloc[Table2_df[\u001B[38;5;124m'\u001B[39m\u001B[38;5;124mPan\u001B[39m\u001B[38;5;124m'\u001B[39m] \u001B[38;5;241m==\u001B[39m i, \u001B[38;5;124m'\u001B[39m\u001B[38;5;124mb0\u001B[39m\u001B[38;5;124m'\u001B[39m] \u001B[38;5;241m=\u001B[39m model_spec_1\u001B[38;5;241m.\u001B[39mparams[\u001B[38;5;124m'\u001B[39m\u001B[38;5;124mMA\u001B[39m\u001B[38;5;124m'\u001B[39m]\n",
      "\u001B[0;31mAttributeError\u001B[0m: 'OLS' object has no attribute 'params'"
     ]
    }
   ],
   "source": [
    "# Perform Pooled Regressions\n",
    "for i in range(1, Table2_df['Pan'].max() + 1):\n",
    "    # Spec 1: x = average return\n",
    "    if i < Table2_df['Pan'].max() + 1:\n",
    "        model_spec_1 = sm.OLS(Table2_df.loc[Table2_df['Pan'] == i, 'ret'], sm.add_constant(Table2_df.loc[Table2_df['Pan'] == i, 'MA']))\n",
    "    else:\n",
    "        model_spec_1 = sm.OLS(Table2_df.loc[Table2_df['Pan'] == i, 'ret'], sm.add_constant(Table2_df.loc[Table2_df['Pan'] == i, 'MA'])).fit(cov_type='cluster', cov_kwds={'groups': Table2_df.loc[Table2_df['Pan'] == i, 'time']})\n",
    "\n",
    "    Table2_df.loc[Table2_df['Pan'] == i, 'a0'] = model_spec_1.params['const']\n",
    "    Table2_df.loc[Table2_df['Pan'] == i, 'a0t'] = model_spec_1.tvalues['const']\n",
    "    Table2_df.loc[Table2_df['Pan'] == i, 'b0'] = model_spec_1.params['MA']\n",
    "    Table2_df.loc[Table2_df['Pan'] == i, 'b0t'] = model_spec_1.tvalues['MA']\n",
    "\n",
    "    # Spec 2: x = average return > 0\n",
    "    if i < Table2_df['Pan'].max() + 1:\n",
    "        model_spec_2 = sm.OLS(Table2_df.loc[Table2_df['Pan'] == i, 'ret'], sm.add_constant(Table2_df.loc[Table2_df['Pan'] == i, 'flag']))\n",
    "    else:\n",
    "        model_spec_2 = sm.OLS(Table2_df.loc[Table2_df['Pan'] == i, 'ret'], sm.add_constant(Table2_df.loc[Table2_df['Pan'] == i, 'flag'])).fit(cov_type='cluster', cov_kwds={'groups': Table2_df.loc[Table2_df['Pan'] == i, 'time']})\n",
    "\n",
    "    Table2_df.loc[Table2_df['Pan'] == i, 'a1'] = model_spec_2.params['const']\n",
    "    Table2_df.loc[Table2_df['Pan'] == i, 'a1t'] = model_spec_2.tvalues['const']\n",
    "    Table2_df.loc[Table2_df['Pan'] == i, 'b1'] = model_spec_2.params['flag']\n",
    "    Table2_df.loc[Table2_df['Pan'] == i, 'b1t'] = model_spec_2.tvalues['flag']\n",
    "\n",
    "# Display the modified DataFrame\n",
    "print(Table2_df)"
   ],
   "metadata": {
    "collapsed": false,
    "ExecuteTime": {
     "end_time": "2024-02-02T17:02:37.840427Z",
     "start_time": "2024-02-02T17:02:37.804569Z"
    }
   },
   "id": "e9ebad2aee4e9e15",
   "execution_count": 61
  },
  {
   "cell_type": "code",
   "outputs": [
    {
     "name": "stdout",
     "output_type": "stream",
     "text": [
      "       Pan   time  year  month     anomaly    ret  global    n        MA  \\\n",
      "0        0   54.0  1964      7          ac -0.080     0.0    1  0.959667   \n",
      "1        0   55.0  1964      8          ac  0.373     0.0    2  1.007167   \n",
      "2        0   56.0  1964      9          ac -0.950     0.0    3  0.878000   \n",
      "3        0   57.0  1964     10          ac  0.637     0.0    4  0.392500   \n",
      "4        0   58.0  1964     11          ac -0.957     0.0    5  0.501083   \n",
      "...    ...    ...   ...    ...         ...    ...     ...  ...       ...   \n",
      "24753   22  715.0  2019      8  Everything  2.990     1.0  334  0.531667   \n",
      "24754   22  716.0  2019      9  Everything -3.260     1.0  335  0.158333   \n",
      "24755   22  717.0  2019     10  Everything -0.940     1.0  336  0.268333   \n",
      "24756   22  718.0  2019     11  Everything  0.000     1.0  337  0.425833   \n",
      "24757   22  719.0  2019     12  Everything  0.740     1.0  338  0.320833   \n",
      "\n",
      "       flag        a0       a0t        b0        b0t  R20        a1  \\\n",
      "0         1       NaN       NaN       NaN        NaN  NaN       NaN   \n",
      "1         1       NaN       NaN       NaN        NaN  NaN       NaN   \n",
      "2         1       NaN       NaN       NaN        NaN  NaN       NaN   \n",
      "3         1       NaN       NaN       NaN        NaN  NaN       NaN   \n",
      "4         1       NaN       NaN       NaN        NaN  NaN       NaN   \n",
      "...     ...       ...       ...       ...        ...  ...       ...   \n",
      "24753     1  0.012333  0.473003  0.954172  38.024112  NaN -0.552864   \n",
      "24754     1  0.012333  0.473003  0.954172  38.024112  NaN -0.552864   \n",
      "24755     1  0.012333  0.473003  0.954172  38.024112  NaN -0.552864   \n",
      "24756     1  0.012333  0.473003  0.954172  38.024112  NaN -0.552864   \n",
      "24757     1  0.012333  0.473003  0.954172  38.024112  NaN -0.552864   \n",
      "\n",
      "             a1t        b1        b1t  R21  \n",
      "0            NaN       NaN        NaN  NaN  \n",
      "1            NaN       NaN        NaN  NaN  \n",
      "2            NaN       NaN        NaN  NaN  \n",
      "3            NaN       NaN        NaN  NaN  \n",
      "4            NaN       NaN        NaN  NaN  \n",
      "...          ...       ...        ...  ...  \n",
      "24753 -12.684714  1.368531  25.648612  NaN  \n",
      "24754 -12.684714  1.368531  25.648612  NaN  \n",
      "24755 -12.684714  1.368531  25.648612  NaN  \n",
      "24756 -12.684714  1.368531  25.648612  NaN  \n",
      "24757 -12.684714  1.368531  25.648612  NaN  \n",
      "\n",
      "[24758 rows x 20 columns]\n"
     ]
    }
   ],
   "source": [
    "# Perform Pooled Regressions\n",
    "for i in range(1, Table2_df['Pan'].max() + 1):\n",
    "    # Spec 1: x = average return\n",
    "    if i < Table2_df['Pan'].max() + 1:\n",
    "        model_spec_1 = sm.OLS(Table2_df.loc[Table2_df['Pan'] == i, 'ret'], sm.add_constant(Table2_df.loc[Table2_df['Pan'] == i, 'MA'])).fit()\n",
    "    else:\n",
    "        model_spec_1 = sm.OLS(Table2_df.loc[Table2_df['Pan'] == i, 'ret'], sm.add_constant(Table2_df.loc[Table2_df['Pan'] == i, 'MA'])).fit(cov_type='cluster', cov_kwds={'groups': Table2_df.loc[Table2_df['Pan'] == i, 'time']})\n",
    "\n",
    "    Table2_df.loc[Table2_df['Pan'] == i, 'a0'] = model_spec_1.params['const']\n",
    "    Table2_df.loc[Table2_df['Pan'] == i, 'a0t'] = model_spec_1.tvalues['const']\n",
    "    Table2_df.loc[Table2_df['Pan'] == i, 'b0'] = model_spec_1.params['MA']\n",
    "    Table2_df.loc[Table2_df['Pan'] == i, 'b0t'] = model_spec_1.tvalues['MA']\n",
    "\n",
    "    # Spec 2: x = average return > 0\n",
    "    if i < Table2_df['Pan'].max() + 1:\n",
    "        model_spec_2 = sm.OLS(Table2_df.loc[Table2_df['Pan'] == i, 'ret'], sm.add_constant(Table2_df.loc[Table2_df['Pan'] == i, 'flag'])).fit()\n",
    "    else:\n",
    "        model_spec_2 = sm.OLS(Table2_df.loc[Table2_df['Pan'] == i, 'ret'], sm.add_constant(Table2_df.loc[Table2_df['Pan'] == i, 'flag'])).fit(cov_type='cluster', cov_kwds={'groups': Table2_df.loc[Table2_df['Pan'] == i, 'time']})\n",
    "\n",
    "    Table2_df.loc[Table2_df['Pan'] == i, 'a1'] = model_spec_2.params['const']\n",
    "    Table2_df.loc[Table2_df['Pan'] == i, 'a1t'] = model_spec_2.tvalues['const']\n",
    "    Table2_df.loc[Table2_df['Pan'] == i, 'b1'] = model_spec_2.params['flag']\n",
    "    Table2_df.loc[Table2_df['Pan'] == i, 'b1t'] = model_spec_2.tvalues['flag']\n",
    "\n",
    "# Display the modified DataFrame\n",
    "print(Table2_df)"
   ],
   "metadata": {
    "collapsed": false,
    "ExecuteTime": {
     "end_time": "2024-02-02T17:03:33.761153Z",
     "start_time": "2024-02-02T17:03:33.676187Z"
    }
   },
   "id": "566769ccbbc579ae",
   "execution_count": 62
  },
  {
   "cell_type": "code",
   "outputs": [
    {
     "name": "stdout",
     "output_type": "stream",
     "text": [
      "    global  Pan     anomaly        a0       a0t        b0        b0t  \\\n",
      "0      0.0    0          ac       NaN       NaN       NaN        NaN   \n",
      "1      0.0    1         bab  0.033340  0.244592  0.955583  11.187071   \n",
      "2      0.0    2         cfp  0.022559  0.229649  0.887695   7.996280   \n",
      "3      0.0    3         cma  0.006223  0.078778  0.967900   9.047547   \n",
      "4      0.0    4          ep  0.034666  0.346296  0.869458   8.292976   \n",
      "5      0.0   12         hml  0.014287  0.131481  0.910260   8.673239   \n",
      "6      0.0   13         liq -0.053629 -0.387293  1.118074   8.474218   \n",
      "7      0.0   14       ltrev -0.007191 -0.076016  0.980277   9.343956   \n",
      "8      0.0   15         nsi -0.015455 -0.173557  1.042971  10.229237   \n",
      "9      0.0   16         qmj  0.010406  0.112843  0.971691   9.067753   \n",
      "10     0.0   17         rmw  0.015070  0.180126  0.964880   9.262643   \n",
      "11     0.0   18        rvar -0.004337 -0.023491  1.018337   8.908651   \n",
      "12     0.0   19         smb  0.000556  0.004836  0.995961   8.565258   \n",
      "13     0.0   20       strev -0.062273 -0.470078  1.129274   8.294793   \n",
      "14     0.0   21         umd  0.054244  0.303472  0.902883   7.004430   \n",
      "15     0.0   22  Everything  0.012333  0.473003  0.954172  38.024112   \n",
      "16     1.0    5       glbab  0.119141  0.693122  0.867332   6.637165   \n",
      "17     1.0    6       glcma  0.025746  0.279847  0.801088   6.721500   \n",
      "18     1.0    7       glhml  0.050869  0.448689  0.840967   7.644387   \n",
      "19     1.0    8       glqmj  0.067472  0.521828  0.842661   5.340815   \n",
      "20     1.0    9       glrmw -0.021147 -0.232127  1.049212   6.264259   \n",
      "21     1.0   10       glsmb  0.000149  0.001440  1.041787   5.863207   \n",
      "22     1.0   11       glumd  0.240393  1.101952  0.634253   3.858360   \n",
      "23     1.0   22  Everything  0.012333  0.473003  0.954172  38.024112   \n",
      "\n",
      "          a1        a1t        b1        b1t  \n",
      "0        NaN        NaN       NaN        NaN  \n",
      "1  -0.876699  -3.239254  2.142476   7.061736  \n",
      "2  -0.411777  -2.681896  1.112424   5.684660  \n",
      "3  -0.362276  -2.925916  1.010157   6.478855  \n",
      "4  -0.394189  -2.509118  1.113710   5.541772  \n",
      "5  -0.551556  -3.217447  1.372045   6.272123  \n",
      "6  -0.829417  -3.883225  1.932614   7.157945  \n",
      "7  -0.750687  -5.068864  1.580019   8.309359  \n",
      "8  -0.464953  -3.404979  1.207550   6.679820  \n",
      "9  -0.342068  -2.233948  1.056674   5.735142  \n",
      "10 -0.374842  -2.623462  0.957830   5.479722  \n",
      "11 -1.158103  -4.079399  2.315158   6.070237  \n",
      "12 -0.638051  -3.576420  1.485869   6.405960  \n",
      "13 -0.633333  -2.584070  1.465887   5.249211  \n",
      "14 -0.771517  -2.235915  1.806412   4.630289  \n",
      "15 -0.552864 -12.684714  1.368531  25.648612  \n",
      "16 -0.558507  -1.931760  1.794251   5.492481  \n",
      "17 -0.351678  -2.453762  0.878362   4.674915  \n",
      "18 -0.465470  -2.453810  1.233248   5.273242  \n",
      "19 -0.067893  -0.272423  0.685229   2.497159  \n",
      "20 -0.166667  -1.028270  0.638169   3.517727  \n",
      "21 -0.417372  -2.538176  0.875519   4.122184  \n",
      "22 -0.480645  -1.099232  1.424667   2.944247  \n",
      "23 -0.552864 -12.684714  1.368531  25.648612  \n"
     ]
    }
   ],
   "source": [
    "variables_to_collapse = [\"a0\", \"a0t\", \"b0\", \"b0t\", \"a1\", \"a1t\", \"b1\", \"b1t\"]\n",
    "\n",
    "# Perform the collapse operation\n",
    "collapsed_df = Table2_df.groupby(['global', 'Pan', 'anomaly'])[variables_to_collapse].mean().reset_index()\n",
    "\n",
    "# Display the collapsed DataFrame\n",
    "print(collapsed_df)"
   ],
   "metadata": {
    "collapsed": false,
    "ExecuteTime": {
     "end_time": "2024-02-02T17:05:53.389916Z",
     "start_time": "2024-02-02T17:05:53.372478Z"
    }
   },
   "id": "9d133c0e6426a920",
   "execution_count": 63
  },
  {
   "cell_type": "code",
   "outputs": [],
   "source": [],
   "metadata": {
    "collapsed": false
   },
   "id": "c940393db76e3281"
  }
 ],
 "metadata": {
  "kernelspec": {
   "display_name": "Python 3 (ipykernel)",
   "language": "python",
   "name": "python3"
  },
  "language_info": {
   "codemirror_mode": {
    "name": "ipython",
    "version": 3
   },
   "file_extension": ".py",
   "mimetype": "text/x-python",
   "name": "python",
   "nbconvert_exporter": "python",
   "pygments_lexer": "ipython3",
   "version": "3.11.5"
  }
 },
 "nbformat": 4,
 "nbformat_minor": 5
}
