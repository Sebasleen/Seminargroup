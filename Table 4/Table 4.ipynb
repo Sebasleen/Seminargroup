{
 "cells": [
  {
   "cell_type": "code",
   "execution_count": 1,
   "id": "b741c32c-802e-4f6a-a1c8-4196dd5b90d3",
   "metadata": {
    "tags": []
   },
   "outputs": [],
   "source": [
    "import pandas as pd\n",
    "import numpy as np\n",
    "import statsmodels.api as sm"
   ]
  },
  {
   "cell_type": "markdown",
   "id": "b2742a16-c4b1-49b8-8450-91b972aa7718",
   "metadata": {},
   "source": [
    "**Table 4 Panel A**"
   ]
  },
  {
   "cell_type": "code",
   "execution_count": 34,
   "id": "ac3d3ac1-cbf4-4a30-b5ea-79b49f97654d",
   "metadata": {
    "tags": []
   },
   "outputs": [
    {
     "name": "stdout",
     "output_type": "stream",
     "text": [
      "        p1    p2    p3    p4    p5    p6    p7    p8    p9   p10  ...  \\\n",
      "0     1.93  2.01  3.41  3.03  3.45  2.52  0.10  3.06  2.06  0.70  ...   \n",
      "1    -1.32  0.49 -1.13 -0.07 -1.32 -1.93 -1.51 -1.08 -1.72 -0.91  ...   \n",
      "2     5.77  3.02  3.81  3.03  2.58  2.31  1.81  3.74  2.24  6.37  ...   \n",
      "3     1.52  1.79  1.31  0.50  0.74 -0.48  1.91  0.71  1.01  0.01  ...   \n",
      "4    -3.05  0.33  0.83 -0.24 -0.32  0.20  0.00  1.79 -0.18  0.04  ...   \n",
      "..     ...   ...   ...   ...   ...   ...   ...   ...   ...   ...  ...   \n",
      "661 -12.06 -9.91 -8.14 -6.61 -3.51 -5.80 -1.72 -0.48  0.91 -0.31  ...   \n",
      "662   5.32  5.26  5.89  5.16  0.36  3.03  4.44  1.42  0.34 -3.03  ...   \n",
      "663  -3.92  2.38  4.04  4.50  3.45  4.79  1.92  1.53  1.01 -0.40  ...   \n",
      "664   3.88  6.00  6.84  5.82  5.18  3.79  4.48  1.69  2.95  3.43  ...   \n",
      "665  11.06  5.18  3.22  3.69  1.60  2.85  2.42  2.75  2.12  4.60  ...   \n",
      "\n",
      "     ExcessP2  ExcessP3  ExcessP4  ExcessP5  ExcessP6  ExcessP7  ExcessP8  \\\n",
      "0        1.71      3.11      2.73      3.15      2.22     -0.20      2.76   \n",
      "1        0.21     -1.41     -0.35     -1.60     -2.21     -1.79     -1.36   \n",
      "2        2.74      3.53      2.75      2.30      2.03      1.53      3.46   \n",
      "3        1.50      1.02      0.21      0.45     -0.77      1.62      0.42   \n",
      "4        0.04      0.54     -0.53     -0.61     -0.09     -0.29      1.50   \n",
      "..        ...       ...       ...       ...       ...       ...       ...   \n",
      "661    -10.07     -8.30     -6.77     -3.67     -5.96     -1.88     -0.64   \n",
      "662      5.08      5.71      4.98      0.18      2.85      4.26      1.24   \n",
      "663      2.23      3.89      4.35      3.30      4.64      1.77      1.38   \n",
      "664      5.88      6.72      5.70      5.06      3.67      4.36      1.57   \n",
      "665      5.04      3.08      3.55      1.46      2.71      2.28      2.61   \n",
      "\n",
      "     ExcessP9  ExcessP10  ExcessP11  \n",
      "0        1.76       0.40      -1.23  \n",
      "1       -2.00      -1.19       0.41  \n",
      "2        1.96       6.09       0.60  \n",
      "3        0.72      -0.28      -1.51  \n",
      "4       -0.47      -0.25       3.09  \n",
      "..        ...        ...        ...  \n",
      "661      0.75      -0.47      11.75  \n",
      "662      0.16      -3.21      -8.35  \n",
      "663      0.86      -0.55       3.52  \n",
      "664      2.83       3.31      -0.45  \n",
      "665      1.98       4.46      -6.46  \n",
      "\n",
      "[666 rows x 33 columns]\n"
     ]
    },
    {
     "data": {
      "text/plain": [
       "Index(['p1', 'p2', 'p3', 'p4', 'p5', 'p6', 'p7', 'p8', 'p9', 'p10', 'year',\n",
       "       'month', 'mktrf', 'smb', 'hml', 'cma', 'rmw', 'rf', 'yyyymm_x', 'TSMom',\n",
       "       'yyyymm_y', 'umd', 'ExcessP1', 'ExcessP2', 'ExcessP3', 'ExcessP4',\n",
       "       'ExcessP5', 'ExcessP6', 'ExcessP7', 'ExcessP8', 'ExcessP9', 'ExcessP10',\n",
       "       'ExcessP11'],\n",
       "      dtype='object')"
      ]
     },
     "execution_count": 34,
     "metadata": {},
     "output_type": "execute_result"
    }
   ],
   "source": [
    "merged_data = []\n",
    "\n",
    "# Load datasets\n",
    "p10umd = pd.read_stata(\"P10UMD.dta\")\n",
    "factor_ff5 = pd.read_stata(\"FactorFF5.dta\")[['year', 'month', 'mktrf', 'smb', 'hml', 'cma', 'rmw', 'rf', 'yyyymm']]\n",
    "tsfactor = pd.read_stata(\"TSFactor.dta\")[['year', 'month', 'TSMom', 'yyyymm']]\n",
    "factor_umd = pd.read_stata(\"FactorUMD.dta\")[['year', 'month', 'umd']]\n",
    "oos_tsmom = pd.read_stata(\"oos_tsmom_scs.dta\")[['yyyymm', 'tsmom1', 'tsmom2', 'tsmom3', 'tsmom4', 'tsmom5']]\n",
    "\n",
    "# Merge datasets except for the principal components\n",
    "merged_data = pd.merge(p10umd, factor_ff5, on=['year', 'month'], how='inner')\n",
    "merged_data = pd.merge(merged_data, tsfactor, on=['year', 'month'], how='inner')\n",
    "merged_data = pd.merge(merged_data, factor_umd, on=['year', 'month'], how='inner')\n",
    "\n",
    "merged_data['year'] = merged_data['year'].astype('int64')\n",
    "merged_data['month'] = merged_data['month'].astype('int64')\n",
    "\n",
    "# Merge oos_tsmom and perform necessary operations\n",
    "oos_tsmom['year'] = oos_tsmom['yyyymm'] // 100\n",
    "oos_tsmom['month'] = oos_tsmom['yyyymm'] % 100\n",
    "oos_tsmom = oos_tsmom.drop(columns=['yyyymm'])\n",
    "oos_tsmom = oos_tsmom.sort_values(by=['year', 'month'], ascending=[True, True])\n",
    "\n",
    "# Multiply columns by 100 and rename\n",
    "columns_to_multiply = ['tsmom1', 'tsmom2', 'tsmom3', 'tsmom4', 'tsmom5']\n",
    "columns_to_rename = ['pctsmom1', 'pctsmom2', 'pctsmom3', 'pctsmom4', 'pctsmom5']\n",
    "for orig_col, new_col in zip(columns_to_multiply, columns_to_rename):\n",
    "    oos_tsmom[new_col] = oos_tsmom[orig_col] * 100\n",
    "\n",
    "# Calculate the excess returns\n",
    "for i in range(1, 11):\n",
    "    merged_data[f'ExcessP{i}'] = merged_data[f'p{i}'] - merged_data['rf']\n",
    "\n",
    "# Portfolio 11 is high-minus-low\n",
    "merged_data['ExcessP11'] = merged_data['ExcessP10'] - merged_data['ExcessP1']\n",
    "    \n",
    "# Create a second dataframe for the Principal Component model, which has less observations\n",
    "merged_data1 = pd.merge(merged_data, oos_tsmom, on=['year', 'month'], how='inner')\n",
    "\n",
    "# Also calculate the excess returns for this dataframe\n",
    "for i in range(1, 11):\n",
    "    merged_data1[f'ExcessP{i}'] = merged_data1[f'p{i}'] - merged_data1['rf']\n",
    "\n",
    "merged_data1['ExcessP11'] = merged_data1['ExcessP10'] - merged_data1['ExcessP1']\n",
    "\n",
    "estimates_list = []\n",
    "\n",
    "print(merged_data)\n",
    "merged_data.columns"
   ]
  },
  {
   "cell_type": "code",
   "execution_count": 52,
   "id": "a890d8da-46c9-478b-8f9e-b0a887354b97",
   "metadata": {
    "tags": []
   },
   "outputs": [],
   "source": [
    "estimatesFF5_list = []\n",
    "\n",
    "# Momentum sorted portfolios with FF5\n",
    "for i in range(1, 12):\n",
    "    X = sm.add_constant(merged_data[['mktrf', 'smb', 'hml', 'cma', 'rmw']])\n",
    "    model = sm.OLS(merged_data[f'ExcessP{i}'], X).fit()\n",
    "    estimatesFF5_list.append(model)\n",
    "\n",
    "#for i, est in enumerate(estimatesFF5_list, start=1):\n",
    "    #print(f\"\\nRegression Results for Excess Portfolio Returns with FF5 - Portfolio {i}:\\n\")\n",
    "    #print(est.summary())"
   ]
  },
  {
   "cell_type": "code",
   "execution_count": 56,
   "id": "995fbe00-7f28-4da8-bde7-5c42236ff151",
   "metadata": {
    "tags": []
   },
   "outputs": [],
   "source": [
    "#print(\"Results for FF5 Model:\\n\")\n",
    "resultsFF5_list = []\n",
    "\n",
    "# Results for FF5\n",
    "for i, est_FF5 in enumerate(estimatesFF5_list, start=1):\n",
    "    result_row = {\n",
    "        'Decile': f'{i}',\n",
    "        'FF5_Alpha': f'{est_FF5.params[\"const\"]:.2f}',\n",
    "    }\n",
    "    t_stat_row = {\n",
    "        'Decile': f'', \n",
    "        'FF5_Alpha': f'({est_FF5.tvalues[\"const\"]:.2f})',\n",
    "    }\n",
    "    resultsFF5_list.append(result_row)\n",
    "    resultsFF5_list.append(t_stat_row)\n",
    "\n",
    "resultsFF5_df = pd.DataFrame(resultsFF5_list)\n",
    "#print(resultsFF5_df)"
   ]
  },
  {
   "cell_type": "code",
   "execution_count": 58,
   "id": "0091a587-6fc4-41b6-be43-bee83a45217d",
   "metadata": {
    "tags": []
   },
   "outputs": [],
   "source": [
    "estimatesUMD_list = []\n",
    "\n",
    "# Momentum sorted portfolios with FF5 + UMD\n",
    "for i in range(1, 12):\n",
    "    X = sm.add_constant(merged_data[['mktrf', 'smb', 'hml', 'cma', 'rmw', 'umd']])\n",
    "    model = sm.OLS(merged_data[f'ExcessP{i}'], X).fit()\n",
    "    estimatesUMD_list.append(model)\n",
    "\n",
    "#for i, est in enumerate(estimatesUMD_list, start=1):\n",
    "    #print(f\"\\nRegression Results for Excess Portfolio Returns with FF5 + UMD - Portfolio {i}:\\n\")\n",
    "    #print(est.summary())"
   ]
  },
  {
   "cell_type": "code",
   "execution_count": 60,
   "id": "f80e26e9-ee84-481b-adb3-65b930fd4a77",
   "metadata": {
    "tags": []
   },
   "outputs": [],
   "source": [
    "#print(\"Results for FF5 + UMD Model:\\n\")\n",
    "resultsUMD_list = []\n",
    "\n",
    "# Results for FF5 + UMD\n",
    "for i, est_umd in enumerate(estimatesUMD_list, start=1):\n",
    "    result_row = {\n",
    "        'Decile': f'{i}',\n",
    "        'UMD_Alpha': f'{est_umd.params[\"const\"]:.2f}',\n",
    "        'UMD_Coefficient': f'{est_umd.params[\"umd\"]:.2f}'\n",
    "    }\n",
    "    t_stat_row = {\n",
    "        'Decile': f'', \n",
    "        'UMD_Alpha': f'({est_umd.tvalues[\"const\"]:.2f})',\n",
    "        'UMD_Coefficient': f'({est_umd.tvalues[\"umd\"]:.2f})'\n",
    "    }\n",
    "    resultsUMD_list.append(result_row)\n",
    "    resultsUMD_list.append(t_stat_row)\n",
    "\n",
    "resultsUMD_df = pd.DataFrame(resultsUMD_list)\n",
    "#print(resultsUMD_df)"
   ]
  },
  {
   "cell_type": "code",
   "execution_count": 62,
   "id": "e14b7f85-3fcf-455c-86c0-c28242c0517a",
   "metadata": {
    "tags": []
   },
   "outputs": [],
   "source": [
    "estimatesFMOMind_list = []\n",
    "\n",
    "# Momentum sorted portfolios with FF5 + MOMind\n",
    "for i in range(1, 12):\n",
    "    X = sm.add_constant(merged_data[['mktrf', 'smb', 'hml', 'cma', 'rmw', 'TSMom']])\n",
    "    model = sm.OLS(merged_data[f'ExcessP{i}'], X).fit()\n",
    "    estimatesFMOMind_list.append(model)\n",
    "\n",
    "#for i, est in enumerate(estimatesFMOMind_list, start=1):\n",
    "    #print(f\"\\nRegression Results for Excess Portfolio Returns with FF5 + FMOMind - Portfolio {i}:\\n\")\n",
    "    #print(est.summary())"
   ]
  },
  {
   "cell_type": "code",
   "execution_count": 64,
   "id": "34c74d5f-6447-4aae-8165-99432d85020d",
   "metadata": {
    "tags": []
   },
   "outputs": [],
   "source": [
    "#print(\"Results for FF5 + FMOMind Model:\\n\")\n",
    "resultsFMOMind_list = []\n",
    "\n",
    "# Results for FF5 + FMOMind\n",
    "for i, est_FMOMind in enumerate(estimatesFMOMind_list, start=1):\n",
    "    result_row = {\n",
    "        'Decile': f'{i}',\n",
    "        'FMOMind_Alpha': f'{est_FMOMind.params[\"const\"]:.2f}',\n",
    "        'FMOMind_Coefficient': f'{est_FMOMind.params[\"TSMom\"]:.2f}'\n",
    "    }\n",
    "    t_stat_row = {\n",
    "        'Decile': f'', \n",
    "        'FMOMind_Alpha': f'({est_FMOMind.tvalues[\"const\"]:.2f})',\n",
    "        'FMOMind_Coefficient': f'({est_FMOMind.tvalues[\"TSMom\"]:.2f})'\n",
    "    }\n",
    "    resultsFMOMind_list.append(result_row)\n",
    "    resultsFMOMind_list.append(t_stat_row)\n",
    "\n",
    "resultsFMOMind_df = pd.DataFrame(resultsFMOMind_list)\n",
    "#print(resultsFMOMind_df)"
   ]
  },
  {
   "cell_type": "code",
   "execution_count": 66,
   "id": "5b169542-7b5f-4750-a31b-5d917c84f2e1",
   "metadata": {
    "tags": []
   },
   "outputs": [],
   "source": [
    "estimatesFMOMpc_list = []\n",
    "\n",
    "# Momentum sorted portfolios with FF5 + UMD\n",
    "for i in range(1, 12):\n",
    "    X = sm.add_constant(merged_data1[['mktrf', 'smb', 'hml', 'cma', 'rmw', 'pctsmom1']])\n",
    "    model = sm.OLS(merged_data1[f'ExcessP{i}'], X).fit()\n",
    "    estimatesFMOMpc_list.append(model)\n",
    "\n",
    "#for i, est in enumerate(estimatesFMOMpc_list, start=1):\n",
    "    #print(f\"\\nRegression Results for Excess Portfolio Returns with FF5 + FMOMpc - Portfolio {i}:\\n\")\n",
    "    #print(est.summary())"
   ]
  },
  {
   "cell_type": "code",
   "execution_count": 68,
   "id": "774c4a78-b87a-4aa0-8e2c-c44fead6e73a",
   "metadata": {
    "tags": []
   },
   "outputs": [],
   "source": [
    "#print(\"Results for FF5 + FMOMpc Model:\\n\")\n",
    "resultsFMOMpc_list = []\n",
    "\n",
    "# Append results for FF5 + FMOMind\n",
    "for i, est_FMOMpc in enumerate(estimatesFMOMpc_list, start=1):\n",
    "    result_row = {\n",
    "        'Decile': f'{i}',\n",
    "        'FMOMpc_Alpha': f'{est_FMOMpc.params[\"const\"]:.2f}',\n",
    "        'FMOMpc_Coefficient': f'{est_FMOMpc.params[\"pctsmom1\"]:.2f}'\n",
    "    }\n",
    "    t_stat_row = {\n",
    "        'Decile': f'', \n",
    "        'FMOMpc_Alpha': f'({est_FMOMpc.tvalues[\"const\"]:.2f})',\n",
    "        'FMOMpc_Coefficient': f'({est_FMOMpc.tvalues[\"pctsmom1\"]:.2f})'\n",
    "    }\n",
    "    resultsFMOMpc_list.append(result_row)\n",
    "    resultsFMOMpc_list.append(t_stat_row)\n",
    "\n",
    "# Convert the list of results to a DataFrame\n",
    "resultsFMOMpc_df = pd.DataFrame(resultsFMOMpc_list)\n",
    "\n",
    "# Display the results DataFrame\n",
    "#print(resultsFMOMpc_df)"
   ]
  },
  {
   "cell_type": "code",
   "execution_count": 13,
   "id": "1e4bb8f8-b9f6-4f87-9c33-c07f2d6828ad",
   "metadata": {
    "tags": []
   },
   "outputs": [
    {
     "name": "stdout",
     "output_type": "stream",
     "text": [
      "   Decile FF5_Alpha UMD_Alpha UMD_Coefficient FMOMind_Alpha  \\\n",
      "0       1     -0.75     -0.10           -0.93         -0.04   \n",
      "1           (-4.05)   (-0.94)        (-36.59)       (-0.28)   \n",
      "2       2     -0.35      0.13           -0.70          0.16   \n",
      "3           (-2.73)    (2.08)        (-46.76)        (1.54)   \n",
      "4       3     -0.20      0.18           -0.54          0.17   \n",
      "5           (-1.90)    (2.92)        (-38.35)        (1.93)   \n",
      "6       4     -0.16      0.07           -0.33          0.12   \n",
      "7           (-1.93)    (1.20)        (-22.77)        (1.69)   \n",
      "8       5     -0.16     -0.04           -0.17         -0.02   \n",
      "9           (-2.45)   (-0.65)        (-12.30)       (-0.39)   \n",
      "10      6     -0.13     -0.09           -0.05         -0.07   \n",
      "11          (-2.05)   (-1.46)         (-3.52)       (-1.02)   \n",
      "12      7     -0.12     -0.16            0.07         -0.14   \n",
      "13          (-1.94)   (-2.72)          (4.73)       (-2.32)   \n",
      "14      8      0.04     -0.11            0.22         -0.09   \n",
      "15           (0.62)   (-2.05)         (16.96)       (-1.34)   \n",
      "16      9      0.08     -0.14            0.33         -0.11   \n",
      "17           (1.08)   (-2.46)         (23.85)       (-1.45)   \n",
      "18     10      0.57      0.17            0.57          0.16   \n",
      "19           (4.82)    (2.32)         (32.93)        (1.59)   \n",
      "20     11      1.33      0.27            1.51          0.20   \n",
      "21           (4.91)    (2.43)         (56.81)        (0.99)   \n",
      "\n",
      "   FMOMind_Coefficient FMOMpc_Alpha FMOMpc_Coefficient  \n",
      "0                -2.46        -0.02              -3.65  \n",
      "1             (-20.06)      (-0.09)           (-12.95)  \n",
      "2                -1.78         0.18              -2.66  \n",
      "3             (-21.26)       (1.35)           (-14.05)  \n",
      "4                -1.30         0.20              -2.06  \n",
      "5             (-17.78)       (1.83)           (-13.16)  \n",
      "6                -0.95         0.16              -1.43  \n",
      "7             (-16.70)       (1.93)           (-11.67)  \n",
      "8                -0.47         0.02              -0.78  \n",
      "9              (-9.07)       (0.22)            (-7.49)  \n",
      "10               -0.22        -0.05              -0.41  \n",
      "11             (-4.26)      (-0.65)            (-3.90)  \n",
      "12                0.09        -0.12               0.06  \n",
      "13              (1.83)      (-1.70)             (0.58)  \n",
      "14                0.44        -0.10               0.69  \n",
      "15              (8.42)      (-1.44)             (6.68)  \n",
      "16                0.66        -0.14               0.94  \n",
      "17             (11.04)      (-1.61)             (7.56)  \n",
      "18                1.42         0.01               2.38  \n",
      "19             (17.21)       (0.05)            (14.26)  \n",
      "20                3.88         0.02               6.03  \n",
      "21             (23.13)       (0.09)            (15.84)  \n"
     ]
    }
   ],
   "source": [
    "resultsUMD_df = resultsUMD_df.drop(columns=['Decile'])\n",
    "resultsFMOMind_df = resultsFMOMind_df.drop(columns=['Decile'])\n",
    "resultsFMOMpc_df = resultsFMOMpc_df.drop(columns=['Decile'])\n",
    "\n",
    "# Merge the results\n",
    "merged_results = pd.concat([resultsFF5_df, resultsUMD_df, resultsFMOMind_df, resultsFMOMpc_df], axis=1)\n",
    "\n",
    "print(merged_results)"
   ]
  },
  {
   "cell_type": "code",
   "execution_count": 14,
   "id": "e00d5330-41c6-4a71-9be1-fd02cdc8b538",
   "metadata": {
    "tags": []
   },
   "outputs": [
    {
     "name": "stdout",
     "output_type": "stream",
     "text": [
      "     Model  Avg_alpha\n",
      "0      FF5   0.257050\n",
      "1      UMD   0.120639\n",
      "2  FMOMind   0.108118\n",
      "3   FMOMpc   0.098437\n"
     ]
    }
   ],
   "source": [
    "alpha_means_FF5 = []\n",
    "alpha_means_UMD = []\n",
    "alpha_means_FMOMind = []\n",
    "alpha_means_FMOMpc = []\n",
    "\n",
    "# Calculate the absolute values of the aplhas\n",
    "for i, est_ff5 in enumerate(estimatesFF5_list, start=1):\n",
    "    alpha_mean_ff5 = np.abs(est_ff5.params['const']).mean()\n",
    "    alpha_means_FF5.append(alpha_mean_ff5)\n",
    "\n",
    "for i, est_umd in enumerate(estimatesUMD_list, start=1):\n",
    "    alpha_mean_umd = np.abs(est_umd.params['const']).mean()\n",
    "    alpha_means_UMD.append(alpha_mean_umd)\n",
    "\n",
    "for i, est_fmomind in enumerate(estimatesFMOMind_list, start=1):\n",
    "    alpha_mean_fmomind = np.abs(est_fmomind.params['const']).mean()\n",
    "    alpha_means_FMOMind.append(alpha_mean_fmomind)\n",
    "\n",
    "for i, est_fmompc in enumerate(estimatesFMOMpc_list, start=1):\n",
    "    alpha_mean_fmompc = np.abs(est_fmompc.params['const']).mean()\n",
    "    alpha_means_FMOMpc.append(alpha_mean_fmompc)\n",
    "\n",
    "# Calculate the absolute mean alphas for the different models except for the winners-losers portfolio\n",
    "Avg_alpha_FF5 = np.mean(alpha_means_FF5[:-1])\n",
    "Avg_alpha_UMD = np.mean(alpha_means_UMD[:-1])\n",
    "Avg_alpha_FMOMind = np.mean(alpha_means_FMOMind[:-1])\n",
    "Avg_alpha_FMOMpc = np.mean(alpha_means_FMOMpc[:-1])\n",
    "\n",
    "# Create a DataFrame for average alphas\n",
    "avg_alphas_df = pd.DataFrame({\n",
    "    'Model': ['FF5', 'UMD', 'FMOMind', 'FMOMpc'],\n",
    "    'Avg_alpha': [Avg_alpha_FF5, Avg_alpha_UMD, Avg_alpha_FMOMind, Avg_alpha_FMOMpc]\n",
    "})\n",
    "\n",
    "print(avg_alphas_df)"
   ]
  },
  {
   "cell_type": "markdown",
   "id": "68cd8da6-e004-4210-96d2-7f5beef3c23c",
   "metadata": {},
   "source": [
    "**Panel B**"
   ]
  },
  {
   "cell_type": "code",
   "execution_count": 48,
   "id": "6a506a4d-9fed-4252-9430-3bbede0c8047",
   "metadata": {},
   "outputs": [
    {
     "name": "stdout",
     "output_type": "stream",
     "text": [
      "      Model     Alpha  Alpha T-stat FMom Slope FMom Slope T-stat  \\\n",
      "0       FF5  0.627999      3.400518                                \n",
      "1  pctsmom1 -0.091454     -0.594911   3.899118         17.517987   \n",
      "2  pctsmom2  0.362050      1.994262   2.045442          6.880018   \n",
      "3  pctsmom3  0.284387      1.611649   3.147788          9.093304   \n",
      "4  pctsmom4  0.345101      2.035411   3.033553         10.932782   \n",
      "5  pctsmom5  0.399247      2.349366    2.56848         10.566864   \n",
      "\n",
      "   R-squared_adj  \n",
      "0       0.106322  \n",
      "1       0.424966  \n",
      "2       0.175528  \n",
      "3       0.221525  \n",
      "4       0.264293  \n",
      "5       0.255559  \n"
     ]
    }
   ],
   "source": [
    "# Assuming 'UMD' is your dependent variable, and 'mktrf', 'smb', 'hml', 'cma', 'rmw' are your factors\n",
    "independent_vars_ff5 = ['mktrf', 'smb', 'hml', 'cma', 'rmw']\n",
    "\n",
    "# Augment the FF5 model with different subsets of PC factors\n",
    "independent_vars_pctsmom1 = ['mktrf', 'smb', 'hml', 'cma', 'rmw', 'pctsmom1']\n",
    "independent_vars_pctsmom2 = ['mktrf', 'smb', 'hml', 'cma', 'rmw', 'pctsmom2']\n",
    "independent_vars_pctsmom3 = ['mktrf', 'smb', 'hml', 'cma', 'rmw', 'pctsmom3']\n",
    "independent_vars_pctsmom4 = ['mktrf', 'smb', 'hml', 'cma', 'rmw', 'pctsmom4']\n",
    "independent_vars_pctsmom5 = ['mktrf', 'smb', 'hml', 'cma', 'rmw', 'pctsmom5']\n",
    "\n",
    "# Create a list to store the results\n",
    "results_list = []\n",
    "\n",
    "# Fit the FF5 model\n",
    "X_ff5 = sm.add_constant(merged_data1[independent_vars_ff5])\n",
    "model_ff5 = sm.OLS(merged_data1['umd'], X_ff5)\n",
    "results_ff5 = model_ff5.fit()\n",
    "\n",
    "# Record the results for the FF5 model (only alpha)\n",
    "results_list.append({\n",
    "    'Model': 'FF5',\n",
    "    'Alpha': results_ff5.params['const'],\n",
    "    'Alpha T-stat': results_ff5.tvalues['const'],\n",
    "    'FMom Slope':' ',\n",
    "    'FMom Slope T-stat':' ',\n",
    "    'R-squared_adj': results_ff5.rsquared_adj\n",
    "})\n",
    "\n",
    "# Fit models with different subsets of PC factors\n",
    "for subset_vars in [independent_vars_pctsmom1, independent_vars_pctsmom2, independent_vars_pctsmom3, independent_vars_pctsmom4, independent_vars_pctsmom5]:\n",
    "    X_subset = sm.add_constant(merged_data1[subset_vars])\n",
    "    model_subset = sm.OLS(merged_data1['umd'], X_subset)\n",
    "    results_subset = model_subset.fit()\n",
    "\n",
    "    # Record the results for each subset, including the alpha and slope for pctsmom factor\n",
    "    results_list.append({\n",
    "        'Model': ' + '.join(subset_vars[-1:]),\n",
    "        'Alpha': results_subset.params['const'],\n",
    "        'Alpha T-stat': results_subset.tvalues['const'],\n",
    "        'FMom Slope': results_subset.params[subset_vars[-1:][0]],\n",
    "        'FMom Slope T-stat': results_subset.tvalues[subset_vars[-1:][0]],\n",
    "        'R-squared_adj': results_subset.rsquared_adj\n",
    "    })\n",
    "\n",
    "# Create a DataFrame from the list of results\n",
    "results_df = pd.DataFrame(results_list)\n",
    "\n",
    "# Display the results\n",
    "print(results_df)"
   ]
  },
  {
   "cell_type": "code",
   "execution_count": null,
   "id": "ee83853e-199d-4c60-9255-c56a40de7751",
   "metadata": {},
   "outputs": [],
   "source": []
  }
 ],
 "metadata": {
  "kernelspec": {
   "display_name": "Python 3 (ipykernel)",
   "language": "python",
   "name": "python3"
  },
  "language_info": {
   "codemirror_mode": {
    "name": "ipython",
    "version": 3
   },
   "file_extension": ".py",
   "mimetype": "text/x-python",
   "name": "python",
   "nbconvert_exporter": "python",
   "pygments_lexer": "ipython3",
   "version": "3.11.5"
  }
 },
 "nbformat": 4,
 "nbformat_minor": 5
}
