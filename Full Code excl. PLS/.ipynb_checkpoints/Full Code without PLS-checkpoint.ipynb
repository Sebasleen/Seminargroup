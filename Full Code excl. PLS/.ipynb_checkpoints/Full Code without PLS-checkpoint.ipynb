{
 "cells": [
  {
   "cell_type": "markdown",
   "source": [
    "### Imports"
   ],
   "metadata": {
    "collapsed": false
   },
   "id": "c3b02ed9dd222dd"
  },
  {
   "cell_type": "code",
   "execution_count": 30,
   "id": "initial_id",
   "metadata": {
    "collapsed": true,
    "ExecuteTime": {
     "end_time": "2024-02-26T14:59:00.870501Z",
     "start_time": "2024-02-26T14:59:00.868953Z"
    }
   },
   "outputs": [],
   "source": [
    "import pandas as pd\n",
    "import numpy as np\n",
    "import statsmodels.api as sm\n",
    "import calendar\n",
    "from sklearn.decomposition import PCA\n",
    "from sklearn.preprocessing import StandardScaler\n",
    "\n",
    "\n",
    "\n"
   ]
  },
  {
   "cell_type": "markdown",
   "source": [
    "# Table 1\n"
   ],
   "metadata": {
    "collapsed": false
   },
   "id": "1ed0fca218438e6d"
  },
  {
   "cell_type": "markdown",
   "source": [
    "### Loading data"
   ],
   "metadata": {
    "collapsed": false
   },
   "id": "b7d7850c72b3792a"
  },
  {
   "cell_type": "code",
   "outputs": [
    {
     "name": "stdout",
     "output_type": "stream",
     "text": [
      "['ac' 'bab' 'cfp' 'cma' 'ep' 'hml' 'liq' 'ltrev' 'nsi' 'qmj' 'rmw' 'rvar'\n",
      " 'smb' 'strev' 'umd' 'glbab' 'glcma' 'glhml' 'glqmj' 'glrmw' 'glsmb'\n",
      " 'glumd']\n",
      "       year  month anomaly    ret   time  global\n",
      "0      1963      7      ac  2.170   42.0     0.0\n",
      "1      1963      8      ac -0.197   43.0     0.0\n",
      "2      1963      9      ac  0.600   44.0     0.0\n",
      "3      1963     10      ac  6.463   45.0     0.0\n",
      "4      1963     11      ac -2.260   46.0     0.0\n",
      "...     ...    ...     ...    ...    ...     ...\n",
      "10111  2019      8     umd  7.600  715.0     0.0\n",
      "10112  2019      9     umd -6.850  716.0     0.0\n",
      "10113  2019     10     umd  0.240  717.0     0.0\n",
      "10114  2019     11     umd -2.620  718.0     0.0\n",
      "10115  2019     12     umd -2.130  719.0     0.0\n",
      "\n",
      "[10116 rows x 6 columns]\n",
      "       year  month anomaly       ret   time  global\n",
      "10116  1987      2   glbab  2.236918  325.0     1.0\n",
      "10117  1987      3   glbab  1.828450  326.0     1.0\n",
      "10118  1987      4   glbab -5.521739  327.0     1.0\n",
      "10119  1987      5   glbab -0.513814  328.0     1.0\n",
      "10120  1987      6   glbab  1.579217  329.0     1.0\n",
      "...     ...    ...     ...       ...    ...     ...\n",
      "12638  2019      8   glumd  2.990000  715.0     1.0\n",
      "12639  2019      9   glumd -3.260000  716.0     1.0\n",
      "12640  2019     10   glumd -0.940000  717.0     1.0\n",
      "12641  2019     11   glumd  0.000000  718.0     1.0\n",
      "12642  2019     12   glumd  0.740000  719.0     1.0\n",
      "\n",
      "[2527 rows x 6 columns]\n"
     ]
    }
   ],
   "source": [
    "url = 'https://github.com/Sebasleen/Seminargroup/raw/Seminar/Data/anomalies.dta'\n",
    "\n",
    "Anomalies = pd.read_stata(url)\n",
    "\n",
    "# display unique values in the 'anomaly' column\n",
    "print(Anomalies['anomaly'].unique())\n",
    "\n",
    "# delete the global factors from the dataframe and create Anomalies US\n",
    "column_name = 'anomaly'\n",
    "values_to_dropUS = ['glbab', 'glcma', 'glhml', 'glqmj', 'glrmw', 'glsmb', 'glumd']\n",
    "ElementsUS = Anomalies[column_name].isin(values_to_dropUS)\n",
    "Anomalies_US = Anomalies[~ElementsUS]\n",
    "\n",
    "# delete the US factors from dataframe and create Anomalies Global \n",
    "column_name = 'anomaly'\n",
    "values_to_dropGF = ['ac', 'bab', 'cfp', 'cma', 'ep', 'hml', 'liq', 'ltrev', 'nsi', 'qmj', 'rmw', 'rvar',\n",
    "                    'smb', 'strev', 'umd']\n",
    "ElementsGF = Anomalies[column_name].isin(values_to_dropGF)\n",
    "Anomalies_GF = Anomalies[~ElementsGF]\n",
    "\n",
    "# print both anomalies US and anomalies global \n",
    "print(Anomalies_US)\n",
    "print(Anomalies_GF)"
   ],
   "metadata": {
    "collapsed": false,
    "ExecuteTime": {
     "end_time": "2024-02-26T13:12:17.659382Z",
     "start_time": "2024-02-26T13:12:16.740681Z"
    }
   },
   "id": "aefa9a33ec9759a5",
   "execution_count": 11
  },
  {
   "cell_type": "markdown",
   "source": [
    "### replicating table 1"
   ],
   "metadata": {
    "collapsed": false
   },
   "id": "61f2b93f47c09c62"
  },
  {
   "cell_type": "markdown",
   "source": [
    "### US factors"
   ],
   "metadata": {
    "collapsed": false
   },
   "id": "c3b4c916e084c319"
  },
  {
   "cell_type": "code",
   "outputs": [
    {
     "name": "stdout",
     "output_type": "stream",
     "text": [
      "   anomaly  Mean     SD T-value\n",
      "0       ac  2.8%   6.6%    3.19\n",
      "1      bab  9.8%  11.2%    6.55\n",
      "2      cfp  3.4%   8.6%    2.94\n",
      "3      cma  3.3%   6.9%    3.59\n",
      "4       ep  3.5%   8.9%    2.95\n",
      "5      hml  3.6%   9.7%    2.82\n",
      "6      liq  4.4%  11.6%    2.77\n",
      "7    ltrev  2.5%   8.7%    2.16\n",
      "8      nsi  2.8%   8.2%    2.52\n",
      "9      qmj  4.6%   7.7%    4.47\n",
      "10     rmw  3.1%   7.5%    3.13\n",
      "11    rvar  1.6%  17.3%    0.68\n",
      "12     smb  2.7%  10.4%    1.97\n",
      "13   strev  6.0%  10.6%    4.21\n",
      "14     umd  7.8%  14.5%    4.02\n"
     ]
    }
   ],
   "source": [
    "# calculate the mean and stand deviation of US factors\n",
    "AnomaliesUS = Anomalies_US.groupby(['anomaly']).agg({'ret': ['mean', 'std', 'count']}).reset_index()\n",
    "AnomaliesUS = Anomalies_US.pivot_table(index='anomaly', values='ret', aggfunc=['mean', 'std', 'count'])\n",
    "AnomaliesUS.columns = ['Mean', 'SD', 'ret_number']\n",
    "AnomaliesUS.reset_index(inplace=True)\n",
    "AnomaliesUS.columns = ['anomaly', 'Mean', 'SD', 'ret_number']\n",
    "\n",
    "# calculate additional statistics\n",
    "AnomaliesUS['ret_semean'] = AnomaliesUS['SD'] / np.sqrt(AnomaliesUS['ret_number'])\n",
    "\n",
    "# multiply by 12 to create annualized returns\n",
    "AnomaliesUS['ret'] = AnomaliesUS['Mean'] * 12\n",
    "\n",
    "# multiply by sqrt(12) to create annualized standard deviation\n",
    "AnomaliesUS['sd'] = AnomaliesUS['SD'] * np.sqrt(12)\n",
    "\n",
    "# calculate the t-stat by dividing the return by the standard error of the mean. Divide by 12 to annualize it\n",
    "AnomaliesUS['tstat'] = AnomaliesUS['ret'] / AnomaliesUS['ret_semean'] /12\n",
    "\n",
    "# format the table to correct decimals\n",
    "AnomaliesUS[['Mean']] = AnomaliesUS[['ret']].apply(lambda x: x.map(\"{:.1f}%\".format))\n",
    "AnomaliesUS[['SD']] = AnomaliesUS[['sd']].apply(lambda x: x.map(\"{:.1f}%\".format))\n",
    "AnomaliesUS[['T-value']] = AnomaliesUS[['tstat']].apply(lambda x: x.map(\"{:.2f}\".format))\n",
    "\n",
    "print(AnomaliesUS[['anomaly','Mean','SD','T-value']])"
   ],
   "metadata": {
    "collapsed": false,
    "ExecuteTime": {
     "end_time": "2024-02-26T13:12:32.874029Z",
     "start_time": "2024-02-26T13:12:32.830780Z"
    }
   },
   "id": "66347171583346c7",
   "execution_count": 12
  },
  {
   "cell_type": "markdown",
   "source": [
    "### Global factors"
   ],
   "metadata": {
    "collapsed": false
   },
   "id": "7f970bbebcafdd90"
  },
  {
   "cell_type": "code",
   "outputs": [
    {
     "name": "stdout",
     "output_type": "stream",
     "text": [
      "  anomaly  Mean     SD T-value\n",
      "0   glbab  9.6%   9.7%    5.70\n",
      "1   glcma  1.9%   6.0%    1.74\n",
      "2   glhml  4.0%   7.4%    2.92\n",
      "3   glqmj  6.2%   6.8%    5.06\n",
      "4   glrmw  4.3%   4.7%    4.91\n",
      "5   glsmb  1.1%   7.1%    0.83\n",
      "6   glumd  7.9%  12.1%    3.54\n"
     ]
    }
   ],
   "source": [
    "# calculate the mean and stand deviation of Global factors\n",
    "AnomaliesGF = Anomalies_GF.groupby(['anomaly']).agg({'ret': ['mean', 'std', 'count']}).reset_index()\n",
    "AnomaliesGF = Anomalies_GF.pivot_table(index='anomaly', values='ret', aggfunc=['mean', 'std', 'count'])\n",
    "AnomaliesGF.columns = ['Mean', 'SD', 'ret_number']\n",
    "AnomaliesGF.reset_index(inplace=True)\n",
    "AnomaliesGF.columns = ['anomaly', 'Mean', 'SD', 'ret_number']\n",
    "\n",
    "# calculate additional statistics\n",
    "AnomaliesGF['ret_semean'] = AnomaliesGF['SD'] / np.sqrt(AnomaliesGF['ret_number'])\n",
    "\n",
    "# multiply by 12 to create annualized returns\n",
    "AnomaliesGF['ret'] = AnomaliesGF['Mean'] * 12\n",
    "\n",
    "# multiply by sqrt(12) to create annualized standard deviation\n",
    "AnomaliesGF['sd'] = AnomaliesGF['SD'] * np.sqrt(12)\n",
    "\n",
    "# calculate the t-stat by dividing the return by the standard error of the mean. Divide by 12 to annualize it\n",
    "AnomaliesGF['tstat'] = AnomaliesGF['ret'] / AnomaliesGF['ret_semean'] /12\n",
    "\n",
    "# format the table to correct decimals\n",
    "AnomaliesGF[['Mean']] = AnomaliesGF[['ret']].apply(lambda x: x.map(\"{:.1f}%\".format))\n",
    "AnomaliesGF[['SD']] = AnomaliesGF[['sd']].apply(lambda x: x.map(\"{:.1f}%\".format))\n",
    "AnomaliesGF[['T-value']] = AnomaliesGF[['tstat']].apply(lambda x: x.map(\"{:.2f}\".format))\n",
    "\n",
    "print(AnomaliesGF[['anomaly','Mean','SD','T-value']])"
   ],
   "metadata": {
    "collapsed": false,
    "ExecuteTime": {
     "end_time": "2024-02-26T13:12:42.065180Z",
     "start_time": "2024-02-26T13:12:42.044718Z"
    }
   },
   "id": "bbd214b9e39f7b82",
   "execution_count": 13
  },
  {
   "cell_type": "markdown",
   "source": [
    "# Table 2 "
   ],
   "metadata": {
    "collapsed": false
   },
   "id": "6a16892a0e1af284"
  },
  {
   "cell_type": "markdown",
   "source": [
    "### replicating table 2 (uses the same dataset as table 1)"
   ],
   "metadata": {
    "collapsed": false
   },
   "id": "6a5369eb282369a4"
  },
  {
   "cell_type": "code",
   "outputs": [
    {
     "name": "stdout",
     "output_type": "stream",
     "text": [
      "   Anomaly     Alpha  T-stat_Alpha     Slope  T-stat_Slope\n",
      "0       ac  0.150195      1.184450  0.101410      0.649822\n",
      "1      bab -0.221412     -0.632211  1.319041      3.534152\n",
      "2      cfp  0.127745      0.781292  0.235454      1.157989\n",
      "3      cma  0.120082      0.974474  0.244693      1.545819\n",
      "4       ep  0.101357      0.616107  0.302075      1.458207\n",
      "5      hml  0.038477      0.204762  0.410255      1.780679\n",
      "6      liq  0.157215      0.741922  0.356063      1.291807\n",
      "7    ltrev -0.252989     -1.663307  0.757680      3.850110\n",
      "8      nsi  0.172982      1.324451  0.089249      0.486779\n",
      "9      qmj  0.086832      0.650364  0.434757      2.507550\n",
      "10     rmw  0.040360      0.222250  0.337185      1.673841\n",
      "11    rvar -0.463569     -1.638345  1.061609      2.737366\n",
      "12     smb -0.104191     -0.615583  0.583455      2.508982\n",
      "13   strev  0.485098      1.427336  0.013888      0.038600\n",
      "14     umd  0.716042      2.697340 -0.094969     -0.288098\n",
      "15   glbab  0.190820      0.577502  0.837610      2.303918\n",
      "16   glcma -0.064014     -0.408285  0.382064      1.944285\n",
      "17   glhml  0.035556      0.150752  0.471689      1.770057\n",
      "18   glqmj  0.394512      1.761234  0.124643      0.492025\n",
      "19   glrmw  0.137826      1.033410  0.256716      1.616411\n",
      "20   glsmb -0.063285     -0.388832  0.284797      1.325669\n",
      "21   glumd  0.668710      1.774142  0.017124      0.039403\n"
     ]
    }
   ],
   "source": [
    "# create an empty list to store results\n",
    "results_list = []\n",
    "\n",
    "# create a loop which iterates over each anomly in our dataset \n",
    "for anomaly in Anomalies['anomaly'].unique():\n",
    "    subset = Anomalies[Anomalies['anomaly'] == anomaly]\n",
    "    subset = subset.sort_values(by='time')\n",
    "\n",
    "    # create a binary variable for positive returns in the past 12 months (the signal variable)\n",
    "    subset['positive_return'] = subset['ret'].rolling(window=12, min_periods=12).mean().shift(1) > 0\n",
    "\n",
    "    # drop the first 12 observations in the subset after the rolling window has been applied (so dropping N/A values)\n",
    "    subset = subset.iloc[12:]\n",
    "\n",
    "    # select our OLS model and fit our data\n",
    "    y = subset['ret']\n",
    "    X = sm.add_constant(subset['positive_return'].astype(int))\n",
    "    model = sm.OLS(y, X)\n",
    "    \n",
    "    # select the correct covariance type (as used in the paper)\n",
    "    results = model.fit(cov_type='cluster', cov_kwds={'groups': subset['time']})\n",
    "\n",
    "    # append the results to our dictionary to create the results\n",
    "    results_list.append({\n",
    "        'anomaly': anomaly,\n",
    "        'alpha': results.params['const'],\n",
    "        'T-stat_alpha': results.tvalues['const'],\n",
    "        'slope': results.params['positive_return'],\n",
    "        'T-stat_slope': results.tvalues['positive_return'],\n",
    "    })\n",
    "\n",
    "results_table = pd.DataFrame(results_list)\n",
    "print(results_table)\n"
   ],
   "metadata": {
    "collapsed": false,
    "ExecuteTime": {
     "end_time": "2024-02-26T13:22:38.886376Z",
     "start_time": "2024-02-26T13:22:38.813337Z"
    }
   },
   "id": "d64fbe7d50f9ec9",
   "execution_count": 15
  },
  {
   "cell_type": "markdown",
   "source": [
    "# Table 3"
   ],
   "metadata": {
    "collapsed": false
   },
   "id": "5405d5744d09b948"
  },
  {
   "cell_type": "markdown",
   "source": [
    "### Loading dataset"
   ],
   "metadata": {
    "collapsed": false
   },
   "id": "f19fe09105a82214"
  },
  {
   "cell_type": "code",
   "outputs": [],
   "source": [
    "# loading dataframes \n",
    "\n",
    "url = 'https://github.com/Sebasleen/Seminargroup/raw/Seminar/Data/managed_portfolios_anom_d_55.csv'\n",
    "\n",
    "r_daily = pd.read_csv(url)\n",
    "\n",
    "# drop all momentum factors or factors that are constructed based on momentum (including market return variables)\n",
    "\n",
    "factor_drop_list = ['r_mom', 'r_indmom', 'r_valmom', 'r_valmomprof', 'r_mom12', 'r_momrev', 'r_indmomrev', 'r_exchsw', 'rme', 're_ew']\n",
    "\n",
    "r_daily.drop(columns=factor_drop_list, inplace=True)\n",
    "\n",
    "# set date to datetime format and set the date to the index \n",
    "\n",
    "r_daily['date'] = pd.to_datetime(r_daily['date'])\n",
    "r_daily.set_index('date', inplace=True)\n",
    "\n",
    "# following the procedure in the paper, if there are observations missing we set them to 0. (footnote 16)\n",
    "\n",
    "r_daily.fillna(0, inplace=True)\n",
    "\n",
    "# create a list of factors for later analysis purposes \n",
    "\n",
    "factors = [col for col in r_daily.columns if col.startswith('r_')]\n",
    "\n",
    "# create a monthly return dataframe for later analysis purposes (by summing the daily returns)\n",
    "\n",
    "r_monthly = r_daily.resample('ME').sum()\n",
    "r_monthly.index = r_monthly.index.strftime('%Y-%m')\n"
   ],
   "metadata": {
    "collapsed": false,
    "ExecuteTime": {
     "end_time": "2024-02-26T13:43:12.562660Z",
     "start_time": "2024-02-26T13:43:06.532381Z"
    }
   },
   "id": "53b534a6439d1efb",
   "execution_count": 5
  },
  {
   "cell_type": "markdown",
   "source": [
    "### perform the PCA analysis"
   ],
   "metadata": {
    "collapsed": false
   },
   "id": "9e6714174c41bb33"
  },
  {
   "cell_type": "code",
   "outputs": [
    {
     "name": "stdout",
     "output_type": "stream",
     "text": [
      "              PC1       PC2       PC3       PC4       PC5       PC6       PC7  \\\n",
      "date                                                                            \n",
      "1973-02 -0.163527  -0.10435 -0.004879  0.001906  0.080599   0.11734  0.004165   \n",
      "1973-03 -0.254274  -0.04289 -0.002538 -0.097974 -0.033213 -0.057495   0.00577   \n",
      "1973-04 -0.166303  0.053257  0.051769 -0.043656  0.022396  0.051989    0.0334   \n",
      "1973-05 -0.403385  0.076711   0.09642  -0.07831    0.0444  0.073014  0.079326   \n",
      "1973-06 -0.100178 -0.117113 -0.034034 -0.069168  0.000694  0.010336  0.061616   \n",
      "...           ...       ...       ...       ...       ...       ...       ...   \n",
      "2019-09    0.0618  -0.26667   -0.0452  0.144064  0.059383 -0.041025  -0.05225   \n",
      "2019-10 -0.418177  0.059967  0.232239 -0.056775 -0.086553 -0.024549  0.072874   \n",
      "2019-11  0.035635 -0.109379  0.016161 -0.062541    0.0222  0.060263  0.078533   \n",
      "2019-12   0.20419  0.041358 -0.038417   0.01059 -0.027231  0.046026   0.01053   \n",
      "2020-01 -0.072692  0.050692  0.067176 -0.032406  0.022009 -0.003676  0.002061   \n",
      "\n",
      "              PC8       PC9      PC10  ...      PC38      PC39      PC40  \\\n",
      "date                                   ...                                 \n",
      "1973-02  0.003035 -0.079989 -0.020695  ... -0.021327  0.008742   -0.0051   \n",
      "1973-03  0.042633 -0.035161 -0.017398  ...  0.005376   -0.0003 -0.000367   \n",
      "1973-04  0.022461 -0.026694 -0.010816  ...  0.019176 -0.001799  0.003847   \n",
      "1973-05  0.073523 -0.055137  0.005008  ... -0.026462  0.000317 -0.007336   \n",
      "1973-06   0.12224  0.016014  0.004321  ... -0.006241 -0.000443  0.006889   \n",
      "...           ...       ...       ...  ...       ...       ...       ...   \n",
      "2019-09   0.01717 -0.040238 -0.030897  ... -0.001199  0.008439 -0.021196   \n",
      "2019-10 -0.016393  0.047308  0.047244  ...  0.010715  0.004885  0.001281   \n",
      "2019-11  -0.04381  0.036236   0.03833  ...  0.005283 -0.005292  0.014402   \n",
      "2019-12  0.021675 -0.026845  0.012445  ...  0.001963 -0.005495  0.007557   \n",
      "2020-01 -0.008543  0.032947  0.011972  ...  0.011556  0.004658 -0.006268   \n",
      "\n",
      "             PC41      PC42      PC43      PC44      PC45      PC46      PC47  \n",
      "date                                                                           \n",
      "1973-02 -0.010304 -0.007092  0.008458  0.010323      -0.0       0.0       0.0  \n",
      "1973-03 -0.015084  0.006569  -0.00155  0.014107      -0.0      -0.0       0.0  \n",
      "1973-04 -0.005882  -0.00524  0.001282  0.011108       0.0      -0.0       0.0  \n",
      "1973-05 -0.026076 -0.004754 -0.014463  0.021661       0.0       0.0       0.0  \n",
      "1973-06  0.008113  0.004878  0.007792  0.006805       0.0       0.0      -0.0  \n",
      "...           ...       ...       ...       ...       ...       ...       ...  \n",
      "2019-09 -0.000517 -0.006274  0.003448  0.001092 -0.006518 -0.004247   -0.0076  \n",
      "2019-10  0.004942  -0.00468 -0.000161  0.000391 -0.008263  0.006965  0.001521  \n",
      "2019-11 -0.001159  0.012408  0.004936  0.003515 -0.006954 -0.000451  0.000488  \n",
      "2019-12 -0.002737  0.009973  0.009825  0.004672  0.001641 -0.011689 -0.006748  \n",
      "2020-01  0.010561 -0.001968 -0.003344 -0.006232  0.000492  0.005839  0.001024  \n",
      "\n",
      "[564 rows x 47 columns]\n"
     ]
    }
   ],
   "source": [
    "# initialize pca model \n",
    "\n",
    "pca = PCA(n_components=len(factors))\n",
    "\n",
    "scaler = StandardScaler()\n",
    "\n",
    "# select our start date \n",
    "\n",
    "start_date = pd.to_datetime(\"1963-07-01\")\n",
    "\n",
    "# create an empty dataframe to store the average return for each PC from t until t-11. We need this to create the momentum signal for our strategy\n",
    "\n",
    "pc_avg_df = pd.DataFrame()\n",
    "\n",
    "# create an empty list for the pc return dataframes. These will be concated in a later stage to one large dataframe\n",
    "\n",
    "pc_return_dfs = []\n",
    "\n",
    "# create our loop set up, this is actually an expanding PCA analysis. In each iteration a new month is added to the dataset and the return is computed. \n",
    "\n",
    "for year in range(1973, 2020):\n",
    "    # the sample of the paper starts from July 1973, but we use January to June 1973 to calculate the returns in order to obtain stable means for later demeaning purposes \n",
    "    for mo in range(1,13):\n",
    "        # first we have to find the last month of the day. For this we use the calender function with inputs from the loop variables\n",
    "        last_day = calendar.monthrange(year, mo)[1]\n",
    "\n",
    "        # we select our new end_date variable for which the PCA analysis is done, also with inputs from our loop and the last_day variable\n",
    "        end_date = pd.to_datetime(f'{year}-{mo}-{last_day}')\n",
    "\n",
    "        t_dt = pd.to_datetime(f'{year}-{mo}')\n",
    "        t = t_dt.strftime('%Y-%m')\n",
    "\n",
    "        # we select the datarange from our dataset (July 1963 = start_date until our defined end_date) and we fit the model\n",
    "        pca_data = r_daily.loc[start_date:end_date]\n",
    "        scaled_data = scaler.fit_transform(pca_data)\n",
    "        pca.fit(scaled_data)\n",
    "\n",
    "        # we extract the principal components. These principal components are put in a new dataframe for later analysis. \n",
    "\n",
    "        principal_components = pca.components_\n",
    "        components_df = pd.DataFrame(data=principal_components.T, index=factors, columns=[f\"PC{i+1}\" for i in range(len(factors))])\n",
    "\n",
    "        # calculating return for month t+1. If mo = 12, then year will increment with 1. \n",
    "\n",
    "        t_plus_1_year = year + 1 if mo == 12 else year\n",
    "        t_plus_1_month = (mo % 12) + 1\n",
    "\n",
    "        # creating a datetime variable for the month t+1 and storing this in our pc_return_data variable\n",
    "\n",
    "        t_plus_1_dt =pd.to_datetime(f'{t_plus_1_year}-{t_plus_1_month}')\n",
    "        t_plus_1 = t_plus_1_dt.strftime('%Y-%m')\n",
    "\n",
    "        pc_return_data = {'date': t_plus_1}\n",
    "\n",
    "\n",
    "        # in this loop we calculate the monthly factor returns (f) using the principal components and returns\n",
    "\n",
    "        for f in range(len(factors)):\n",
    "            # select our factor and extract its principal component from principal_df and its return from r_daily for all observations in month mo \n",
    "            pc = components_df.iloc[:, f]\n",
    "            r_month = r_monthly.loc[t]\n",
    "            # multiply the principal components with the returns and sum them up to get PC factor return for month mo \n",
    "            pc_return = (pc*r_month).sum()\n",
    "\n",
    "            # place this in our dictionary for later transposing to dataframe\n",
    "\n",
    "            pc_return_data[components_df.columns[f]] = pc_return\n",
    "\n",
    "            r_pc_month_n_list = []\n",
    "            \n",
    "            # in this loop we calculate the average return of the eigenvector at time t, for the period t until t-11. We store these results in a dataframe for later use.\n",
    "\n",
    "            for n in range(0, 12):\n",
    "                # calculate the datetime for t - n\n",
    "                t_minus_n_dt = t_dt - pd.DateOffset(months=n)\n",
    "\n",
    "                # transpose it to our YYYY-MM format\n",
    "                t_minus_n = t_minus_n_dt.strftime('%Y-%m')\n",
    "\n",
    "                # select the return corresponding to our month t-n\n",
    "                r_month_n = r_monthly.shift(n).loc[t_minus_n]\n",
    "\n",
    "                # calculate the dot product for month t-n\n",
    "                pc_return_n = (pc*r_month_n).sum()\n",
    "                \n",
    "                # append this to our list to calculate the mean \n",
    "                r_pc_month_n_list.append(pc_return_n)\n",
    "            \n",
    "            # calculate the mean and append it to our average return dataframe\n",
    "            r_pc_month_mean = (np.mean(r_pc_month_n_list))\n",
    "            pc_avg_df.loc[t, f'PC{f+1}'] = r_pc_month_mean\n",
    "\n",
    "        # append the PC returns to our PC_return dataframe for later analysis \n",
    "        pc_return_df = pd.DataFrame.from_dict(pc_return_data, orient='index').T\n",
    "        pc_return_df.set_index('date', inplace=True)\n",
    "        pc_return_dfs.append(pc_return_df)\n",
    "\n",
    "r_pc = pd.concat(pc_return_dfs)\n",
    "print(r_pc)"
   ],
   "metadata": {
    "collapsed": false,
    "ExecuteTime": {
     "end_time": "2024-02-26T15:00:46.496892Z",
     "start_time": "2024-02-26T14:59:21.287217Z"
    }
   },
   "id": "6c93e32e30ad672c",
   "execution_count": 31
  },
  {
   "cell_type": "markdown",
   "source": [
    "### demeaning and leveraging our PC returns"
   ],
   "metadata": {
    "collapsed": false
   },
   "id": "e5de35b475e77b4"
  },
  {
   "cell_type": "code",
   "outputs": [
    {
     "name": "stdout",
     "output_type": "stream",
     "text": [
      "              PC1       PC2       PC3       PC4       PC5       PC6       PC7  \\\n",
      "1973-03 -0.026649  0.026649  0.026649 -0.026649 -0.026649 -0.026649  0.026649   \n",
      "1973-04  0.020729  0.040113  0.043471  0.002199 -0.000572  0.006273  0.043448   \n",
      "1973-05 -0.052914  0.036520  0.048040 -0.020672  0.012657  0.013721  0.052732   \n",
      "1973-06  0.038003 -0.038651 -0.040384 -0.011589 -0.019663 -0.016462  0.028198   \n",
      "1973-07  0.029864 -0.006144  0.017073 -0.039421 -0.018559  0.019224 -0.011339   \n",
      "...           ...       ...       ...       ...       ...       ...       ...   \n",
      "2019-08  0.015596 -0.013605 -0.002106  0.023654 -0.027606  0.000796  0.032523   \n",
      "2019-09  0.018075 -0.107229 -0.023939  0.075979  0.038220 -0.035257 -0.040602   \n",
      "2019-10 -0.083752  0.017626  0.127434 -0.043139 -0.056248 -0.022306  0.057079   \n",
      "2019-11  0.012635 -0.047106  0.009422 -0.046467  0.014220  0.044328  0.061344   \n",
      "2019-12  0.048361  0.010570 -0.020369 -0.003046 -0.017808  0.033079  0.008221   \n",
      "\n",
      "              PC8       PC9      PC10  ...      PC38      PC39      PC40  \\\n",
      "1973-03  0.026649  0.026649  0.026649  ...  0.026649 -0.026649  0.026649   \n",
      "1973-04 -0.000473  0.027079  0.041097  ...  0.033116 -0.026512  0.036923   \n",
      "1973-05  0.048145 -0.009453  0.053248  ... -0.036156 -0.011396 -0.038858   \n",
      "1973-06  0.056493  0.055656  0.038713  ... -0.000697 -0.015706  0.046731   \n",
      "1973-07  0.002509  0.054225 -0.007518  ... -0.026258  0.014451 -0.039386   \n",
      "...           ...       ...       ...  ...       ...       ...       ...   \n",
      "2019-08 -0.010820 -0.026200 -0.019712  ...  0.011864 -0.015378 -0.033636   \n",
      "2019-09  0.007009 -0.043945 -0.042654  ... -0.003070  0.042823 -0.095680   \n",
      "2019-10 -0.022251  0.051168  0.056389  ...  0.046795  0.027124  0.008882   \n",
      "2019-11 -0.046100  0.039051  0.044987  ...  0.023981 -0.017842  0.069807   \n",
      "2019-12  0.011059 -0.029522  0.012129  ...  0.010046 -0.018714  0.037891   \n",
      "\n",
      "             PC41      PC42      PC43      PC44      PC45      PC46      PC47  \n",
      "1973-03 -0.026649  0.026649 -0.026649  0.026649 -0.026649 -0.026649  0.000000  \n",
      "1973-04  0.037175 -0.016872 -0.010578 -0.013927  0.043426 -0.026660  0.000000  \n",
      "1973-05 -0.051444 -0.013008 -0.051245  0.054155  0.013685  0.015231  0.057066  \n",
      "1973-06  0.054471  0.036021  0.030671 -0.040775  0.015666  0.013778 -0.037541  \n",
      "1973-07  0.053740  0.008555 -0.028171 -0.010282  0.065762  0.012659  0.011935  \n",
      "...           ...       ...       ...       ...       ...       ...       ...  \n",
      "2019-08  0.004883 -0.034755 -0.007318  0.000395  0.015175 -0.023355  0.003263  \n",
      "2019-09 -0.004377 -0.029150  0.017303  0.007804 -0.041668 -0.028005 -0.074222  \n",
      "2019-10  0.021210 -0.021339 -0.003476  0.002993 -0.052871  0.057923  0.010019  \n",
      "2019-11 -0.007423  0.062285  0.025876  0.024418 -0.044328  0.001009  0.000470  \n",
      "2019-12 -0.014815  0.050252  0.053960  0.032317  0.011159 -0.084969 -0.066326  \n",
      "\n",
      "[562 rows x 47 columns]\n"
     ]
    },
    {
     "name": "stderr",
     "output_type": "stream",
     "text": [
      "/var/folders/zx/2ff938wn7d11yl1k3djhsp880000gn/T/ipykernel_92321/2738485239.py:35: FutureWarning: Downcasting object dtype arrays on .fillna, .ffill, .bfill is deprecated and will change in a future version. Call result.infer_objects(copy=False) instead. To opt-in to the future behavior, set `pd.set_option('future.no_silent_downcasting', True)`\n",
      "  lev_r_pc.fillna(0, inplace=True)\n"
     ]
    }
   ],
   "source": [
    "# define our start date and create an empty list for our leveraged dataframes\n",
    "start_date_dt = pd.to_datetime(\"1963-07-01\")\n",
    "start_date = start_date_dt.strftime('%Y-%m')\n",
    "lev_dfs = []\n",
    "\n",
    "for year in range(1973, 2020):\n",
    "    # as we lost one month in calculating the t+1 PC return, we start the loop from february 1973. We try to use the full year of 1973 in order to obtain stable demeaned results. Hence we will cut of our sample later from July 1973 in order to match the dataset of the original paper. \n",
    "    for mo in range(2,13) if year == 1973 else range(1, 13):\n",
    "        \n",
    "        # first we set our t variable to the current year and month from our loop\n",
    "        t_dt = pd.to_datetime(f'{year}-{mo}')\n",
    "        t = t_dt.strftime('%Y-%m')\n",
    "        \n",
    "        # we also create a t_minus_one variable, because we have to calculate the variance up to month t (so excluding month t)\n",
    "        t_minus_one_dt = t_dt - pd.DateOffset(months=1)\n",
    "        t_minus_one = t_minus_one_dt.strftime('%Y-%m')\n",
    "\n",
    "        # calculate the variance of the individual factor returns up until month t-1 \n",
    "        r_indiv_f_t = r_monthly.loc[start_date:t_minus_one]\n",
    "        var_indiv_f_t = r_indiv_f_t.var(axis=0)\n",
    "        avg_var_indiv_f_t = var_indiv_f_t.mean()\n",
    "\n",
    "        # calculate the mean and variance of the PC factors up until month t \n",
    "        r_pc_t = r_pc.loc[:t]\n",
    "        demeaned_r_pc_t = r_pc.loc[t].to_frame().T - r_pc_t.mean()\n",
    "\n",
    "        # calculate the leverage factor and multiply this with the demeaned \n",
    "\n",
    "        leverage_t = np.divide(np.sqrt(avg_var_indiv_f_t), r_pc_t.std(axis=0), where=r_pc_t.std(axis=0)!=0)\n",
    "        lev_r_pc_t = demeaned_r_pc_t * leverage_t\n",
    "        lev_df = lev_r_pc_t.loc[t].to_frame().T\n",
    "        lev_dfs.append(lev_df)\n",
    "\n",
    "lev_r_pc = pd.concat(lev_dfs)\n",
    "lev_r_pc.fillna(0, inplace=True)\n",
    "lev_r_pc_clean = lev_r_pc.drop(lev_r_pc.index[:1])\n",
    "print(lev_r_pc_clean)"
   ],
   "metadata": {
    "collapsed": false,
    "ExecuteTime": {
     "end_time": "2024-02-26T15:13:06.527352Z",
     "start_time": "2024-02-26T15:12:59.594681Z"
    }
   },
   "id": "60e65f621120396c",
   "execution_count": 37
  },
  {
   "cell_type": "markdown",
   "source": [],
   "metadata": {
    "collapsed": false
   },
   "id": "6c75202b38082ff0"
  },
  {
   "cell_type": "markdown",
   "source": [
    "### constructing the momentum strategy"
   ],
   "metadata": {
    "collapsed": false
   },
   "id": "b53c254e55de9a83"
  },
  {
   "cell_type": "code",
   "outputs": [
    {
     "name": "stdout",
     "output_type": "stream",
     "text": [
      "mom_set_1    0.010090\n",
      "mom_set_2    0.010919\n",
      "mom_set_3    0.012050\n",
      "mom_set_4    0.010571\n",
      "mom_set_5    0.009817\n",
      "dtype: float64\n"
     ]
    }
   ],
   "source": [
    "# create two boolean dataframes: one for positive average returns and one for negative average returns\n",
    "positive_returns_PC = pc_avg_df > 0\n",
    "negative_returns_PC = pc_avg_df < 0\n",
    "\n",
    "# convert the boolean dataframes to integers and 0's, one for long positions and one for short positions\n",
    "long_portfolio_PC = positive_returns_PC.astype(int)\n",
    "short_portfolio_PC = negative_returns_PC.astype(int)\n",
    "\n",
    "# create the 5 subsets of PCs\n",
    "mom_1_10 = ['PC1', 'PC2', 'PC3', 'PC4', 'PC5', 'PC6', 'PC7', 'PC8', 'PC9', 'PC10']\n",
    "mom_11_20 = ['PC11', 'PC12', 'PC13', 'PC14', 'PC15', 'PC16', 'PC17', 'PC18', 'PC19', 'PC20']\n",
    "mom_21_30 = ['PC21', 'PC22', 'PC23', 'PC24', 'PC25', 'PC26', 'PC27', 'PC28', 'PC29', 'PC30']\n",
    "mom_31_40 = ['PC31', 'PC32', 'PC33', 'PC34', 'PC35', 'PC36', 'PC37', 'PC38', 'PC39', 'PC40']\n",
    "mom_41_47 = ['PC41', 'PC42', 'PC43', 'PC44', 'PC45', 'PC46', 'PC47']\n",
    "\n",
    "# create a list of the subsets for our loop\n",
    "mom_list = [mom_1_10, mom_11_20, mom_21_30, mom_31_40, mom_41_47]\n",
    "\n",
    "# create an empty dictionary \n",
    "r_mean_set_dict = {}\n",
    "\n",
    "# create a loop where the dummy dataframe is multiplied with the leveraged PC return dataframe. We shift the portfolio indicator with one, as we need to calculate the returns of t+1. \n",
    "for i, mom in enumerate(mom_list):\n",
    "    # create the strategy: the return of the long positions minus the return of the short positions (accounting for the fact that negative short returns need to become positive\n",
    "    r_PC_set_mom = (long_portfolio_PC[mom] * lev_r_pc_clean[mom]) - (short_portfolio_PC[mom] * lev_r_pc_clean[mom])\n",
    "    # we take the mean of the returns of the 10 PC subsets\n",
    "    r_PC_set_mean = r_PC_set_mom.mean(axis=1)\n",
    "    # we append it to our dictionary\n",
    "    r_mean_set_dict[f'mom_set_{i + 1}'] = r_PC_set_mean\n",
    "\n",
    "# create the dataframe with the series of returns for each subset of PCS\n",
    "mom_strategy = pd.concat(r_mean_set_dict, axis=1)\n",
    "\n",
    "mom_strategy.index = pd.to_datetime(mom_strategy.index)\n",
    "mom_strategy.index = mom_strategy.index.strftime('%Y-%m')\n",
    "mom_strategy.dropna(inplace=True)\n",
    "\n",
    "print(mom_strategy.mean(axis=0))"
   ],
   "metadata": {
    "collapsed": false,
    "ExecuteTime": {
     "end_time": "2024-02-26T15:14:22.768475Z",
     "start_time": "2024-02-26T15:14:22.739005Z"
    }
   },
   "id": "d1d8716302d332df",
   "execution_count": 39
  },
  {
   "cell_type": "markdown",
   "source": [
    "### Replicating table 3"
   ],
   "metadata": {
    "collapsed": false
   },
   "id": "5233882ce4ca1ad2"
  },
  {
   "cell_type": "markdown",
   "source": [
    "### replicating panel A"
   ],
   "metadata": {
    "collapsed": false
   },
   "id": "971881e95f3633ce"
  },
  {
   "cell_type": "code",
   "outputs": [
    {
     "name": "stdout",
     "output_type": "stream",
     "text": [
      "the mean of every subset of PCs is:\n",
      "\n",
      "mom_set_1    0.010160\n",
      "mom_set_2    0.010924\n",
      "mom_set_3    0.012089\n",
      "mom_set_4    0.010675\n",
      "mom_set_5    0.009854\n",
      "dtype: float64\n",
      "the t-statistic of every subset of PCS is:\n",
      "\n",
      "13.17970769476419\n",
      "15.768353202178005\n",
      "17.13888516170161\n",
      "14.328587648009446\n",
      "12.210736306511885\n",
      "the mean of every subset of PCs is (first half):\n",
      "\n",
      "mom_set_1    0.008323\n",
      "mom_set_2    0.009876\n",
      "mom_set_3    0.010313\n",
      "mom_set_4    0.009884\n",
      "mom_set_5    0.010023\n",
      "dtype: float64\n",
      "the t-statistic of every subset of PCS is (first half):\n",
      "\n",
      "10.748269430953567\n",
      "12.92274749269342\n",
      "14.180083726127068\n",
      "10.580461565492229\n",
      "8.860448286327067\n",
      "the mean of every subset of PCs is (second half):\n",
      "\n",
      "mom_set_1    0.011995\n",
      "mom_set_2    0.011928\n",
      "mom_set_3    0.013859\n",
      "mom_set_4    0.011449\n",
      "mom_set_5    0.009651\n",
      "dtype: float64\n",
      "the t-statistic of every subset of PCS is (second half):\n",
      "\n",
      "9.110855099744533\n",
      "10.295805883349614\n",
      "11.528997063316632\n",
      "9.982952662630376\n",
      "8.42025246826826\n"
     ]
    }
   ],
   "source": [
    "# select the full sample dataframe in the paper and create the two splitted periods \n",
    "mom_strategy_full = mom_strategy.loc['1973-07':'2019-12']\n",
    "mom_strategy_1 = mom_strategy.loc['1973-07':'1996-09']\n",
    "mom_strategy_2 = mom_strategy.loc['1996-09':]\n",
    "\n",
    "print(f'the mean of every subset of PCs is:\\n')\n",
    "print(mom_strategy_full.mean(axis=0))\n",
    "\n",
    "means = mom_strategy.mean(axis=0).tolist()\n",
    "std = mom_strategy.std(axis=0).tolist()\n",
    "N = mom_strategy.shape[0]\n",
    "\n",
    "print(f'the t-statistic of every subset of PCS is:\\n')\n",
    "for m, s in zip(means, std):\n",
    "    t_statistic = m / (s / (N**0.5))\n",
    "    print(t_statistic)\n",
    "\n",
    "print(f'the mean of every subset of PCs is (first half):\\n')\n",
    "print(mom_strategy_1.mean(axis=0))\n",
    "\n",
    "means = mom_strategy_1.mean(axis=0).tolist()\n",
    "std = mom_strategy_1.std(axis=0).tolist()\n",
    "N = mom_strategy_1.shape[0]\n",
    "\n",
    "print(f'the t-statistic of every subset of PCS is (first half):\\n')\n",
    "for m, s in zip(means, std):\n",
    "    t_statistic = m / (s / (N**0.5))\n",
    "    print(t_statistic)\n",
    "\n",
    "print(f'the mean of every subset of PCs is (second half):\\n')\n",
    "print(mom_strategy_2.mean(axis=0))\n",
    "\n",
    "means = mom_strategy_2.mean(axis=0).tolist()\n",
    "std = mom_strategy_2.std(axis=0).tolist()\n",
    "N = mom_strategy_2.shape[0]\n",
    "\n",
    "print(f'the t-statistic of every subset of PCS is (second half):\\n')\n",
    "for m, s in zip(means, std):\n",
    "    t_statistic = m / (s / (N**0.5))\n",
    "    print(t_statistic)"
   ],
   "metadata": {
    "collapsed": false,
    "ExecuteTime": {
     "end_time": "2024-02-26T16:04:32.640240Z",
     "start_time": "2024-02-26T16:04:32.611455Z"
    }
   },
   "id": "77459761ad29a9d6",
   "execution_count": 50
  },
  {
   "cell_type": "markdown",
   "source": [
    "### Replicating panel B and C"
   ],
   "metadata": {
    "collapsed": false
   },
   "id": "690983981c7aa12e"
  },
  {
   "cell_type": "markdown",
   "source": [
    "### Loading data and merging datasets"
   ],
   "metadata": {
    "collapsed": false
   },
   "id": "5abbd2787c86808f"
  },
  {
   "cell_type": "code",
   "outputs": [],
   "source": [
    "url = 'https://github.com/Sebasleen/Seminargroup/raw/Seminar/Data/fffactors.dta'\n",
    "\n",
    "ff = pd.read_stata(url)\n",
    "\n",
    "# set index to date column\n",
    "ff.set_index('yyyymm', inplace=True)\n",
    "\n",
    "# set it to datetime format and correct format\n",
    "ff.index = pd.to_datetime(ff.index, format='%Y%m')\n",
    "ff.index = ff.index.strftime('%Y-%m')\n",
    "\n",
    "# select the needed factors over our sample \n",
    "ff5 = ff[['mktrf', 'smb', 'hml', 'rmw', 'cma']].loc['1973-08':'2019-12']\n",
    "\n",
    "# merge the dataframes together\n",
    "mom_strategy_ff5 = pd.concat([mom_strategy_full, ff5], axis=1)\n",
    "\n",
    "# construct a dummy variable for period 1 and for period 2 \n",
    "mom_strategy_ff5['P1'] = 0\n",
    "mom_strategy_ff5['P2'] = 0\n",
    "mom_strategy_ff5.loc[mom_strategy_ff5.index <= '1996-09', 'P1'] = 1\n",
    "mom_strategy_ff5.loc[mom_strategy_ff5.index >= '1996-09', 'P2'] = 1\n"
   ],
   "metadata": {
    "collapsed": false,
    "ExecuteTime": {
     "end_time": "2024-02-26T16:04:47.458388Z",
     "start_time": "2024-02-26T16:04:47.208839Z"
    }
   },
   "id": "e76edbfe897d967b",
   "execution_count": 51
  },
  {
   "cell_type": "markdown",
   "source": [
    "### conducting the regressions - Panel B"
   ],
   "metadata": {
    "collapsed": false
   },
   "id": "f366d0b552fada26"
  },
  {
   "cell_type": "code",
   "outputs": [],
   "source": [
    "# selecting our independent variables from our dataframe\n",
    "independent_vars = ['mom_set_1', 'P1', 'P2', 'mktrf', 'smb', 'hml', 'rmw', 'cma']\n",
    "X = mom_strategy_ff5[independent_vars]\n",
    "\n",
    "# constructing a loop that iterates the regressions\n",
    "for i in range(2, 6):\n",
    "    Y = mom_strategy_ff5[f'mom_set_{i}']\n",
    "    modelB = sm.OLS(Y, X, hasconst=False).fit()\n",
    "    print(modelB.summary())\n",
    "\n"
   ],
   "metadata": {
    "collapsed": false
   },
   "id": "61fe1ed61f7d1b9e"
  },
  {
   "cell_type": "markdown",
   "source": [
    "### conducting the regressions - Panel C"
   ],
   "metadata": {
    "collapsed": false
   },
   "id": "e8e5a0f8ede0f950"
  },
  {
   "cell_type": "code",
   "outputs": [],
   "source": [
    "# selecting our dependent variable\n",
    "y = mom_strategy_ff5['mom_set_1']\n",
    "\n",
    "# constructing a loop that iterates the regressions\n",
    "for i in range(2, 6):\n",
    "    independent_vars = [f'mom_set_{i}', 'P1', 'P2', 'mktrf', 'smb', 'hml', 'rmw', 'cma']\n",
    "    X = mom_strategy_ff5[independent_vars]\n",
    "    modelC = sm.OLS(y, X, hasconst=False).fit()\n",
    "    print(modelC.summary())\n",
    "\n",
    "# last regression is one with all independent variables (panel C regression 5)\n",
    "independent_vars = ['P1', 'P2', 'mom_set_2', 'mom_set_3', 'mom_set_4', 'mom_set_5', 'mktrf', 'smb', 'hml', 'rmw', 'cma']\n",
    "X = mom_strategy_ff5[independent_vars]\n",
    "modelC1 = sm.OLS(y, X, hasconst=False).fit()\n",
    "print(modelC1.summary())"
   ],
   "metadata": {
    "collapsed": false
   },
   "id": "7453e2f179407de9"
  },
  {
   "cell_type": "markdown",
   "source": [
    "# Table 4"
   ],
   "metadata": {
    "collapsed": false
   },
   "id": "fbee16e2f5f76ebc"
  },
  {
   "cell_type": "markdown",
   "source": [
    "### loading data and merging dataframes"
   ],
   "metadata": {
    "collapsed": false
   },
   "id": "71178b7762679cb1"
  },
  {
   "cell_type": "code",
   "outputs": [
    {
     "name": "stdout",
     "output_type": "stream",
     "text": [
      "            p1    p2    p3    p4    p5    p6    p7    p8    p9   p10   umd  \\\n",
      "1964-07   1.93  2.01  3.41  3.03  3.45  2.52  0.10  3.06  2.06  0.70 -0.37   \n",
      "1964-08  -1.32  0.49 -1.13 -0.07 -1.32 -1.93 -1.51 -1.08 -1.72 -0.91 -0.19   \n",
      "1964-09   5.77  3.02  3.81  3.03  2.58  2.31  1.81  3.74  2.24  6.37 -0.39   \n",
      "1964-10   1.52  1.79  1.31  0.50  0.74 -0.48  1.91  0.71  1.01  0.01  0.08   \n",
      "1964-11  -3.05  0.33  0.83 -0.24 -0.32  0.20  0.00  1.79 -0.18  0.04  1.08   \n",
      "...        ...   ...   ...   ...   ...   ...   ...   ...   ...   ...   ...   \n",
      "2019-08 -12.06 -9.91 -8.14 -6.61 -3.51 -5.80 -1.72 -0.48  0.91 -0.31  7.60   \n",
      "2019-09   5.32  5.26  5.89  5.16  0.36  3.03  4.44  1.42  0.34 -3.03 -6.85   \n",
      "2019-10  -3.92  2.38  4.04  4.50  3.45  4.79  1.92  1.53  1.01 -0.40  0.24   \n",
      "2019-11   3.88  6.00  6.84  5.82  5.18  3.79  4.48  1.69  2.95  3.43 -2.62   \n",
      "2019-12  11.06  5.18  3.22  3.69  1.60  2.85  2.42  2.75  2.12  4.60 -2.13   \n",
      "\n",
      "            TSMom    rf  mktrf   smb       hml   rmw   cma  \n",
      "1964-07  0.856398  0.30   1.74  0.28  0.680000  0.14  1.84  \n",
      "1964-08  0.180683  0.28  -1.44  0.09  0.090000  0.06  0.36  \n",
      "1964-09  0.210156  0.28   2.69 -0.51  1.650000 -0.48  0.58  \n",
      "1964-10  0.507089  0.29   0.59  0.43  1.140000 -0.29  0.48  \n",
      "1964-11 -0.011695  0.29   0.00  0.61 -1.980000  0.60 -0.16  \n",
      "...           ...   ...    ...   ...       ...   ...   ...  \n",
      "2019-08  1.944303  0.16  -2.58 -2.41 -4.990000  0.37 -0.96  \n",
      "2019-09 -0.636095  0.18   1.43 -0.90  6.710001  1.97  3.55  \n",
      "2019-10  0.170413  0.15   2.06  0.25 -2.070000  0.43 -0.96  \n",
      "2019-11 -0.551105  0.12   3.87  0.87 -1.860000 -1.50 -1.29  \n",
      "2019-12 -0.825733  0.14   2.77  0.68  1.830000  0.21  1.31  \n",
      "\n",
      "[666 rows x 18 columns]\n",
      "            p1    p2    p3    p4    p5    p6    p7    p8    p9   p10  ...  \\\n",
      "1964-07   1.93  2.01  3.41  3.03  3.45  2.52  0.10  3.06  2.06  0.70  ...   \n",
      "1964-08  -1.32  0.49 -1.13 -0.07 -1.32 -1.93 -1.51 -1.08 -1.72 -0.91  ...   \n",
      "1964-09   5.77  3.02  3.81  3.03  2.58  2.31  1.81  3.74  2.24  6.37  ...   \n",
      "1964-10   1.52  1.79  1.31  0.50  0.74 -0.48  1.91  0.71  1.01  0.01  ...   \n",
      "1964-11  -3.05  0.33  0.83 -0.24 -0.32  0.20  0.00  1.79 -0.18  0.04  ...   \n",
      "...        ...   ...   ...   ...   ...   ...   ...   ...   ...   ...  ...   \n",
      "2019-08 -12.06 -9.91 -8.14 -6.61 -3.51 -5.80 -1.72 -0.48  0.91 -0.31  ...   \n",
      "2019-09   5.32  5.26  5.89  5.16  0.36  3.03  4.44  1.42  0.34 -3.03  ...   \n",
      "2019-10  -3.92  2.38  4.04  4.50  3.45  4.79  1.92  1.53  1.01 -0.40  ...   \n",
      "2019-11   3.88  6.00  6.84  5.82  5.18  3.79  4.48  1.69  2.95  3.43  ...   \n",
      "2019-12  11.06  5.18  3.22  3.69  1.60  2.85  2.42  2.75  2.12  4.60  ...   \n",
      "\n",
      "         ExcessP2  ExcessP3  ExcessP4  ExcessP5  ExcessP6  ExcessP7  ExcessP8  \\\n",
      "1964-07      1.71      3.11      2.73      3.15      2.22     -0.20      2.76   \n",
      "1964-08      0.21     -1.41     -0.35     -1.60     -2.21     -1.79     -1.36   \n",
      "1964-09      2.74      3.53      2.75      2.30      2.03      1.53      3.46   \n",
      "1964-10      1.50      1.02      0.21      0.45     -0.77      1.62      0.42   \n",
      "1964-11      0.04      0.54     -0.53     -0.61     -0.09     -0.29      1.50   \n",
      "...           ...       ...       ...       ...       ...       ...       ...   \n",
      "2019-08    -10.07     -8.30     -6.77     -3.67     -5.96     -1.88     -0.64   \n",
      "2019-09      5.08      5.71      4.98      0.18      2.85      4.26      1.24   \n",
      "2019-10      2.23      3.89      4.35      3.30      4.64      1.77      1.38   \n",
      "2019-11      5.88      6.72      5.70      5.06      3.67      4.36      1.57   \n",
      "2019-12      5.04      3.08      3.55      1.46      2.71      2.28      2.61   \n",
      "\n",
      "         ExcessP9  ExcessP10  ExcessP11  \n",
      "1964-07      1.76       0.40      -1.23  \n",
      "1964-08     -2.00      -1.19       0.41  \n",
      "1964-09      1.96       6.09       0.60  \n",
      "1964-10      0.72      -0.28      -1.51  \n",
      "1964-11     -0.47      -0.25       3.09  \n",
      "...           ...        ...        ...  \n",
      "2019-08      0.75      -0.47      11.75  \n",
      "2019-09      0.16      -3.21      -8.35  \n",
      "2019-10      0.86      -0.55       3.52  \n",
      "2019-11      2.83       3.31      -0.45  \n",
      "2019-12      1.98       4.46      -6.46  \n",
      "\n",
      "[666 rows x 29 columns]\n"
     ]
    },
    {
     "name": "stderr",
     "output_type": "stream",
     "text": [
      "/var/folders/zx/2ff938wn7d11yl1k3djhsp880000gn/T/ipykernel_92321/238922957.py:55: SettingWithCopyWarning: \n",
      "A value is trying to be set on a copy of a slice from a DataFrame.\n",
      "Try using .loc[row_indexer,col_indexer] = value instead\n",
      "\n",
      "See the caveats in the documentation: https://pandas.pydata.org/pandas-docs/stable/user_guide/indexing.html#returning-a-view-versus-a-copy\n",
      "  mom_strategy_full[new_col] = mom_strategy_full[orig_col] * 100\n",
      "/var/folders/zx/2ff938wn7d11yl1k3djhsp880000gn/T/ipykernel_92321/238922957.py:55: SettingWithCopyWarning: \n",
      "A value is trying to be set on a copy of a slice from a DataFrame.\n",
      "Try using .loc[row_indexer,col_indexer] = value instead\n",
      "\n",
      "See the caveats in the documentation: https://pandas.pydata.org/pandas-docs/stable/user_guide/indexing.html#returning-a-view-versus-a-copy\n",
      "  mom_strategy_full[new_col] = mom_strategy_full[orig_col] * 100\n",
      "/var/folders/zx/2ff938wn7d11yl1k3djhsp880000gn/T/ipykernel_92321/238922957.py:55: SettingWithCopyWarning: \n",
      "A value is trying to be set on a copy of a slice from a DataFrame.\n",
      "Try using .loc[row_indexer,col_indexer] = value instead\n",
      "\n",
      "See the caveats in the documentation: https://pandas.pydata.org/pandas-docs/stable/user_guide/indexing.html#returning-a-view-versus-a-copy\n",
      "  mom_strategy_full[new_col] = mom_strategy_full[orig_col] * 100\n",
      "/var/folders/zx/2ff938wn7d11yl1k3djhsp880000gn/T/ipykernel_92321/238922957.py:55: SettingWithCopyWarning: \n",
      "A value is trying to be set on a copy of a slice from a DataFrame.\n",
      "Try using .loc[row_indexer,col_indexer] = value instead\n",
      "\n",
      "See the caveats in the documentation: https://pandas.pydata.org/pandas-docs/stable/user_guide/indexing.html#returning-a-view-versus-a-copy\n",
      "  mom_strategy_full[new_col] = mom_strategy_full[orig_col] * 100\n",
      "/var/folders/zx/2ff938wn7d11yl1k3djhsp880000gn/T/ipykernel_92321/238922957.py:55: SettingWithCopyWarning: \n",
      "A value is trying to be set on a copy of a slice from a DataFrame.\n",
      "Try using .loc[row_indexer,col_indexer] = value instead\n",
      "\n",
      "See the caveats in the documentation: https://pandas.pydata.org/pandas-docs/stable/user_guide/indexing.html#returning-a-view-versus-a-copy\n",
      "  mom_strategy_full[new_col] = mom_strategy_full[orig_col] * 100\n"
     ]
    }
   ],
   "source": [
    "merged_data = []\n",
    "\n",
    "# set url for the datafiles\n",
    "\n",
    "url_P10umd = 'https://github.com/Sebasleen/Seminargroup/raw/Seminar/Data/P10UMD.dta'\n",
    "url_tsfactor = 'https://github.com/Sebasleen/Seminargroup/raw/Seminar/Data/TSFactor.dta'\n",
    "url_umd = 'https://github.com/Sebasleen/Seminargroup/raw/Seminar/Data/FactorUMD.dta'\n",
    "\n",
    "# import the datafiles and the needed columns\n",
    "p10umd = pd.read_stata(url_P10umd)\n",
    "tsfactor = pd.read_stata(url_tsfactor)[['year', 'month', 'TSMom', 'yyyymm']]\n",
    "factor_umd = pd.read_stata(url_umd)[['year', 'month', 'umd']]\n",
    "#oos_tsmom = pd.read_stata(\"oos_tsmom_scs.dta\")[['yyyymm', 'tsmom1', 'tsmom2', 'tsmom3', 'tsmom4', 'tsmom5']]\n",
    "\n",
    "# create yyyy-mm date indexes for tsfactor, p10umd and factor_umd\n",
    "\n",
    "tsfactor.set_index('yyyymm', inplace=True)\n",
    "tsfactor.index = pd.to_datetime(tsfactor.index, format='%Y%m')\n",
    "tsfactor.index = tsfactor.index.strftime('%Y-%m')\n",
    "tsfactor.drop(columns =['year', 'month'], inplace=True)\n",
    "\n",
    "p10umd['date'] = pd.to_datetime(p10umd['year'].astype(str) + '-' + p10umd['month'].astype(str))\n",
    "p10umd.set_index('date', inplace=True)\n",
    "p10umd.index = pd.to_datetime(p10umd.index, format='%Y%m')\n",
    "p10umd.index = p10umd.index.strftime('%Y-%m')\n",
    "p10umd.drop(columns =['year', 'month'], inplace=True)\n",
    "\n",
    "factor_umd['date'] = pd.to_datetime(factor_umd['year'].astype(str) + '-' + factor_umd['month'].astype(str))\n",
    "factor_umd.set_index('date', inplace=True)\n",
    "factor_umd.index = pd.to_datetime(factor_umd.index, format='%Y%m')\n",
    "factor_umd.index = factor_umd.index.strftime('%Y-%m')\n",
    "factor_umd.drop(columns =['year', 'month'], inplace=True)\n",
    "\n",
    "# select our appropriate time frame for table 4: July 1964 until December 2019 (except for our PC column, which has the data range from July 1973 until December 2019\n",
    "\n",
    "p10umd_range = p10umd.loc['1964-07':'2019-12']\n",
    "factor_umd_range = factor_umd.loc['1964-07':'2019-12']\n",
    "tsfactor_range = tsfactor.loc['1964-07':'2019-12']\n",
    "\n",
    "# we already loaded the ff5 in the previous cell, therefore we only adjust the time range to match table 4. \n",
    "ff5_range = ff[['rf', 'mktrf', 'smb', 'hml', 'rmw', 'cma']].loc['1964-07':'2019-12']\n",
    "\n",
    "# we multiply by 100, because our other datasets are in percentage\n",
    "ff5_range = ff5_range * 100\n",
    "\n",
    "# merge all datasets except for principal component return\n",
    "merged_data = pd.concat([p10umd_range, factor_umd_range, tsfactor_range, ff5_range], axis=1)\n",
    "print(merged_data)\n",
    "\n",
    "\n",
    "# multiply the columns of mom_strategy_full by 100\n",
    "mom_strategy_decile = mom_strategy_full * 100\n",
    "\n",
    "# calculate the excess returns for the decile portfolios\n",
    "for i in range(1, 11):\n",
    "    merged_data[f'ExcessP{i}'] = merged_data[f'p{i}'] - merged_data['rf']\n",
    "\n",
    "# assign portfolio 11 for high-minus-low\n",
    "merged_data['ExcessP11'] = merged_data['ExcessP10'] - merged_data['ExcessP1']\n",
    "\n",
    "# Create a second dataframe for the Principal Component model, which has less observations (July 1973 unitl December 2019). Hence we first select all observations within this timeframe from our merged data set\n",
    "merged_data_partially = merged_data.loc['1973-07':'2019-12']\n",
    "merged_data_pca = pd.concat([merged_data_partially, mom_strategy_decile], axis=1)\n",
    "\n",
    "print(merged_data)\n"
   ],
   "metadata": {
    "collapsed": false,
    "ExecuteTime": {
     "end_time": "2024-02-26T18:30:35.180009Z",
     "start_time": "2024-02-26T18:30:02.772645Z"
    }
   },
   "id": "f01dc087ea1a2fd8",
   "execution_count": 56
  },
  {
   "cell_type": "markdown",
   "source": [
    "### replicating panel A"
   ],
   "metadata": {
    "collapsed": false
   },
   "id": "5d67b23b69ca6ac5"
  },
  {
   "cell_type": "markdown",
   "source": [
    "### the fama french 5 factor model (ff5)"
   ],
   "metadata": {
    "collapsed": false
   },
   "id": "487d3bc92f6485d8"
  },
  {
   "cell_type": "code",
   "outputs": [],
   "source": [
    "# create an empty lists for the estimate results of the fama french 5 factor model \n",
    "estimatesFF5_list = []\n",
    "\n",
    "# momentum sorted portfolios with FF5\n",
    "for i in range(1, 12):\n",
    "    X = sm.add_constant(merged_data[['mktrf', 'smb', 'hml', 'cma', 'rmw']])\n",
    "    model = sm.OLS(merged_data[f'ExcessP{i}'], X).fit()\n",
    "    estimatesFF5_list.append(model)\n",
    "\n",
    "for i, est in enumerate(estimatesFF5_list, start=1):\n",
    "    print(f\"\\nRegression Results for Excess Portfolio Returns with FF5 - Portfolio {i}:\\n\")\n",
    "    print(est.summary())"
   ],
   "metadata": {
    "collapsed": false
   },
   "id": "cc9cd4569b3ca321"
  },
  {
   "cell_type": "code",
   "outputs": [],
   "source": [
    "print(\"Results for FF5 Model:\\n\")\n",
    "resultsFF5_list = []\n",
    "\n",
    "# calculating the results for the Fama French 5 factor model \n",
    "for i, est_FF5 in enumerate(estimatesFF5_list, start=1):\n",
    "    result_row = {\n",
    "        'Decile': f'{i}',\n",
    "        'FF5_Alpha': f'{est_FF5.params[\"const\"]:.2f}',\n",
    "    }\n",
    "    t_stat_row = {\n",
    "        'Decile': f'',\n",
    "        'FF5_Alpha': f'({est_FF5.tvalues[\"const\"]:.2f})',\n",
    "    }\n",
    "    resultsFF5_list.append(result_row)\n",
    "    resultsFF5_list.append(t_stat_row)\n",
    "\n",
    "resultsFF5_df = pd.DataFrame(resultsFF5_list)\n",
    "print(resultsFF5_df)"
   ],
   "metadata": {
    "collapsed": false
   },
   "id": "9cfe5d138500c644"
  },
  {
   "cell_type": "markdown",
   "source": [
    "### the umd model (including ff5)"
   ],
   "metadata": {
    "collapsed": false
   },
   "id": "d3245cf017d1aa3a"
  },
  {
   "cell_type": "code",
   "outputs": [],
   "source": [
    "estimatesUMD_list = []\n",
    "\n",
    "# Momentum sorted portfolios with FF5 + UMD\n",
    "for i in range(1, 12):\n",
    "    X = sm.add_constant(merged_data[['mktrf', 'smb', 'hml', 'cma', 'rmw', 'umd']])\n",
    "    model = sm.OLS(merged_data[f'ExcessP{i}'], X).fit()\n",
    "    estimatesUMD_list.append(model)\n",
    "\n",
    "for i, est in enumerate(estimatesUMD_list, start=1):\n",
    "    print(f\"\\nRegression Results for Excess Portfolio Returns with FF5 + UMD - Portfolio {i}:\\n\")\n",
    "    print(est.summary())\n"
   ],
   "metadata": {
    "collapsed": false
   },
   "id": "d1b0e429981781ba"
  },
  {
   "cell_type": "code",
   "outputs": [],
   "source": [
    "print(\"Results for FF5 + UMD Model:\\n\")\n",
    "resultsUMD_list = []\n",
    "\n",
    "# Results for FF5 + UMD\n",
    "for i, est_umd in enumerate(estimatesUMD_list, start=1):\n",
    "    result_row = {\n",
    "        'Decile': f'{i}',\n",
    "        'UMD_Alpha': f'{est_umd.params[\"const\"]:.2f}',\n",
    "        'UMD_Coefficient': f'{est_umd.params[\"umd\"]:.2f}'\n",
    "    }\n",
    "    t_stat_row = {\n",
    "        'Decile': f'',\n",
    "        'UMD_Alpha': f'({est_umd.tvalues[\"const\"]:.2f})',\n",
    "        'UMD_Coefficient': f'({est_umd.tvalues[\"umd\"]:.2f})'\n",
    "    }\n",
    "    resultsUMD_list.append(result_row)\n",
    "    resultsUMD_list.append(t_stat_row)\n",
    "\n",
    "resultsUMD_df = pd.DataFrame(resultsUMD_list)\n",
    "print(resultsUMD_df)\n"
   ],
   "metadata": {
    "collapsed": false
   },
   "id": "c43814d6442c1c2d"
  },
  {
   "cell_type": "markdown",
   "source": [
    "### factor momentum (using factors from table 1) including ff5"
   ],
   "metadata": {
    "collapsed": false
   },
   "id": "ecb317ad17a9ac90"
  },
  {
   "cell_type": "code",
   "outputs": [],
   "source": [
    "estimatesFMOMind_list = []\n",
    "\n",
    "# Momentum sorted portfolios with FF5 + MOMind\n",
    "for i in range(1, 12):\n",
    "    X = sm.add_constant(merged_data[['mktrf', 'smb', 'hml', 'cma', 'rmw', 'TSMom']])\n",
    "    model = sm.OLS(merged_data[f'ExcessP{i}'], X).fit()\n",
    "    estimatesFMOMind_list.append(model)\n",
    "\n",
    "for i, est in enumerate(estimatesFMOMind_list, start=1):\n",
    "    print(f\"\\nRegression Results for Excess Portfolio Returns with FF5 + FMOMind - Portfolio {i}:\\n\")\n",
    "    print(est.summary())"
   ],
   "metadata": {
    "collapsed": false
   },
   "id": "a4ce7f535f24d44b"
  },
  {
   "cell_type": "code",
   "outputs": [],
   "source": [
    "print(\"Results for FF5 + FMOMind Model:\\n\")\n",
    "resultsFMOMind_list = []\n",
    "\n",
    "# Results for FF5 + FMOMind\n",
    "for i, est_FMOMind in enumerate(estimatesFMOMind_list, start=1):\n",
    "    result_row = {\n",
    "        'Decile': f'{i}',\n",
    "        'FMOMind_Alpha': f'{est_FMOMind.params[\"const\"]:.2f}',\n",
    "        'FMOMind_Coefficient': f'{est_FMOMind.params[\"TSMom\"]:.2f}'\n",
    "    }\n",
    "    t_stat_row = {\n",
    "        'Decile': f'',\n",
    "        'FMOMind_Alpha': f'({est_FMOMind.tvalues[\"const\"]:.2f})',\n",
    "        'FMOMind_Coefficient': f'({est_FMOMind.tvalues[\"TSMom\"]:.2f})'\n",
    "    }\n",
    "    resultsFMOMind_list.append(result_row)\n",
    "    resultsFMOMind_list.append(t_stat_row)\n",
    "\n",
    "resultsFMOMind_df = pd.DataFrame(resultsFMOMind_list)\n",
    "print(resultsFMOMind_df)"
   ],
   "metadata": {
    "collapsed": false
   },
   "id": "a1132e192a1d62fd"
  },
  {
   "cell_type": "markdown",
   "source": [
    "### factor momentum (using the PC factors 1-10) including ff5"
   ],
   "metadata": {
    "collapsed": false
   },
   "id": "8f0eb3f8782e5a51"
  },
  {
   "cell_type": "code",
   "outputs": [],
   "source": [
    "estimatesFMOMpc_list = []\n",
    "\n",
    "# Momentum sorted portfolios with FF5 + UMD\n",
    "for i in range(1, 12):\n",
    "    X = sm.add_constant(merged_data_pca[['mktrf', 'smb', 'hml', 'cma', 'rmw', 'mom_set_1']])\n",
    "    model = sm.OLS(merged_data_pca[f'ExcessP{i}'], X).fit()\n",
    "    estimatesFMOMpc_list.append(model)\n",
    "\n",
    "for i, est in enumerate(estimatesFMOMpc_list, start=1):\n",
    "    print(f\"\\nRegression Results for Excess Portfolio Returns with FF5 + FMOMpc - Portfolio {i}:\\n\")\n",
    "    print(est.summary())"
   ],
   "metadata": {
    "collapsed": false
   },
   "id": "dd44446a9ba4b1e1"
  },
  {
   "cell_type": "code",
   "outputs": [],
   "source": [
    "print(\"Results for FF5 + FMOMpc Model:\\n\")\n",
    "resultsFMOMpc_list = []\n",
    "\n",
    "# Append results for FF5 + FMOMind\n",
    "for i, est_FMOMpc in enumerate(estimatesFMOMpc_list, start=1):\n",
    "    result_row = {\n",
    "        'Decile': f'{i}',\n",
    "        'FMOMpc_Alpha': f'{est_FMOMpc.params[\"const\"]:.2f}',\n",
    "        'FMOMpc_Coefficient': f'{est_FMOMpc.params[\"mom_set_1\"]:.2f}'\n",
    "    }\n",
    "    t_stat_row = {\n",
    "        'Decile': f'',\n",
    "        'FMOMpc_Alpha': f'({est_FMOMpc.tvalues[\"const\"]:.2f})',\n",
    "        'FMOMpc_Coefficient': f'({est_FMOMpc.tvalues[\"mom_set_1\"]:.2f})'\n",
    "    }\n",
    "    resultsFMOMpc_list.append(result_row)\n",
    "    resultsFMOMpc_list.append(t_stat_row)\n",
    "\n",
    "# convert the list of results to a DataFrame\n",
    "resultsFMOMpc_df = pd.DataFrame(resultsFMOMpc_list)\n",
    "\n",
    "# Display the results DataFrame\n",
    "print(resultsFMOMpc_df)"
   ],
   "metadata": {
    "collapsed": false
   },
   "id": "44737d8253f4e525"
  },
  {
   "cell_type": "markdown",
   "source": [
    "### merging results into onde dataframe"
   ],
   "metadata": {
    "collapsed": false
   },
   "id": "56cfbdcdcfe055da"
  },
  {
   "cell_type": "code",
   "outputs": [],
   "source": [
    "resultsUMD_df = resultsUMD_df.drop(columns=['Decile'])\n",
    "resultsFMOMind_df = resultsFMOMind_df.drop(columns=['Decile'])\n",
    "resultsFMOMpc_df = resultsFMOMpc_df.drop(columns=['Decile'])\n",
    "\n",
    "# Merge the results\n",
    "table_results = pd.concat([resultsFF5_df, resultsUMD_df, resultsFMOMind_df, resultsFMOMpc_df], axis=1)\n",
    "\n",
    "print(table_results)"
   ],
   "metadata": {
    "collapsed": false
   },
   "id": "1e2e348150b8e29"
  },
  {
   "cell_type": "markdown",
   "source": [
    "### calculating alphas for the respective models"
   ],
   "metadata": {
    "collapsed": false
   },
   "id": "10073f00cc9615a2"
  },
  {
   "cell_type": "code",
   "outputs": [],
   "source": [
    "alpha_means_FF5 = []\n",
    "alpha_means_UMD = []\n",
    "alpha_means_FMOMind = []\n",
    "alpha_means_FMOMpc = []\n",
    "\n",
    "# calculate the absolute values of the alphas\n",
    "for i, est_ff5 in enumerate(estimatesFF5_list, start=1):\n",
    "    alpha_mean_ff5 = np.abs(est_ff5.params['const']).mean()\n",
    "    alpha_means_FF5.append(alpha_mean_ff5)\n",
    "\n",
    "for i, est_umd in enumerate(estimatesUMD_list, start=1):\n",
    "    alpha_mean_umd = np.abs(est_umd.params['const']).mean()\n",
    "    alpha_means_UMD.append(alpha_mean_umd)\n",
    "\n",
    "for i, est_fmomind in enumerate(estimatesFMOMind_list, start=1):\n",
    "    alpha_mean_fmomind = np.abs(est_fmomind.params['const']).mean()\n",
    "    alpha_means_FMOMind.append(alpha_mean_fmomind)\n",
    "\n",
    "for i, est_fmompc in enumerate(estimatesFMOMpc_list, start=1):\n",
    "    alpha_mean_fmompc = np.abs(est_fmompc.params['const']).mean()\n",
    "    alpha_means_FMOMpc.append(alpha_mean_fmompc)\n",
    "\n",
    "# calculate the absolute mean alphas for the different models except for the winners-losers portfolio\n",
    "Avg_alpha_FF5 = np.mean(alpha_means_FF5[:-1])\n",
    "Avg_alpha_UMD = np.mean(alpha_means_UMD[:-1])\n",
    "Avg_alpha_FMOMind = np.mean(alpha_means_FMOMind[:-1])\n",
    "Avg_alpha_FMOMpc = np.mean(alpha_means_FMOMpc[:-1])\n",
    "\n",
    "# create a DataFrame for average alphas\n",
    "avg_alphas_df = pd.DataFrame({\n",
    "    'Model': ['FF5', 'UMD', 'FMOMind', 'FMOMpc'],\n",
    "    'Avg_alpha': [Avg_alpha_FF5, Avg_alpha_UMD, Avg_alpha_FMOMind, Avg_alpha_FMOMpc]\n",
    "})\n",
    "\n",
    "# print the results\n",
    "print(avg_alphas_df)"
   ],
   "metadata": {
    "collapsed": false
   },
   "id": "1d0f995efa56d436"
  },
  {
   "cell_type": "markdown",
   "source": [
    "### replicating panel B"
   ],
   "metadata": {
    "collapsed": false
   },
   "id": "24e10fb5627513ab"
  },
  {
   "cell_type": "code",
   "outputs": [],
   "source": [
    "# selecting our independent variables (using umd as our dependent variable)\n",
    "independent_vars_ff5 = ['mktrf', 'smb', 'hml', 'cma', 'rmw']\n",
    "\n",
    "# Augment the FF5 model with different subsets of PC factors\n",
    "independent_vars_mom1 = ['mktrf', 'smb', 'hml', 'cma', 'rmw', 'mom_set_1']\n",
    "independent_vars_mom2 = ['mktrf', 'smb', 'hml', 'cma', 'rmw', 'mom_set_2']\n",
    "independent_vars_mom3 = ['mktrf', 'smb', 'hml', 'cma', 'rmw', 'mom_set_3']\n",
    "independent_vars_mom4 = ['mktrf', 'smb', 'hml', 'cma', 'rmw', 'mom_set_4']\n",
    "independent_vars_mom5 = ['mktrf', 'smb', 'hml', 'cma', 'rmw', 'mom_set_5']\n",
    "\n",
    "# create a list to store the results\n",
    "results_list = []\n",
    "\n",
    "# fit the FF5 model\n",
    "X_ff5 = sm.add_constant(merged_data_pca[independent_vars_ff5])\n",
    "model_ff5 = sm.OLS(merged_data_pca['umd'], X_ff5)\n",
    "results_ff5 = model_ff5.fit()\n",
    "\n",
    "# record the results for the FF5 model (only alpha)\n",
    "results_list.append({\n",
    "    'Model': 'FF5',\n",
    "    'Alpha': results_ff5.params['const'],\n",
    "    'Alpha T-stat': results_ff5.tvalues['const'],\n",
    "    'FMom Slope':' ',\n",
    "    'FMom Slope T-stat':' ',\n",
    "    'R-squared_adj': results_ff5.rsquared_adj\n",
    "})\n",
    "\n",
    "# Fit models with different subsets of PC factors\n",
    "for subset_vars in [independent_vars_mom1, independent_vars_mom2, independent_vars_mom3, independent_vars_mom4, independent_vars_mom5]:\n",
    "    X_subset = sm.add_constant(merged_data_pca[subset_vars])\n",
    "    model_subset = sm.OLS(merged_data_pca['umd'], X_subset)\n",
    "    results_subset = model_subset.fit()\n",
    "\n",
    "    # Record the results for each subset, including the alpha and slope for pctsmom factor\n",
    "    results_list.append({\n",
    "        'Model': ' + '.join(subset_vars[-1:]),\n",
    "        'Alpha': results_subset.params['const'],\n",
    "        'Alpha T-stat': results_subset.tvalues['const'],\n",
    "        'FMom Slope': results_subset.params[subset_vars[-1:][0]],\n",
    "        'FMom Slope T-stat': results_subset.tvalues[subset_vars[-1:][0]],\n",
    "        'R-squared_adj': results_subset.rsquared_adj\n",
    "    })\n",
    "\n",
    "# Create a DataFrame from the list of results\n",
    "results_df = pd.DataFrame(results_list)\n",
    "\n",
    "# Display the results\n",
    "print(results_df)"
   ],
   "metadata": {
    "collapsed": false
   },
   "id": "f5f08406e48435fa"
  }
 ],
 "metadata": {
  "kernelspec": {
   "display_name": "Python 3",
   "language": "python",
   "name": "python3"
  },
  "language_info": {
   "codemirror_mode": {
    "name": "ipython",
    "version": 2
   },
   "file_extension": ".py",
   "mimetype": "text/x-python",
   "name": "python",
   "nbconvert_exporter": "python",
   "pygments_lexer": "ipython2",
   "version": "2.7.6"
  }
 },
 "nbformat": 4,
 "nbformat_minor": 5
}
